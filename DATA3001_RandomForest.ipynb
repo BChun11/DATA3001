{
  "nbformat": 4,
  "nbformat_minor": 0,
  "metadata": {
    "colab": {
      "provenance": [],
      "authorship_tag": "ABX9TyPm5PN1vvIfvNdPOZEV31Di",
      "include_colab_link": true
    },
    "kernelspec": {
      "name": "python3",
      "display_name": "Python 3"
    },
    "language_info": {
      "name": "python"
    }
  },
  "cells": [
    {
      "cell_type": "markdown",
      "metadata": {
        "id": "view-in-github",
        "colab_type": "text"
      },
      "source": [
        "<a href=\"https://colab.research.google.com/github/BChun11/DATA3001/blob/main/DATA3001_RandomForest.ipynb\" target=\"_parent\"><img src=\"https://colab.research.google.com/assets/colab-badge.svg\" alt=\"Open In Colab\"/></a>"
      ]
    },
    {
      "cell_type": "code",
      "execution_count": null,
      "metadata": {
        "id": "dA3C2C_bd95o"
      },
      "outputs": [],
      "source": [
        "# Import required libraries\n",
        "import os\n",
        "import pandas as pd\n",
        "import numpy as np\n",
        "import seaborn as sns\n",
        "import matplotlib.pyplot as plt\n",
        "import hashlib\n",
        "from scipy.stats import randint\n",
        "\n",
        "from sklearn.model_selection import train_test_split, GridSearchCV, RandomizedSearchCV\n",
        "from sklearn.tree import DecisionTreeClassifier\n",
        "from sklearn.ensemble import RandomForestClassifier, RandomForestRegressor\n",
        "from sklearn.metrics import mean_absolute_error, roc_auc_score, f1_score, classification_report\n",
        "from sklearn.preprocessing import LabelEncoder\n",
        "from sklearn.impute import SimpleImputer"
      ]
    },
    {
      "cell_type": "code",
      "source": [
        "# Download all the files into google colab environment\n",
        "!git clone https://github.com/nokuik/KDDI-IoT-2019.git"
      ],
      "metadata": {
        "colab": {
          "base_uri": "https://localhost:8080/"
        },
        "id": "iMTowF9meEgR",
        "outputId": "6fbb93aa-aa91-4af0-b4c1-41c898502525"
      },
      "execution_count": 2,
      "outputs": [
        {
          "output_type": "stream",
          "name": "stdout",
          "text": [
            "Cloning into 'KDDI-IoT-2019'...\n",
            "remote: Enumerating objects: 42, done.\u001b[K\n",
            "remote: Counting objects: 100% (9/9), done.\u001b[K\n",
            "remote: Compressing objects: 100% (5/5), done.\u001b[K\n",
            "remote: Total 42 (delta 1), reused 9 (delta 1), pack-reused 33\u001b[K\n",
            "Receiving objects: 100% (42/42), 776.84 MiB | 21.16 MiB/s, done.\n",
            "Resolving deltas: 100% (1/1), done.\n",
            "Updating files: 100% (31/31), done.\n"
          ]
        }
      ]
    },
    {
      "cell_type": "code",
      "source": [
        "# List all '.tar.gz files in ipfix directory\n",
        "%cd KDDI-IoT-2019\n",
        "%cd ipfix\n",
        "!ls *.tar.gz"
      ],
      "metadata": {
        "colab": {
          "base_uri": "https://localhost:8080/"
        },
        "id": "_5D_tltveJnF",
        "outputId": "801dc6c2-6220-402a-cdf8-d0e20b8130e9"
      },
      "execution_count": 3,
      "outputs": [
        {
          "output_type": "stream",
          "name": "stdout",
          "text": [
            "/content/KDDI-IoT-2019\n",
            "/content/KDDI-IoT-2019/ipfix\n",
            " amazon_echo_gen2.tar.gz\t\t        nature_remo.tar.gz\n",
            " au_network_camera.tar.gz\t\t        panasonic_doorphone.tar.gz\n",
            " au_wireless_adapter.tar.gz\t\t        philips_hue_bridge.tar.gz\n",
            " bitfinder_awair_breathe_easy.tar.gz\t       'planex_camera_one_shot!.tar.gz'\n",
            " candy_house_sesami_wi-fi_access_point.tar.gz   planex_smacam_outdoor.tar.gz\n",
            " irobot_roomba.tar.gz\t\t\t        planex_smacam_pantilt.tar.gz\n",
            " jvc_kenwood_cu-hb1.tar.gz\t\t        powerelectric_wi-fi_plug.tar.gz\n",
            " jvc_kenwood_hdtv_ip_camera.tar.gz\t        qrio_hub.tar.gz\n",
            " line_clova_wave.tar.gz\t\t\t        sony_network_camera.tar.gz\n",
            " link_japan_eremote.tar.gz\t\t        sony_smart_speaker.tar.gz\n",
            " mouse_computer_room_hub.tar.gz\t\t        xiaomi_mijia_led.tar.gz\n"
          ]
        }
      ]
    },
    {
      "cell_type": "code",
      "source": [
        "# List all tar.gz files and store them in a variable\n",
        "files = !ls -1 *.tar.gz\n",
        "\n",
        "# Extract each tar.gz file\n",
        "for file in files:\n",
        "    print(f\"Extract {file} \")\n",
        "    !tar -xzvf {file}"
      ],
      "metadata": {
        "colab": {
          "base_uri": "https://localhost:8080/"
        },
        "id": "6IcySpdIeK9i",
        "outputId": "73f53b0a-c9df-4273-9e09-eb728bdf5abd"
      },
      "execution_count": 4,
      "outputs": [
        {
          "output_type": "stream",
          "name": "stdout",
          "text": [
            "Extract amazon_echo_gen2.tar.gz \n",
            "amazon_echo_gen2.json\n",
            "Extract au_network_camera.tar.gz \n",
            "au_network_camera.json\n",
            "Extract au_wireless_adapter.tar.gz \n",
            "au_wireless_adapter.json\n",
            "Extract bitfinder_awair_breathe_easy.tar.gz \n",
            "bitfinder_awair_breathe_easy.json\n",
            "Extract candy_house_sesami_wi-fi_access_point.tar.gz \n",
            "candy_house_sesami_wi-fi_access_point.json\n",
            "Extract irobot_roomba.tar.gz \n",
            "irobot_roomba.json\n",
            "Extract jvc_kenwood_cu-hb1.tar.gz \n",
            "jvc_kenwood_cu-hb1.json\n",
            "Extract jvc_kenwood_hdtv_ip_camera.tar.gz \n",
            "jvc_kenwood_hdtv_ip_camera.json\n",
            "Extract line_clova_wave.tar.gz \n",
            "line_clova_wave.json\n",
            "Extract link_japan_eremote.tar.gz \n",
            "link_japan_eremote.json\n",
            "Extract mouse_computer_room_hub.tar.gz \n",
            "mouse_computer_room_hub.json\n",
            "Extract nature_remo.tar.gz \n",
            "nature_remo.json\n",
            "Extract panasonic_doorphone.tar.gz \n",
            "panasonic_doorphone.json\n",
            "Extract philips_hue_bridge.tar.gz \n",
            "philips_hue_bridge.json\n",
            "Extract 'planex_camera_one_shot!.tar.gz' \n",
            "planex_camera_one_shot!.json\n",
            "Extract planex_smacam_outdoor.tar.gz \n",
            "planex_smacam_outdoor.json\n",
            "Extract planex_smacam_pantilt.tar.gz \n",
            "planex_smacam_pantilt.json\n",
            "Extract powerelectric_wi-fi_plug.tar.gz \n",
            "powerelectric_wi-fi_plug.json\n",
            "Extract qrio_hub.tar.gz \n",
            "qrio_hub.json\n",
            "Extract sony_network_camera.tar.gz \n",
            "sony_network_camera.json\n",
            "Extract sony_smart_speaker.tar.gz \n",
            "sony_smart_speaker.json\n",
            "Extract xiaomi_mijia_led.tar.gz \n",
            "xiaomi_mijia_led.json\n"
          ]
        }
      ]
    },
    {
      "cell_type": "code",
      "source": [
        "# Print the current working directory\n",
        "print(\"Current Working Directory:\", os.getcwd())\n",
        "\n",
        "# List the contents of the current working directory\n",
        "print(\"Contents of Current Directory:\", os.listdir())\n",
        "\n",
        "!cd"
      ],
      "metadata": {
        "colab": {
          "base_uri": "https://localhost:8080/"
        },
        "id": "nVZ_cJ0teMPG",
        "outputId": "6ddf34e3-b59e-4d89-ef6b-1bcaa4041c72"
      },
      "execution_count": 5,
      "outputs": [
        {
          "output_type": "stream",
          "name": "stdout",
          "text": [
            "Current Working Directory: /content/KDDI-IoT-2019/ipfix\n",
            "Contents of Current Directory: ['philips_hue_bridge.tar.gz', 'sony_network_camera.tar.gz', 'jvc_kenwood_hdtv_ip_camera.json', 'qrio_hub.tar.gz', 'au_wireless_adapter.json', 'powerelectric_wi-fi_plug.tar.gz', 'jvc_kenwood_hdtv_ip_camera.tar.gz', 'sony_smart_speaker.tar.gz', 'qrio_hub.json', 'panasonic_doorphone.tar.gz', 'jvc_kenwood_cu-hb1.tar.gz', 'jvc_kenwood_cu-hb1.json', 'panasonic_doorphone.json', 'planex_smacam_pantilt.tar.gz', 'i-o_data_qwatch.tar.gz00', 'planex_camera_one_shot!.json', 'au_network_camera.json', 'nature_remo.tar.gz', 'amazon_echo_gen2.json', 'bitfinder_awair_breathe_easy.json', 'planex_smacam_outdoor.tar.gz', 'powerelectric_wi-fi_plug.json', 'sony_network_camera.json', 'planex_smacam_outdoor.json', 'amazon_echo_gen2.tar.gz', 'mouse_computer_room_hub.tar.gz', 'candy_house_sesami_wi-fi_access_point.json', 'mouse_computer_room_hub.json', 'planex_smacam_pantilt.json', 'bitfinder_awair_breathe_easy.tar.gz', 'sony_bravia.tar.gz02', 'link_japan_eremote.json', 'irobot_roomba.json', 'sony_smart_speaker.json', 'sony_bravia.tar.gz01', 'au_wireless_adapter.tar.gz', 'i-o_data_qwatch.tar.gz01', 'link_japan_eremote.tar.gz', 'philips_hue_bridge.json', 'candy_house_sesami_wi-fi_access_point.tar.gz', 'au_network_camera.tar.gz', 'xiaomi_mijia_led.tar.gz', 'xiaomi_mijia_led.json', 'google_home_gen1.tar.gz01', 'irobot_roomba.tar.gz', 'planex_camera_one_shot!.tar.gz', 'google_home_gen1.tar.gz00', 'line_clova_wave.tar.gz', 'line_clova_wave.json', 'sony_bravia.tar.gz00', 'nature_remo.json']\n"
          ]
        }
      ]
    },
    {
      "cell_type": "code",
      "source": [
        "# Code to generate distinct tables for each json file using a limited subset\n",
        "\n",
        "# Define the directory where the JSON files are located\n",
        "json_directory = '/content/KDDI-IoT-2019/ipfix'\n",
        "\n",
        "# Get the list of all JSON files in the directory\n",
        "json_files = [f for f in os.listdir(json_directory) if f.endswith('.json')]\n",
        "\n",
        "# Create distinct tables for each json file\n",
        "tables = {}\n",
        "for json_file in json_files:\n",
        "    # strip .json suffix from device names\n",
        "    device_name = json_file.split('.')[0]\n",
        "    # Construct the full path to the JSON file\n",
        "    json_path = os.path.join(json_directory, json_file)\n",
        "    # Read the JSON file into a DataFrame, normalize the 'flows' column, and get the first 1000 rows\n",
        "    df = pd.json_normalize(pd.read_json(json_path, lines=True, nrows=1000)['flows'])\n",
        "    # Label the DataFrame with the device name\n",
        "    df['Device'] = device_name\n",
        "    tables[device_name] = df\n",
        "\n",
        "# Concatenate all the Dataframes in the tables dictionary into a single Dataframe\n",
        "df = pd.concat(tables.values(), ignore_index=True)\n",
        "df.head()\n"
      ],
      "metadata": {
        "id": "BqjoWkxJeQ5x",
        "colab": {
          "base_uri": "https://localhost:8080/",
          "height": 256
        },
        "outputId": "1fc47fbc-b92c-4dca-faa9-9f6c76caa3f4"
      },
      "execution_count": 6,
      "outputs": [
        {
          "output_type": "execute_result",
          "data": {
            "text/plain": [
              "     flowStartMilliseconds      flowEndMilliseconds  flowDurationMilliseconds  \\\n",
              "0  2019-06-25 08:36:35.447  2019-06-25 08:36:36.027                     0.580   \n",
              "1  2019-06-25 08:37:38.253  2019-06-25 08:37:38.833                     0.580   \n",
              "2  2019-06-25 08:38:40.977  2019-06-25 08:38:41.556                     0.579   \n",
              "3  2019-06-25 08:39:43.560  2019-06-25 08:39:44.137                     0.577   \n",
              "4  2019-06-25 08:40:46.447  2019-06-25 08:40:47.026                     0.579   \n",
              "\n",
              "   reverseFlowDeltaMilliseconds  protocolIdentifier sourceIPv4Address  \\\n",
              "0                           0.0                  17       192.168.1.1   \n",
              "1                           0.0                  17       192.168.1.1   \n",
              "2                           0.0                  17       192.168.1.1   \n",
              "3                           0.0                  17       192.168.1.1   \n",
              "4                           0.0                  17       192.168.1.1   \n",
              "\n",
              "   sourceTransportPort  packetTotalCount  octetTotalCount flowAttributes  ...  \\\n",
              "0                33611                 2              156             01  ...   \n",
              "1                53885                 2              156             01  ...   \n",
              "2                56915                 2              156             01  ...   \n",
              "3                52583                 2              156             01  ...   \n",
              "4                56244                 2              156             01  ...   \n",
              "\n",
              "  reverseNonEmptyPacketCount reverseDataByteCount  \\\n",
              "0                        NaN                  NaN   \n",
              "1                        NaN                  NaN   \n",
              "2                        NaN                  NaN   \n",
              "3                        NaN                  NaN   \n",
              "4                        NaN                  NaN   \n",
              "\n",
              "   reverseAverageInterarrivalTime  reverseFirstNonEmptyPacketSize  \\\n",
              "0                             NaN                             NaN   \n",
              "1                             NaN                             NaN   \n",
              "2                             NaN                             NaN   \n",
              "3                             NaN                             NaN   \n",
              "4                             NaN                             NaN   \n",
              "\n",
              "   reverseLargePacketCount reverseMaxPacketSize  \\\n",
              "0                      NaN                  NaN   \n",
              "1                      NaN                  NaN   \n",
              "2                      NaN                  NaN   \n",
              "3                      NaN                  NaN   \n",
              "4                      NaN                  NaN   \n",
              "\n",
              "  reverseStandardDeviationPayloadLength  \\\n",
              "0                                   NaN   \n",
              "1                                   NaN   \n",
              "2                                   NaN   \n",
              "3                                   NaN   \n",
              "4                                   NaN   \n",
              "\n",
              "  reverseStandardDeviationInterarrivalTime reverseBytesPerPacket  \\\n",
              "0                                      NaN                   NaN   \n",
              "1                                      NaN                   NaN   \n",
              "2                                      NaN                   NaN   \n",
              "3                                      NaN                   NaN   \n",
              "4                                      NaN                   NaN   \n",
              "\n",
              "                       Device  \n",
              "0  jvc_kenwood_hdtv_ip_camera  \n",
              "1  jvc_kenwood_hdtv_ip_camera  \n",
              "2  jvc_kenwood_hdtv_ip_camera  \n",
              "3  jvc_kenwood_hdtv_ip_camera  \n",
              "4  jvc_kenwood_hdtv_ip_camera  \n",
              "\n",
              "[5 rows x 55 columns]"
            ],
            "text/html": [
              "\n",
              "  <div id=\"df-3d7aec66-5e2f-4e87-b1bc-e4fc82de7b89\" class=\"colab-df-container\">\n",
              "    <div>\n",
              "<style scoped>\n",
              "    .dataframe tbody tr th:only-of-type {\n",
              "        vertical-align: middle;\n",
              "    }\n",
              "\n",
              "    .dataframe tbody tr th {\n",
              "        vertical-align: top;\n",
              "    }\n",
              "\n",
              "    .dataframe thead th {\n",
              "        text-align: right;\n",
              "    }\n",
              "</style>\n",
              "<table border=\"1\" class=\"dataframe\">\n",
              "  <thead>\n",
              "    <tr style=\"text-align: right;\">\n",
              "      <th></th>\n",
              "      <th>flowStartMilliseconds</th>\n",
              "      <th>flowEndMilliseconds</th>\n",
              "      <th>flowDurationMilliseconds</th>\n",
              "      <th>reverseFlowDeltaMilliseconds</th>\n",
              "      <th>protocolIdentifier</th>\n",
              "      <th>sourceIPv4Address</th>\n",
              "      <th>sourceTransportPort</th>\n",
              "      <th>packetTotalCount</th>\n",
              "      <th>octetTotalCount</th>\n",
              "      <th>flowAttributes</th>\n",
              "      <th>...</th>\n",
              "      <th>reverseNonEmptyPacketCount</th>\n",
              "      <th>reverseDataByteCount</th>\n",
              "      <th>reverseAverageInterarrivalTime</th>\n",
              "      <th>reverseFirstNonEmptyPacketSize</th>\n",
              "      <th>reverseLargePacketCount</th>\n",
              "      <th>reverseMaxPacketSize</th>\n",
              "      <th>reverseStandardDeviationPayloadLength</th>\n",
              "      <th>reverseStandardDeviationInterarrivalTime</th>\n",
              "      <th>reverseBytesPerPacket</th>\n",
              "      <th>Device</th>\n",
              "    </tr>\n",
              "  </thead>\n",
              "  <tbody>\n",
              "    <tr>\n",
              "      <th>0</th>\n",
              "      <td>2019-06-25 08:36:35.447</td>\n",
              "      <td>2019-06-25 08:36:36.027</td>\n",
              "      <td>0.580</td>\n",
              "      <td>0.0</td>\n",
              "      <td>17</td>\n",
              "      <td>192.168.1.1</td>\n",
              "      <td>33611</td>\n",
              "      <td>2</td>\n",
              "      <td>156</td>\n",
              "      <td>01</td>\n",
              "      <td>...</td>\n",
              "      <td>NaN</td>\n",
              "      <td>NaN</td>\n",
              "      <td>NaN</td>\n",
              "      <td>NaN</td>\n",
              "      <td>NaN</td>\n",
              "      <td>NaN</td>\n",
              "      <td>NaN</td>\n",
              "      <td>NaN</td>\n",
              "      <td>NaN</td>\n",
              "      <td>jvc_kenwood_hdtv_ip_camera</td>\n",
              "    </tr>\n",
              "    <tr>\n",
              "      <th>1</th>\n",
              "      <td>2019-06-25 08:37:38.253</td>\n",
              "      <td>2019-06-25 08:37:38.833</td>\n",
              "      <td>0.580</td>\n",
              "      <td>0.0</td>\n",
              "      <td>17</td>\n",
              "      <td>192.168.1.1</td>\n",
              "      <td>53885</td>\n",
              "      <td>2</td>\n",
              "      <td>156</td>\n",
              "      <td>01</td>\n",
              "      <td>...</td>\n",
              "      <td>NaN</td>\n",
              "      <td>NaN</td>\n",
              "      <td>NaN</td>\n",
              "      <td>NaN</td>\n",
              "      <td>NaN</td>\n",
              "      <td>NaN</td>\n",
              "      <td>NaN</td>\n",
              "      <td>NaN</td>\n",
              "      <td>NaN</td>\n",
              "      <td>jvc_kenwood_hdtv_ip_camera</td>\n",
              "    </tr>\n",
              "    <tr>\n",
              "      <th>2</th>\n",
              "      <td>2019-06-25 08:38:40.977</td>\n",
              "      <td>2019-06-25 08:38:41.556</td>\n",
              "      <td>0.579</td>\n",
              "      <td>0.0</td>\n",
              "      <td>17</td>\n",
              "      <td>192.168.1.1</td>\n",
              "      <td>56915</td>\n",
              "      <td>2</td>\n",
              "      <td>156</td>\n",
              "      <td>01</td>\n",
              "      <td>...</td>\n",
              "      <td>NaN</td>\n",
              "      <td>NaN</td>\n",
              "      <td>NaN</td>\n",
              "      <td>NaN</td>\n",
              "      <td>NaN</td>\n",
              "      <td>NaN</td>\n",
              "      <td>NaN</td>\n",
              "      <td>NaN</td>\n",
              "      <td>NaN</td>\n",
              "      <td>jvc_kenwood_hdtv_ip_camera</td>\n",
              "    </tr>\n",
              "    <tr>\n",
              "      <th>3</th>\n",
              "      <td>2019-06-25 08:39:43.560</td>\n",
              "      <td>2019-06-25 08:39:44.137</td>\n",
              "      <td>0.577</td>\n",
              "      <td>0.0</td>\n",
              "      <td>17</td>\n",
              "      <td>192.168.1.1</td>\n",
              "      <td>52583</td>\n",
              "      <td>2</td>\n",
              "      <td>156</td>\n",
              "      <td>01</td>\n",
              "      <td>...</td>\n",
              "      <td>NaN</td>\n",
              "      <td>NaN</td>\n",
              "      <td>NaN</td>\n",
              "      <td>NaN</td>\n",
              "      <td>NaN</td>\n",
              "      <td>NaN</td>\n",
              "      <td>NaN</td>\n",
              "      <td>NaN</td>\n",
              "      <td>NaN</td>\n",
              "      <td>jvc_kenwood_hdtv_ip_camera</td>\n",
              "    </tr>\n",
              "    <tr>\n",
              "      <th>4</th>\n",
              "      <td>2019-06-25 08:40:46.447</td>\n",
              "      <td>2019-06-25 08:40:47.026</td>\n",
              "      <td>0.579</td>\n",
              "      <td>0.0</td>\n",
              "      <td>17</td>\n",
              "      <td>192.168.1.1</td>\n",
              "      <td>56244</td>\n",
              "      <td>2</td>\n",
              "      <td>156</td>\n",
              "      <td>01</td>\n",
              "      <td>...</td>\n",
              "      <td>NaN</td>\n",
              "      <td>NaN</td>\n",
              "      <td>NaN</td>\n",
              "      <td>NaN</td>\n",
              "      <td>NaN</td>\n",
              "      <td>NaN</td>\n",
              "      <td>NaN</td>\n",
              "      <td>NaN</td>\n",
              "      <td>NaN</td>\n",
              "      <td>jvc_kenwood_hdtv_ip_camera</td>\n",
              "    </tr>\n",
              "  </tbody>\n",
              "</table>\n",
              "<p>5 rows × 55 columns</p>\n",
              "</div>\n",
              "    <div class=\"colab-df-buttons\">\n",
              "\n",
              "  <div class=\"colab-df-container\">\n",
              "    <button class=\"colab-df-convert\" onclick=\"convertToInteractive('df-3d7aec66-5e2f-4e87-b1bc-e4fc82de7b89')\"\n",
              "            title=\"Convert this dataframe to an interactive table.\"\n",
              "            style=\"display:none;\">\n",
              "\n",
              "  <svg xmlns=\"http://www.w3.org/2000/svg\" height=\"24px\" viewBox=\"0 -960 960 960\">\n",
              "    <path d=\"M120-120v-720h720v720H120Zm60-500h600v-160H180v160Zm220 220h160v-160H400v160Zm0 220h160v-160H400v160ZM180-400h160v-160H180v160Zm440 0h160v-160H620v160ZM180-180h160v-160H180v160Zm440 0h160v-160H620v160Z\"/>\n",
              "  </svg>\n",
              "    </button>\n",
              "\n",
              "  <style>\n",
              "    .colab-df-container {\n",
              "      display:flex;\n",
              "      gap: 12px;\n",
              "    }\n",
              "\n",
              "    .colab-df-convert {\n",
              "      background-color: #E8F0FE;\n",
              "      border: none;\n",
              "      border-radius: 50%;\n",
              "      cursor: pointer;\n",
              "      display: none;\n",
              "      fill: #1967D2;\n",
              "      height: 32px;\n",
              "      padding: 0 0 0 0;\n",
              "      width: 32px;\n",
              "    }\n",
              "\n",
              "    .colab-df-convert:hover {\n",
              "      background-color: #E2EBFA;\n",
              "      box-shadow: 0px 1px 2px rgba(60, 64, 67, 0.3), 0px 1px 3px 1px rgba(60, 64, 67, 0.15);\n",
              "      fill: #174EA6;\n",
              "    }\n",
              "\n",
              "    .colab-df-buttons div {\n",
              "      margin-bottom: 4px;\n",
              "    }\n",
              "\n",
              "    [theme=dark] .colab-df-convert {\n",
              "      background-color: #3B4455;\n",
              "      fill: #D2E3FC;\n",
              "    }\n",
              "\n",
              "    [theme=dark] .colab-df-convert:hover {\n",
              "      background-color: #434B5C;\n",
              "      box-shadow: 0px 1px 3px 1px rgba(0, 0, 0, 0.15);\n",
              "      filter: drop-shadow(0px 1px 2px rgba(0, 0, 0, 0.3));\n",
              "      fill: #FFFFFF;\n",
              "    }\n",
              "  </style>\n",
              "\n",
              "    <script>\n",
              "      const buttonEl =\n",
              "        document.querySelector('#df-3d7aec66-5e2f-4e87-b1bc-e4fc82de7b89 button.colab-df-convert');\n",
              "      buttonEl.style.display =\n",
              "        google.colab.kernel.accessAllowed ? 'block' : 'none';\n",
              "\n",
              "      async function convertToInteractive(key) {\n",
              "        const element = document.querySelector('#df-3d7aec66-5e2f-4e87-b1bc-e4fc82de7b89');\n",
              "        const dataTable =\n",
              "          await google.colab.kernel.invokeFunction('convertToInteractive',\n",
              "                                                    [key], {});\n",
              "        if (!dataTable) return;\n",
              "\n",
              "        const docLinkHtml = 'Like what you see? Visit the ' +\n",
              "          '<a target=\"_blank\" href=https://colab.research.google.com/notebooks/data_table.ipynb>data table notebook</a>'\n",
              "          + ' to learn more about interactive tables.';\n",
              "        element.innerHTML = '';\n",
              "        dataTable['output_type'] = 'display_data';\n",
              "        await google.colab.output.renderOutput(dataTable, element);\n",
              "        const docLink = document.createElement('div');\n",
              "        docLink.innerHTML = docLinkHtml;\n",
              "        element.appendChild(docLink);\n",
              "      }\n",
              "    </script>\n",
              "  </div>\n",
              "\n",
              "\n",
              "<div id=\"df-109ced61-df5f-4f9f-b9ea-530693597e15\">\n",
              "  <button class=\"colab-df-quickchart\" onclick=\"quickchart('df-109ced61-df5f-4f9f-b9ea-530693597e15')\"\n",
              "            title=\"Suggest charts.\"\n",
              "            style=\"display:none;\">\n",
              "\n",
              "<svg xmlns=\"http://www.w3.org/2000/svg\" height=\"24px\"viewBox=\"0 0 24 24\"\n",
              "     width=\"24px\">\n",
              "    <g>\n",
              "        <path d=\"M19 3H5c-1.1 0-2 .9-2 2v14c0 1.1.9 2 2 2h14c1.1 0 2-.9 2-2V5c0-1.1-.9-2-2-2zM9 17H7v-7h2v7zm4 0h-2V7h2v10zm4 0h-2v-4h2v4z\"/>\n",
              "    </g>\n",
              "</svg>\n",
              "  </button>\n",
              "\n",
              "<style>\n",
              "  .colab-df-quickchart {\n",
              "      --bg-color: #E8F0FE;\n",
              "      --fill-color: #1967D2;\n",
              "      --hover-bg-color: #E2EBFA;\n",
              "      --hover-fill-color: #174EA6;\n",
              "      --disabled-fill-color: #AAA;\n",
              "      --disabled-bg-color: #DDD;\n",
              "  }\n",
              "\n",
              "  [theme=dark] .colab-df-quickchart {\n",
              "      --bg-color: #3B4455;\n",
              "      --fill-color: #D2E3FC;\n",
              "      --hover-bg-color: #434B5C;\n",
              "      --hover-fill-color: #FFFFFF;\n",
              "      --disabled-bg-color: #3B4455;\n",
              "      --disabled-fill-color: #666;\n",
              "  }\n",
              "\n",
              "  .colab-df-quickchart {\n",
              "    background-color: var(--bg-color);\n",
              "    border: none;\n",
              "    border-radius: 50%;\n",
              "    cursor: pointer;\n",
              "    display: none;\n",
              "    fill: var(--fill-color);\n",
              "    height: 32px;\n",
              "    padding: 0;\n",
              "    width: 32px;\n",
              "  }\n",
              "\n",
              "  .colab-df-quickchart:hover {\n",
              "    background-color: var(--hover-bg-color);\n",
              "    box-shadow: 0 1px 2px rgba(60, 64, 67, 0.3), 0 1px 3px 1px rgba(60, 64, 67, 0.15);\n",
              "    fill: var(--button-hover-fill-color);\n",
              "  }\n",
              "\n",
              "  .colab-df-quickchart-complete:disabled,\n",
              "  .colab-df-quickchart-complete:disabled:hover {\n",
              "    background-color: var(--disabled-bg-color);\n",
              "    fill: var(--disabled-fill-color);\n",
              "    box-shadow: none;\n",
              "  }\n",
              "\n",
              "  .colab-df-spinner {\n",
              "    border: 2px solid var(--fill-color);\n",
              "    border-color: transparent;\n",
              "    border-bottom-color: var(--fill-color);\n",
              "    animation:\n",
              "      spin 1s steps(1) infinite;\n",
              "  }\n",
              "\n",
              "  @keyframes spin {\n",
              "    0% {\n",
              "      border-color: transparent;\n",
              "      border-bottom-color: var(--fill-color);\n",
              "      border-left-color: var(--fill-color);\n",
              "    }\n",
              "    20% {\n",
              "      border-color: transparent;\n",
              "      border-left-color: var(--fill-color);\n",
              "      border-top-color: var(--fill-color);\n",
              "    }\n",
              "    30% {\n",
              "      border-color: transparent;\n",
              "      border-left-color: var(--fill-color);\n",
              "      border-top-color: var(--fill-color);\n",
              "      border-right-color: var(--fill-color);\n",
              "    }\n",
              "    40% {\n",
              "      border-color: transparent;\n",
              "      border-right-color: var(--fill-color);\n",
              "      border-top-color: var(--fill-color);\n",
              "    }\n",
              "    60% {\n",
              "      border-color: transparent;\n",
              "      border-right-color: var(--fill-color);\n",
              "    }\n",
              "    80% {\n",
              "      border-color: transparent;\n",
              "      border-right-color: var(--fill-color);\n",
              "      border-bottom-color: var(--fill-color);\n",
              "    }\n",
              "    90% {\n",
              "      border-color: transparent;\n",
              "      border-bottom-color: var(--fill-color);\n",
              "    }\n",
              "  }\n",
              "</style>\n",
              "\n",
              "  <script>\n",
              "    async function quickchart(key) {\n",
              "      const quickchartButtonEl =\n",
              "        document.querySelector('#' + key + ' button');\n",
              "      quickchartButtonEl.disabled = true;  // To prevent multiple clicks.\n",
              "      quickchartButtonEl.classList.add('colab-df-spinner');\n",
              "      try {\n",
              "        const charts = await google.colab.kernel.invokeFunction(\n",
              "            'suggestCharts', [key], {});\n",
              "      } catch (error) {\n",
              "        console.error('Error during call to suggestCharts:', error);\n",
              "      }\n",
              "      quickchartButtonEl.classList.remove('colab-df-spinner');\n",
              "      quickchartButtonEl.classList.add('colab-df-quickchart-complete');\n",
              "    }\n",
              "    (() => {\n",
              "      let quickchartButtonEl =\n",
              "        document.querySelector('#df-109ced61-df5f-4f9f-b9ea-530693597e15 button');\n",
              "      quickchartButtonEl.style.display =\n",
              "        google.colab.kernel.accessAllowed ? 'block' : 'none';\n",
              "    })();\n",
              "  </script>\n",
              "</div>\n",
              "    </div>\n",
              "  </div>\n"
            ]
          },
          "metadata": {},
          "execution_count": 6
        }
      ]
    },
    {
      "cell_type": "code",
      "source": [
        "\"\"\"# Reference: https://www.kaggle.com/code/arjanso/reducing-dataframe-memory-size-by-65 @ARJANGROEN\n",
        "\n",
        " Reduce Memory Usage\n",
        "  This code is used to reduce memory usage of our dataframe useful when running\n",
        "  large datasets by reducing the size of the properties of the dataset by selecting\n",
        "  smaller datatypes\n",
        "\n",
        "\n",
        "def reduce_memory_usage(df):\n",
        "    start_mem = df.memory_usage().sum() / 1024**2\n",
        "    print('Memory usage of dataframe is {:.2f} MB'.format(start_mem))\n",
        "\n",
        "    for col in df.columns:\n",
        "        col_type = df[col].dtype.name\n",
        "        if ((col_type != 'datetime64[ns]') & (col_type != 'category')):\n",
        "            if (col_type != 'object'):\n",
        "                c_min = df[col].min()\n",
        "                c_max = df[col].max()\n",
        "\n",
        "                if str(col_type)[:3] == 'int':\n",
        "                    if c_min > np.iinfo(np.int8).min and c_max < np.iinfo(np.int8).max:\n",
        "                        df[col] = df[col].astype(np.int8)\n",
        "                    elif c_min > np.iinfo(np.int16).min and c_max < np.iinfo(np.int16).max:\n",
        "                        df[col] = df[col].astype(np.int16)\n",
        "                    elif c_min > np.iinfo(np.int32).min and c_max < np.iinfo(np.int32).max:\n",
        "                        df[col] = df[col].astype(np.int32)\n",
        "                    elif c_min > np.iinfo(np.int64).min and c_max < np.iinfo(np.int64).max:\n",
        "                        df[col] = df[col].astype(np.int64)\n",
        "                else:\n",
        "                    if c_min > np.finfo(np.float16).min and c_max < np.finfo(np.float16).max:\n",
        "                        df[col] = df[col].astype(np.float16)\n",
        "                    elif c_min > np.finfo(np.float32).min and c_max < np.finfo(np.float32).max:\n",
        "                        df[col] = df[col].astype(np.float32)\n",
        "                    else:\n",
        "                        pass\n",
        "            else:\n",
        "                df[col] = df[col].astype('category')\n",
        "    mem_usg = df.memory_usage().sum() / 1024**2\n",
        "    print(\"Memory usage became: \",mem_usg,\" MB\")\n",
        "\n",
        "    return df\"\"\""
      ],
      "metadata": {
        "id": "xNCsZOvkcsXo",
        "colab": {
          "base_uri": "https://localhost:8080/",
          "height": 268
        },
        "outputId": "126de76d-5735-4d1f-eaa7-f2d18ddbb018"
      },
      "execution_count": 7,
      "outputs": [
        {
          "output_type": "execute_result",
          "data": {
            "text/plain": [
              "'# Reference: https://www.kaggle.com/code/arjanso/reducing-dataframe-memory-size-by-65 @ARJANGROEN\\n\\n Reduce Memory Usage\\n  This code is used to reduce memory usage of our dataframe useful when running\\n  large datasets by reducing the size of the properties of the dataset by selecting\\n  smaller datatypes\\n\\n\\ndef reduce_memory_usage(df):\\n    start_mem = df.memory_usage().sum() / 1024**2\\n    print(\\'Memory usage of dataframe is {:.2f} MB\\'.format(start_mem))\\n\\n    for col in df.columns:\\n        col_type = df[col].dtype.name\\n        if ((col_type != \\'datetime64[ns]\\') & (col_type != \\'category\\')):\\n            if (col_type != \\'object\\'):\\n                c_min = df[col].min()\\n                c_max = df[col].max()\\n\\n                if str(col_type)[:3] == \\'int\\':\\n                    if c_min > np.iinfo(np.int8).min and c_max < np.iinfo(np.int8).max:\\n                        df[col] = df[col].astype(np.int8)\\n                    elif c_min > np.iinfo(np.int16).min and c_max < np.iinfo(np.int16).max:\\n                        df[col] = df[col].astype(np.int16)\\n                    elif c_min > np.iinfo(np.int32).min and c_max < np.iinfo(np.int32).max:\\n                        df[col] = df[col].astype(np.int32)\\n                    elif c_min > np.iinfo(np.int64).min and c_max < np.iinfo(np.int64).max:\\n                        df[col] = df[col].astype(np.int64)\\n                else:\\n                    if c_min > np.finfo(np.float16).min and c_max < np.finfo(np.float16).max:\\n                        df[col] = df[col].astype(np.float16)\\n                    elif c_min > np.finfo(np.float32).min and c_max < np.finfo(np.float32).max:\\n                        df[col] = df[col].astype(np.float32)\\n                    else:\\n                        pass\\n            else:\\n                df[col] = df[col].astype(\\'category\\')\\n    mem_usg = df.memory_usage().sum() / 1024**2\\n    print(\"Memory usage became: \",mem_usg,\" MB\")\\n\\n    return df'"
            ],
            "application/vnd.google.colaboratory.intrinsic+json": {
              "type": "string"
            }
          },
          "metadata": {},
          "execution_count": 7
        }
      ]
    },
    {
      "cell_type": "code",
      "source": [
        "# Apply the reduce memory usage function to our dataset\n",
        "#df = reduce_memory_usage(df)\n",
        "#df.info()"
      ],
      "metadata": {
        "id": "vPg2mco0dwvJ"
      },
      "execution_count": 8,
      "outputs": []
    },
    {
      "cell_type": "markdown",
      "source": [
        "### Data Transformation"
      ],
      "metadata": {
        "id": "GaC6jUkzh_mf"
      }
    },
    {
      "cell_type": "code",
      "source": [
        "# Define the list of columns to be dropped\n",
        "drop_columns = ['flowStartMilliseconds',\n",
        "                'flowEndMilliseconds',\n",
        "                'sourceMacAddress',\n",
        "                'destinationMacAddress'\n",
        "]\n",
        "\n",
        "# Drop the columns from the dataset\n",
        "df = df.drop(columns=drop_columns)"
      ],
      "metadata": {
        "id": "eknwUl2iFhlt"
      },
      "execution_count": 9,
      "outputs": []
    },
    {
      "cell_type": "code",
      "source": [
        "\"\"\"\n",
        "  Encode and transform categorical values since Decision Tree & Random Forest can't handle non-numeric\n",
        "  categorical data directly\n",
        "\"\"\"\n",
        "# Ordinal encoding for IP addresses\n",
        "def ip_to_ordinal(df, col_name):\n",
        "    # Generate unique codes for each unique IP address\n",
        "    codes, uniques = pd.factorize(df[col_name])\n",
        "    df[col_name] = codes\n",
        "    return df\n",
        "\n",
        "df = ip_to_ordinal(df, 'sourceIPv4Address')\n",
        "df = ip_to_ordinal(df, 'destinationIPv4Address')\n",
        "\n",
        "# Convert hex to int\n",
        "for col in ['tcpSequenceNumber', 'reverseTcpSequenceNumber', 'vlanId', 'ipClassOfService']:\n",
        "    df[col] = df[col].apply(lambda x: int(x, 16))\n",
        "\n",
        "# Label Encoding for the other categorical attributes\n",
        "label_encoders = {}\n",
        "for col in ['flowAttributes', 'initialTCPFlags', 'unionTCPFlags', 'reverseInitialTCPFlags', 'reverseUnionTCPFlags', 'reverseFlowAttributes', 'collectorName', 'flowEndReason', 'firstEightNonEmptyPacketDirections', 'Device']:\n",
        "    le = LabelEncoder()\n",
        "    df[col] = le.fit_transform(df[col])\n",
        "    label_encoders[col] = le\n"
      ],
      "metadata": {
        "id": "ZXSQ0tKx57Yy"
      },
      "execution_count": 10,
      "outputs": []
    },
    {
      "cell_type": "code",
      "source": [
        "# Separate the Device column as label\n",
        "labels_df = df['Device'].copy()\n",
        "\n",
        "# Drop the Device column from the original DataFrame\n",
        "df = df.drop(columns=['Device'])\n",
        "\n",
        "X = df\n",
        "y = labels_df\n",
        "\n",
        "# Split the data into training and testing sets\n",
        "X_train, X_test, y_train, y_test = train_test_split(X, y, test_size=0.1, random_state=42)"
      ],
      "metadata": {
        "id": "eAbWbDFcrB8B"
      },
      "execution_count": 11,
      "outputs": []
    },
    {
      "cell_type": "markdown",
      "source": [
        "## Applying the Decision Tree and Random Forest Algorithm"
      ],
      "metadata": {
        "id": "kIIrZ7JR2OK-"
      }
    },
    {
      "cell_type": "markdown",
      "source": [
        "#### Assessing the Performance of the Multi-Class Classifier\n",
        "- The print_score function is designmed to evaluate a multi-class classifier's performance using F1 score and ROC-AUC curve.\n",
        "- We're using the 'weighted' average for the F1 score and 'ovr' (One-vs-rest) approach for the multi-class ROC-AUC."
      ],
      "metadata": {
        "id": "19mQEzR8PDTs"
      }
    },
    {
      "cell_type": "code",
      "source": [
        "# Evaluate how well a classifier model is performing on the training data\n",
        "def print_score(cls, X_train, y_train, X_test, y_test, train=True):\n",
        "    if train:\n",
        "        X, y = X_train, y_train\n",
        "        data_type = \"Train\"\n",
        "    else:\n",
        "        X, y = X_test, y_test\n",
        "        data_type = \"Test\"\n",
        "\n",
        "    # The model 'cls' uses the features X to make predictions\n",
        "    pred_y = cls.predict(X)\n",
        "    prob = cls.predict_proba(X)\n",
        "\n",
        "    # Compute 'weighted' F1-Score\n",
        "    f1Score = f1_score(y, pred_y, average='weighted')\n",
        "    # Compute ROC-AUC for each class using 'One-vs-rest'\n",
        "    roc_auc = roc_auc_score(y, prob, average='weighted', multi_class='ovr')\n",
        "\n",
        "    # Print results\n",
        "    print(f\"=== {data_type} Data ===\")\n",
        "    print(f\"Weighted F1 Score = {f1Score:.4f}\\n\")\n",
        "    print(f'ROC-AUC score: {roc_auc:.4f}\\n')\n",
        "    print(\"_______________________________________________\")\n",
        "    print(classification_report(y, pred_y))\n",
        "    print(\"\\n\")"
      ],
      "metadata": {
        "id": "NoFHdzgf2UBN"
      },
      "execution_count": 12,
      "outputs": []
    },
    {
      "cell_type": "markdown",
      "source": [
        "Treating missing values: Using Imputation to fill in the missing values"
      ],
      "metadata": {
        "id": "1eBaqem_3fNE"
      }
    },
    {
      "cell_type": "code",
      "source": [
        "# Using imputation to fill in the missing values\n",
        "# Create impute object\n",
        "imputer = SimpleImputer()\n",
        "\n",
        "# Fit imputer on training data\n",
        "imputer.fit(X_train)\n",
        "\n",
        "# Impute training data\n",
        "X_train = imputer.transform(X_train)\n",
        "\n",
        "# Impute the test data\n",
        "X_test = imputer.transform(X_test)"
      ],
      "metadata": {
        "id": "9tjQUS1U3cb_"
      },
      "execution_count": 13,
      "outputs": []
    },
    {
      "cell_type": "markdown",
      "source": [
        "### Decision Tree Classifier"
      ],
      "metadata": {
        "id": "UfGHsX-H4Vjx"
      }
    },
    {
      "cell_type": "code",
      "source": [
        "# Create Decision Tree Classifier object\n",
        "dec_tree = DecisionTreeClassifier(random_state=42)\n",
        "\n",
        "# Fit the model to the training data\n",
        "dec_tree.fit(X_train, y_train)\n",
        "\n",
        "# Print model performance on training data\n",
        "print_score(dec_tree, X_train, y_train, X_test, y_test, train=True)\n",
        "\n",
        "# Print model performance on test data\n",
        "print_score(dec_tree, X_train, y_train, X_test, y_test, train=False)"
      ],
      "metadata": {
        "colab": {
          "base_uri": "https://localhost:8080/"
        },
        "id": "f1GVAaVbUPaL",
        "outputId": "87f1741a-9339-4be8-9052-5c40019b8350"
      },
      "execution_count": 14,
      "outputs": [
        {
          "output_type": "stream",
          "name": "stdout",
          "text": [
            "=== Train Data ===\n",
            "Weighted F1 Score = 1.0000\n",
            "\n",
            "ROC-AUC score: 1.0000\n",
            "\n",
            "_______________________________________________\n",
            "              precision    recall  f1-score   support\n",
            "\n",
            "           0       1.00      1.00      1.00       897\n",
            "           1       1.00      1.00      1.00       899\n",
            "           2       1.00      1.00      1.00       914\n",
            "           3       1.00      1.00      1.00       889\n",
            "           4       1.00      1.00      1.00       910\n",
            "           5       1.00      1.00      1.00       916\n",
            "           6       1.00      1.00      1.00       879\n",
            "           7       1.00      1.00      1.00       905\n",
            "           8       1.00      1.00      1.00       915\n",
            "           9       1.00      1.00      1.00       897\n",
            "          10       1.00      1.00      1.00       896\n",
            "          11       1.00      1.00      1.00       895\n",
            "          12       1.00      1.00      1.00       899\n",
            "          13       1.00      1.00      1.00       906\n",
            "          14       1.00      1.00      1.00       894\n",
            "          15       1.00      1.00      1.00       901\n",
            "          16       1.00      1.00      1.00       894\n",
            "          17       1.00      1.00      1.00       899\n",
            "          18       1.00      1.00      1.00       895\n",
            "          19       1.00      1.00      1.00       895\n",
            "          20       1.00      1.00      1.00       912\n",
            "          21       1.00      1.00      1.00       893\n",
            "\n",
            "    accuracy                           1.00     19800\n",
            "   macro avg       1.00      1.00      1.00     19800\n",
            "weighted avg       1.00      1.00      1.00     19800\n",
            "\n",
            "\n",
            "\n",
            "=== Test Data ===\n",
            "Weighted F1 Score = 0.9982\n",
            "\n",
            "ROC-AUC score: 0.9990\n",
            "\n",
            "_______________________________________________\n",
            "              precision    recall  f1-score   support\n",
            "\n",
            "           0       1.00      1.00      1.00       103\n",
            "           1       0.99      1.00      1.00       101\n",
            "           2       1.00      0.99      0.99        86\n",
            "           3       1.00      0.99      1.00       111\n",
            "           4       1.00      1.00      1.00        90\n",
            "           5       1.00      1.00      1.00        84\n",
            "           6       1.00      1.00      1.00       121\n",
            "           7       0.99      1.00      0.99        95\n",
            "           8       1.00      1.00      1.00        85\n",
            "           9       1.00      1.00      1.00       103\n",
            "          10       1.00      0.99      1.00       104\n",
            "          11       1.00      1.00      1.00       105\n",
            "          12       1.00      1.00      1.00       101\n",
            "          13       1.00      1.00      1.00        94\n",
            "          14       1.00      1.00      1.00       106\n",
            "          15       1.00      1.00      1.00        99\n",
            "          16       0.99      1.00      1.00       106\n",
            "          17       1.00      0.99      1.00       101\n",
            "          18       1.00      1.00      1.00       105\n",
            "          19       0.99      1.00      1.00       105\n",
            "          20       1.00      1.00      1.00        88\n",
            "          21       1.00      1.00      1.00       107\n",
            "\n",
            "    accuracy                           1.00      2200\n",
            "   macro avg       1.00      1.00      1.00      2200\n",
            "weighted avg       1.00      1.00      1.00      2200\n",
            "\n",
            "\n",
            "\n"
          ]
        }
      ]
    },
    {
      "cell_type": "markdown",
      "source": [
        "### Random Forest"
      ],
      "metadata": {
        "id": "0BLv63P1les8"
      }
    },
    {
      "cell_type": "code",
      "source": [
        "# Create Random Forest Classifier object\n",
        "rf_cls = RandomForestClassifier(random_state=42)\n",
        "\n",
        "# Fit the model to the training data\n",
        "rf_cls.fit(X_train, y_train)\n",
        "\n",
        "# Print model performance on training data\n",
        "print_score(rf_cls, X_train, y_train, X_test, y_test, train=True)\n",
        "\n",
        "# Print model performance on test data\n",
        "print_score(rf_cls, X_train, y_train, X_test, y_test, train=False)"
      ],
      "metadata": {
        "colab": {
          "base_uri": "https://localhost:8080/"
        },
        "id": "IuiIx_tbuyPr",
        "outputId": "f328c81a-3ed6-414a-8bc2-9fd370580b47"
      },
      "execution_count": 25,
      "outputs": [
        {
          "output_type": "stream",
          "name": "stdout",
          "text": [
            "=== Train Data ===\n",
            "Weighted F1 Score = 1.0000\n",
            "\n",
            "ROC-AUC score: 1.0000\n",
            "\n",
            "_______________________________________________\n",
            "              precision    recall  f1-score   support\n",
            "\n",
            "           0       1.00      1.00      1.00       897\n",
            "           1       1.00      1.00      1.00       899\n",
            "           2       1.00      1.00      1.00       914\n",
            "           3       1.00      1.00      1.00       889\n",
            "           4       1.00      1.00      1.00       910\n",
            "           5       1.00      1.00      1.00       916\n",
            "           6       1.00      1.00      1.00       879\n",
            "           7       1.00      1.00      1.00       905\n",
            "           8       1.00      1.00      1.00       915\n",
            "           9       1.00      1.00      1.00       897\n",
            "          10       1.00      1.00      1.00       896\n",
            "          11       1.00      1.00      1.00       895\n",
            "          12       1.00      1.00      1.00       899\n",
            "          13       1.00      1.00      1.00       906\n",
            "          14       1.00      1.00      1.00       894\n",
            "          15       1.00      1.00      1.00       901\n",
            "          16       1.00      1.00      1.00       894\n",
            "          17       1.00      1.00      1.00       899\n",
            "          18       1.00      1.00      1.00       895\n",
            "          19       1.00      1.00      1.00       895\n",
            "          20       1.00      1.00      1.00       912\n",
            "          21       1.00      1.00      1.00       893\n",
            "\n",
            "    accuracy                           1.00     19800\n",
            "   macro avg       1.00      1.00      1.00     19800\n",
            "weighted avg       1.00      1.00      1.00     19800\n",
            "\n",
            "\n",
            "\n",
            "=== Test Data ===\n",
            "Weighted F1 Score = 0.9864\n",
            "\n",
            "ROC-AUC score: 0.9999\n",
            "\n",
            "_______________________________________________\n",
            "              precision    recall  f1-score   support\n",
            "\n",
            "           0       0.98      0.96      0.97       103\n",
            "           1       0.93      0.97      0.95       101\n",
            "           2       1.00      0.98      0.99        86\n",
            "           3       1.00      0.95      0.98       111\n",
            "           4       0.99      1.00      0.99        90\n",
            "           5       0.98      0.99      0.98        84\n",
            "           6       0.99      0.98      0.98       121\n",
            "           7       1.00      1.00      1.00        95\n",
            "           8       0.99      1.00      0.99        85\n",
            "           9       1.00      1.00      1.00       103\n",
            "          10       1.00      0.99      1.00       104\n",
            "          11       1.00      1.00      1.00       105\n",
            "          12       1.00      0.96      0.98       101\n",
            "          13       1.00      1.00      1.00        94\n",
            "          14       1.00      1.00      1.00       106\n",
            "          15       0.98      1.00      0.99        99\n",
            "          16       0.99      0.99      0.99       106\n",
            "          17       1.00      0.99      1.00       101\n",
            "          18       0.92      0.98      0.95       105\n",
            "          19       0.98      1.00      0.99       105\n",
            "          20       0.99      0.97      0.98        88\n",
            "          21       0.99      1.00      1.00       107\n",
            "\n",
            "    accuracy                           0.99      2200\n",
            "   macro avg       0.99      0.99      0.99      2200\n",
            "weighted avg       0.99      0.99      0.99      2200\n",
            "\n",
            "\n",
            "\n"
          ]
        }
      ]
    },
    {
      "cell_type": "markdown",
      "source": [
        "### Random Forest Hyperparameter tuning"
      ],
      "metadata": {
        "id": "4RpTgRCrvzeV"
      }
    },
    {
      "cell_type": "code",
      "source": [
        "# Define the hyperparameters and their possible values\n",
        "param_dist = {\n",
        "    'n_estimators': randint(50, 250),  # Number of trees in the forest\n",
        "    'max_depth': [None] + list(randint(5, 50).rvs(10)),  # Maximum depth of the tree\n",
        "    'min_samples_split': randint(2, 50),  # Minimum number of samples required to split an internal node\n",
        "    'min_samples_leaf': randint(1, 50),  # Minimum number of samples required at each leaf node\n",
        "    'bootstrap': [True, False],  # Method of selecting samples for training each tree\n",
        "    'max_features': ['auto', 'sqrt', 'log2'],  # Number of features to consider at every split\n",
        "    'class_weight': [None, 'balanced']  # Handle potential imbalance in classes\n",
        "}\n",
        "\n",
        "# Initialize the Random Forest Classifier\n",
        "rf = RandomForestClassifier(random_state=42)\n",
        "\n",
        "# Initialize RandomizedSearchCV\n",
        "random_search = RandomizedSearchCV(estimator=rf, param_distributions=param_dist,\n",
        "                                   n_iter=10, scoring='f1_weighted',\n",
        "                                   cv=5, verbose=2, random_state=42)\n",
        "\n",
        "# Fit RandomizedSearchCV\n",
        "random_search.fit(X_train, y_train)\n",
        "\n",
        "# Print the best parameters from the Random Search\n",
        "best_random = random_search.best_estimator_\n",
        "print(f\"Best Parameters: {random_search.best_params_}\")\n",
        "\n",
        "# Evaluate the best model\n",
        "print_score(best_random, X_train, y_train, X_test, y_test, train=True)\n",
        "print_score(best_random, X_train, y_train, X_test, y_test, train=False)\n"
      ],
      "metadata": {
        "colab": {
          "base_uri": "https://localhost:8080/"
        },
        "id": "UV3Hc2XWv342",
        "outputId": "5e91d44f-8605-4d03-907e-2922d6c4af2a"
      },
      "execution_count": 30,
      "outputs": [
        {
          "output_type": "stream",
          "name": "stdout",
          "text": [
            "Fitting 5 folds for each of 10 candidates, totalling 50 fits\n"
          ]
        },
        {
          "output_type": "stream",
          "name": "stderr",
          "text": [
            "/usr/local/lib/python3.10/dist-packages/sklearn/ensemble/_forest.py:424: FutureWarning: `max_features='auto'` has been deprecated in 1.1 and will be removed in 1.3. To keep the past behaviour, explicitly set `max_features='sqrt'` or remove this parameter as it is also the default value for RandomForestClassifiers and ExtraTreesClassifiers.\n",
            "  warn(\n"
          ]
        },
        {
          "output_type": "stream",
          "name": "stdout",
          "text": [
            "[CV] END bootstrap=True, class_weight=balanced, max_depth=14, max_features=auto, min_samples_leaf=21, min_samples_split=40, n_estimators=171; total time=   2.4s\n"
          ]
        },
        {
          "output_type": "stream",
          "name": "stderr",
          "text": [
            "/usr/local/lib/python3.10/dist-packages/sklearn/ensemble/_forest.py:424: FutureWarning: `max_features='auto'` has been deprecated in 1.1 and will be removed in 1.3. To keep the past behaviour, explicitly set `max_features='sqrt'` or remove this parameter as it is also the default value for RandomForestClassifiers and ExtraTreesClassifiers.\n",
            "  warn(\n"
          ]
        },
        {
          "output_type": "stream",
          "name": "stdout",
          "text": [
            "[CV] END bootstrap=True, class_weight=balanced, max_depth=14, max_features=auto, min_samples_leaf=21, min_samples_split=40, n_estimators=171; total time=   2.5s\n"
          ]
        },
        {
          "output_type": "stream",
          "name": "stderr",
          "text": [
            "/usr/local/lib/python3.10/dist-packages/sklearn/ensemble/_forest.py:424: FutureWarning: `max_features='auto'` has been deprecated in 1.1 and will be removed in 1.3. To keep the past behaviour, explicitly set `max_features='sqrt'` or remove this parameter as it is also the default value for RandomForestClassifiers and ExtraTreesClassifiers.\n",
            "  warn(\n"
          ]
        },
        {
          "output_type": "stream",
          "name": "stdout",
          "text": [
            "[CV] END bootstrap=True, class_weight=balanced, max_depth=14, max_features=auto, min_samples_leaf=21, min_samples_split=40, n_estimators=171; total time=   2.4s\n"
          ]
        },
        {
          "output_type": "stream",
          "name": "stderr",
          "text": [
            "/usr/local/lib/python3.10/dist-packages/sklearn/ensemble/_forest.py:424: FutureWarning: `max_features='auto'` has been deprecated in 1.1 and will be removed in 1.3. To keep the past behaviour, explicitly set `max_features='sqrt'` or remove this parameter as it is also the default value for RandomForestClassifiers and ExtraTreesClassifiers.\n",
            "  warn(\n"
          ]
        },
        {
          "output_type": "stream",
          "name": "stdout",
          "text": [
            "[CV] END bootstrap=True, class_weight=balanced, max_depth=14, max_features=auto, min_samples_leaf=21, min_samples_split=40, n_estimators=171; total time=   2.5s\n"
          ]
        },
        {
          "output_type": "stream",
          "name": "stderr",
          "text": [
            "/usr/local/lib/python3.10/dist-packages/sklearn/ensemble/_forest.py:424: FutureWarning: `max_features='auto'` has been deprecated in 1.1 and will be removed in 1.3. To keep the past behaviour, explicitly set `max_features='sqrt'` or remove this parameter as it is also the default value for RandomForestClassifiers and ExtraTreesClassifiers.\n",
            "  warn(\n"
          ]
        },
        {
          "output_type": "stream",
          "name": "stdout",
          "text": [
            "[CV] END bootstrap=True, class_weight=balanced, max_depth=14, max_features=auto, min_samples_leaf=21, min_samples_split=40, n_estimators=171; total time=   3.4s\n",
            "[CV] END bootstrap=True, class_weight=None, max_depth=14, max_features=log2, min_samples_leaf=24, min_samples_split=37, n_estimators=153; total time=   1.8s\n",
            "[CV] END bootstrap=True, class_weight=None, max_depth=14, max_features=log2, min_samples_leaf=24, min_samples_split=37, n_estimators=153; total time=   1.7s\n",
            "[CV] END bootstrap=True, class_weight=None, max_depth=14, max_features=log2, min_samples_leaf=24, min_samples_split=37, n_estimators=153; total time=   1.7s\n",
            "[CV] END bootstrap=True, class_weight=None, max_depth=14, max_features=log2, min_samples_leaf=24, min_samples_split=37, n_estimators=153; total time=   1.7s\n",
            "[CV] END bootstrap=True, class_weight=None, max_depth=14, max_features=log2, min_samples_leaf=24, min_samples_split=37, n_estimators=153; total time=   1.7s\n"
          ]
        },
        {
          "output_type": "stream",
          "name": "stderr",
          "text": [
            "/usr/local/lib/python3.10/dist-packages/sklearn/ensemble/_forest.py:424: FutureWarning: `max_features='auto'` has been deprecated in 1.1 and will be removed in 1.3. To keep the past behaviour, explicitly set `max_features='sqrt'` or remove this parameter as it is also the default value for RandomForestClassifiers and ExtraTreesClassifiers.\n",
            "  warn(\n"
          ]
        },
        {
          "output_type": "stream",
          "name": "stdout",
          "text": [
            "[CV] END bootstrap=False, class_weight=None, max_depth=40, max_features=auto, min_samples_leaf=2, min_samples_split=25, n_estimators=207; total time=   6.0s\n"
          ]
        },
        {
          "output_type": "stream",
          "name": "stderr",
          "text": [
            "/usr/local/lib/python3.10/dist-packages/sklearn/ensemble/_forest.py:424: FutureWarning: `max_features='auto'` has been deprecated in 1.1 and will be removed in 1.3. To keep the past behaviour, explicitly set `max_features='sqrt'` or remove this parameter as it is also the default value for RandomForestClassifiers and ExtraTreesClassifiers.\n",
            "  warn(\n"
          ]
        },
        {
          "output_type": "stream",
          "name": "stdout",
          "text": [
            "[CV] END bootstrap=False, class_weight=None, max_depth=40, max_features=auto, min_samples_leaf=2, min_samples_split=25, n_estimators=207; total time=   5.0s\n"
          ]
        },
        {
          "output_type": "stream",
          "name": "stderr",
          "text": [
            "/usr/local/lib/python3.10/dist-packages/sklearn/ensemble/_forest.py:424: FutureWarning: `max_features='auto'` has been deprecated in 1.1 and will be removed in 1.3. To keep the past behaviour, explicitly set `max_features='sqrt'` or remove this parameter as it is also the default value for RandomForestClassifiers and ExtraTreesClassifiers.\n",
            "  warn(\n"
          ]
        },
        {
          "output_type": "stream",
          "name": "stdout",
          "text": [
            "[CV] END bootstrap=False, class_weight=None, max_depth=40, max_features=auto, min_samples_leaf=2, min_samples_split=25, n_estimators=207; total time=   6.2s\n"
          ]
        },
        {
          "output_type": "stream",
          "name": "stderr",
          "text": [
            "/usr/local/lib/python3.10/dist-packages/sklearn/ensemble/_forest.py:424: FutureWarning: `max_features='auto'` has been deprecated in 1.1 and will be removed in 1.3. To keep the past behaviour, explicitly set `max_features='sqrt'` or remove this parameter as it is also the default value for RandomForestClassifiers and ExtraTreesClassifiers.\n",
            "  warn(\n"
          ]
        },
        {
          "output_type": "stream",
          "name": "stdout",
          "text": [
            "[CV] END bootstrap=False, class_weight=None, max_depth=40, max_features=auto, min_samples_leaf=2, min_samples_split=25, n_estimators=207; total time=   5.0s\n"
          ]
        },
        {
          "output_type": "stream",
          "name": "stderr",
          "text": [
            "/usr/local/lib/python3.10/dist-packages/sklearn/ensemble/_forest.py:424: FutureWarning: `max_features='auto'` has been deprecated in 1.1 and will be removed in 1.3. To keep the past behaviour, explicitly set `max_features='sqrt'` or remove this parameter as it is also the default value for RandomForestClassifiers and ExtraTreesClassifiers.\n",
            "  warn(\n"
          ]
        },
        {
          "output_type": "stream",
          "name": "stdout",
          "text": [
            "[CV] END bootstrap=False, class_weight=None, max_depth=40, max_features=auto, min_samples_leaf=2, min_samples_split=25, n_estimators=207; total time=   5.4s\n"
          ]
        },
        {
          "output_type": "stream",
          "name": "stderr",
          "text": [
            "/usr/local/lib/python3.10/dist-packages/sklearn/ensemble/_forest.py:424: FutureWarning: `max_features='auto'` has been deprecated in 1.1 and will be removed in 1.3. To keep the past behaviour, explicitly set `max_features='sqrt'` or remove this parameter as it is also the default value for RandomForestClassifiers and ExtraTreesClassifiers.\n",
            "  warn(\n"
          ]
        },
        {
          "output_type": "stream",
          "name": "stdout",
          "text": [
            "[CV] END bootstrap=False, class_weight=balanced, max_depth=23, max_features=auto, min_samples_leaf=12, min_samples_split=23, n_estimators=138; total time=   3.6s\n"
          ]
        },
        {
          "output_type": "stream",
          "name": "stderr",
          "text": [
            "/usr/local/lib/python3.10/dist-packages/sklearn/ensemble/_forest.py:424: FutureWarning: `max_features='auto'` has been deprecated in 1.1 and will be removed in 1.3. To keep the past behaviour, explicitly set `max_features='sqrt'` or remove this parameter as it is also the default value for RandomForestClassifiers and ExtraTreesClassifiers.\n",
            "  warn(\n"
          ]
        },
        {
          "output_type": "stream",
          "name": "stdout",
          "text": [
            "[CV] END bootstrap=False, class_weight=balanced, max_depth=23, max_features=auto, min_samples_leaf=12, min_samples_split=23, n_estimators=138; total time=   2.9s\n"
          ]
        },
        {
          "output_type": "stream",
          "name": "stderr",
          "text": [
            "/usr/local/lib/python3.10/dist-packages/sklearn/ensemble/_forest.py:424: FutureWarning: `max_features='auto'` has been deprecated in 1.1 and will be removed in 1.3. To keep the past behaviour, explicitly set `max_features='sqrt'` or remove this parameter as it is also the default value for RandomForestClassifiers and ExtraTreesClassifiers.\n",
            "  warn(\n"
          ]
        },
        {
          "output_type": "stream",
          "name": "stdout",
          "text": [
            "[CV] END bootstrap=False, class_weight=balanced, max_depth=23, max_features=auto, min_samples_leaf=12, min_samples_split=23, n_estimators=138; total time=   3.0s\n"
          ]
        },
        {
          "output_type": "stream",
          "name": "stderr",
          "text": [
            "/usr/local/lib/python3.10/dist-packages/sklearn/ensemble/_forest.py:424: FutureWarning: `max_features='auto'` has been deprecated in 1.1 and will be removed in 1.3. To keep the past behaviour, explicitly set `max_features='sqrt'` or remove this parameter as it is also the default value for RandomForestClassifiers and ExtraTreesClassifiers.\n",
            "  warn(\n"
          ]
        },
        {
          "output_type": "stream",
          "name": "stdout",
          "text": [
            "[CV] END bootstrap=False, class_weight=balanced, max_depth=23, max_features=auto, min_samples_leaf=12, min_samples_split=23, n_estimators=138; total time=   3.2s\n"
          ]
        },
        {
          "output_type": "stream",
          "name": "stderr",
          "text": [
            "/usr/local/lib/python3.10/dist-packages/sklearn/ensemble/_forest.py:424: FutureWarning: `max_features='auto'` has been deprecated in 1.1 and will be removed in 1.3. To keep the past behaviour, explicitly set `max_features='sqrt'` or remove this parameter as it is also the default value for RandomForestClassifiers and ExtraTreesClassifiers.\n",
            "  warn(\n"
          ]
        },
        {
          "output_type": "stream",
          "name": "stdout",
          "text": [
            "[CV] END bootstrap=False, class_weight=balanced, max_depth=23, max_features=auto, min_samples_leaf=12, min_samples_split=23, n_estimators=138; total time=   3.6s\n",
            "[CV] END bootstrap=True, class_weight=None, max_depth=14, max_features=log2, min_samples_leaf=42, min_samples_split=29, n_estimators=237; total time=   2.6s\n",
            "[CV] END bootstrap=True, class_weight=None, max_depth=14, max_features=log2, min_samples_leaf=42, min_samples_split=29, n_estimators=237; total time=   2.7s\n",
            "[CV] END bootstrap=True, class_weight=None, max_depth=14, max_features=log2, min_samples_leaf=42, min_samples_split=29, n_estimators=237; total time=   2.6s\n",
            "[CV] END bootstrap=True, class_weight=None, max_depth=14, max_features=log2, min_samples_leaf=42, min_samples_split=29, n_estimators=237; total time=   3.6s\n",
            "[CV] END bootstrap=True, class_weight=None, max_depth=14, max_features=log2, min_samples_leaf=42, min_samples_split=29, n_estimators=237; total time=   2.6s\n",
            "[CV] END bootstrap=False, class_weight=None, max_depth=23, max_features=log2, min_samples_leaf=3, min_samples_split=38, n_estimators=100; total time=   1.8s\n",
            "[CV] END bootstrap=False, class_weight=None, max_depth=23, max_features=log2, min_samples_leaf=3, min_samples_split=38, n_estimators=100; total time=   1.8s\n",
            "[CV] END bootstrap=False, class_weight=None, max_depth=23, max_features=log2, min_samples_leaf=3, min_samples_split=38, n_estimators=100; total time=   1.8s\n",
            "[CV] END bootstrap=False, class_weight=None, max_depth=23, max_features=log2, min_samples_leaf=3, min_samples_split=38, n_estimators=100; total time=   1.7s\n",
            "[CV] END bootstrap=False, class_weight=None, max_depth=23, max_features=log2, min_samples_leaf=3, min_samples_split=38, n_estimators=100; total time=   2.8s\n",
            "[CV] END bootstrap=True, class_weight=None, max_depth=28, max_features=log2, min_samples_leaf=18, min_samples_split=5, n_estimators=138; total time=   2.2s\n",
            "[CV] END bootstrap=True, class_weight=None, max_depth=28, max_features=log2, min_samples_leaf=18, min_samples_split=5, n_estimators=138; total time=   1.7s\n",
            "[CV] END bootstrap=True, class_weight=None, max_depth=28, max_features=log2, min_samples_leaf=18, min_samples_split=5, n_estimators=138; total time=   1.7s\n",
            "[CV] END bootstrap=True, class_weight=None, max_depth=28, max_features=log2, min_samples_leaf=18, min_samples_split=5, n_estimators=138; total time=   1.7s\n",
            "[CV] END bootstrap=True, class_weight=None, max_depth=28, max_features=log2, min_samples_leaf=18, min_samples_split=5, n_estimators=138; total time=   1.6s\n",
            "[CV] END bootstrap=False, class_weight=balanced, max_depth=22, max_features=sqrt, min_samples_leaf=9, min_samples_split=27, n_estimators=102; total time=   2.7s\n",
            "[CV] END bootstrap=False, class_weight=balanced, max_depth=22, max_features=sqrt, min_samples_leaf=9, min_samples_split=27, n_estimators=102; total time=   2.7s\n",
            "[CV] END bootstrap=False, class_weight=balanced, max_depth=22, max_features=sqrt, min_samples_leaf=9, min_samples_split=27, n_estimators=102; total time=   2.1s\n",
            "[CV] END bootstrap=False, class_weight=balanced, max_depth=22, max_features=sqrt, min_samples_leaf=9, min_samples_split=27, n_estimators=102; total time=   2.2s\n",
            "[CV] END bootstrap=False, class_weight=balanced, max_depth=22, max_features=sqrt, min_samples_leaf=9, min_samples_split=27, n_estimators=102; total time=   2.2s\n"
          ]
        },
        {
          "output_type": "stream",
          "name": "stderr",
          "text": [
            "/usr/local/lib/python3.10/dist-packages/sklearn/ensemble/_forest.py:424: FutureWarning: `max_features='auto'` has been deprecated in 1.1 and will be removed in 1.3. To keep the past behaviour, explicitly set `max_features='sqrt'` or remove this parameter as it is also the default value for RandomForestClassifiers and ExtraTreesClassifiers.\n",
            "  warn(\n"
          ]
        },
        {
          "output_type": "stream",
          "name": "stdout",
          "text": [
            "[CV] END bootstrap=False, class_weight=balanced, max_depth=29, max_features=auto, min_samples_leaf=8, min_samples_split=48, n_estimators=84; total time=   1.8s\n"
          ]
        },
        {
          "output_type": "stream",
          "name": "stderr",
          "text": [
            "/usr/local/lib/python3.10/dist-packages/sklearn/ensemble/_forest.py:424: FutureWarning: `max_features='auto'` has been deprecated in 1.1 and will be removed in 1.3. To keep the past behaviour, explicitly set `max_features='sqrt'` or remove this parameter as it is also the default value for RandomForestClassifiers and ExtraTreesClassifiers.\n",
            "  warn(\n"
          ]
        },
        {
          "output_type": "stream",
          "name": "stdout",
          "text": [
            "[CV] END bootstrap=False, class_weight=balanced, max_depth=29, max_features=auto, min_samples_leaf=8, min_samples_split=48, n_estimators=84; total time=   2.6s\n"
          ]
        },
        {
          "output_type": "stream",
          "name": "stderr",
          "text": [
            "/usr/local/lib/python3.10/dist-packages/sklearn/ensemble/_forest.py:424: FutureWarning: `max_features='auto'` has been deprecated in 1.1 and will be removed in 1.3. To keep the past behaviour, explicitly set `max_features='sqrt'` or remove this parameter as it is also the default value for RandomForestClassifiers and ExtraTreesClassifiers.\n",
            "  warn(\n"
          ]
        },
        {
          "output_type": "stream",
          "name": "stdout",
          "text": [
            "[CV] END bootstrap=False, class_weight=balanced, max_depth=29, max_features=auto, min_samples_leaf=8, min_samples_split=48, n_estimators=84; total time=   2.2s\n"
          ]
        },
        {
          "output_type": "stream",
          "name": "stderr",
          "text": [
            "/usr/local/lib/python3.10/dist-packages/sklearn/ensemble/_forest.py:424: FutureWarning: `max_features='auto'` has been deprecated in 1.1 and will be removed in 1.3. To keep the past behaviour, explicitly set `max_features='sqrt'` or remove this parameter as it is also the default value for RandomForestClassifiers and ExtraTreesClassifiers.\n",
            "  warn(\n"
          ]
        },
        {
          "output_type": "stream",
          "name": "stdout",
          "text": [
            "[CV] END bootstrap=False, class_weight=balanced, max_depth=29, max_features=auto, min_samples_leaf=8, min_samples_split=48, n_estimators=84; total time=   1.8s\n"
          ]
        },
        {
          "output_type": "stream",
          "name": "stderr",
          "text": [
            "/usr/local/lib/python3.10/dist-packages/sklearn/ensemble/_forest.py:424: FutureWarning: `max_features='auto'` has been deprecated in 1.1 and will be removed in 1.3. To keep the past behaviour, explicitly set `max_features='sqrt'` or remove this parameter as it is also the default value for RandomForestClassifiers and ExtraTreesClassifiers.\n",
            "  warn(\n"
          ]
        },
        {
          "output_type": "stream",
          "name": "stdout",
          "text": [
            "[CV] END bootstrap=False, class_weight=balanced, max_depth=29, max_features=auto, min_samples_leaf=8, min_samples_split=48, n_estimators=84; total time=   1.9s\n",
            "[CV] END bootstrap=False, class_weight=None, max_depth=27, max_features=sqrt, min_samples_leaf=40, min_samples_split=5, n_estimators=51; total time=   1.0s\n",
            "[CV] END bootstrap=False, class_weight=None, max_depth=27, max_features=sqrt, min_samples_leaf=40, min_samples_split=5, n_estimators=51; total time=   1.0s\n",
            "[CV] END bootstrap=False, class_weight=None, max_depth=27, max_features=sqrt, min_samples_leaf=40, min_samples_split=5, n_estimators=51; total time=   0.9s\n",
            "[CV] END bootstrap=False, class_weight=None, max_depth=27, max_features=sqrt, min_samples_leaf=40, min_samples_split=5, n_estimators=51; total time=   0.9s\n",
            "[CV] END bootstrap=False, class_weight=None, max_depth=27, max_features=sqrt, min_samples_leaf=40, min_samples_split=5, n_estimators=51; total time=   1.0s\n"
          ]
        },
        {
          "output_type": "stream",
          "name": "stderr",
          "text": [
            "/usr/local/lib/python3.10/dist-packages/sklearn/ensemble/_forest.py:424: FutureWarning: `max_features='auto'` has been deprecated in 1.1 and will be removed in 1.3. To keep the past behaviour, explicitly set `max_features='sqrt'` or remove this parameter as it is also the default value for RandomForestClassifiers and ExtraTreesClassifiers.\n",
            "  warn(\n"
          ]
        },
        {
          "output_type": "stream",
          "name": "stdout",
          "text": [
            "Best Parameters: {'bootstrap': False, 'class_weight': None, 'max_depth': 40, 'max_features': 'auto', 'min_samples_leaf': 2, 'min_samples_split': 25, 'n_estimators': 207}\n",
            "=== Train Data ===\n",
            "Weighted F1 Score = 0.9891\n",
            "\n",
            "ROC-AUC score: 0.9999\n",
            "\n",
            "_______________________________________________\n",
            "              precision    recall  f1-score   support\n",
            "\n",
            "           0       1.00      0.96      0.98       897\n",
            "           1       0.91      0.99      0.95       899\n",
            "           2       1.00      0.96      0.98       914\n",
            "           3       0.99      0.99      0.99       889\n",
            "           4       0.99      1.00      1.00       910\n",
            "           5       1.00      1.00      1.00       916\n",
            "           6       1.00      0.94      0.97       879\n",
            "           7       1.00      1.00      1.00       905\n",
            "           8       1.00      1.00      1.00       915\n",
            "           9       1.00      1.00      1.00       897\n",
            "          10       1.00      1.00      1.00       896\n",
            "          11       0.99      1.00      0.99       895\n",
            "          12       0.99      0.95      0.97       899\n",
            "          13       0.99      1.00      0.99       906\n",
            "          14       1.00      1.00      1.00       894\n",
            "          15       1.00      0.99      1.00       901\n",
            "          16       1.00      0.99      1.00       894\n",
            "          17       1.00      1.00      1.00       899\n",
            "          18       0.94      0.99      0.96       895\n",
            "          19       0.99      1.00      1.00       895\n",
            "          20       1.00      0.99      0.99       912\n",
            "          21       1.00      1.00      1.00       893\n",
            "\n",
            "    accuracy                           0.99     19800\n",
            "   macro avg       0.99      0.99      0.99     19800\n",
            "weighted avg       0.99      0.99      0.99     19800\n",
            "\n",
            "\n",
            "\n",
            "=== Test Data ===\n",
            "Weighted F1 Score = 0.9735\n",
            "\n",
            "ROC-AUC score: 0.9993\n",
            "\n",
            "_______________________________________________\n",
            "              precision    recall  f1-score   support\n",
            "\n",
            "           0       0.97      0.90      0.93       103\n",
            "           1       0.84      0.97      0.90       101\n",
            "           2       1.00      0.88      0.94        86\n",
            "           3       0.97      0.92      0.94       111\n",
            "           4       0.99      1.00      0.99        90\n",
            "           5       0.99      1.00      0.99        84\n",
            "           6       1.00      0.96      0.98       121\n",
            "           7       1.00      0.98      0.99        95\n",
            "           8       0.99      1.00      0.99        85\n",
            "           9       1.00      1.00      1.00       103\n",
            "          10       1.00      0.99      1.00       104\n",
            "          11       0.99      0.99      0.99       105\n",
            "          12       0.99      0.96      0.97       101\n",
            "          13       0.95      0.99      0.97        94\n",
            "          14       1.00      1.00      1.00       106\n",
            "          15       1.00      0.99      0.99        99\n",
            "          16       0.99      0.99      0.99       106\n",
            "          17       1.00      0.99      1.00       101\n",
            "          18       0.84      0.96      0.90       105\n",
            "          19       0.97      1.00      0.99       105\n",
            "          20       0.98      0.93      0.95        88\n",
            "          21       1.00      1.00      1.00       107\n",
            "\n",
            "    accuracy                           0.97      2200\n",
            "   macro avg       0.98      0.97      0.97      2200\n",
            "weighted avg       0.98      0.97      0.97      2200\n",
            "\n",
            "\n",
            "\n"
          ]
        }
      ]
    }
  ]
}