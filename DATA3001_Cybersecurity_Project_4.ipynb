{
  "nbformat": 4,
  "nbformat_minor": 0,
  "metadata": {
    "colab": {
      "provenance": [],
      "include_colab_link": true
    },
    "kernelspec": {
      "name": "python3",
      "display_name": "Python 3"
    },
    "language_info": {
      "name": "python"
    }
  },
  "cells": [
    {
      "cell_type": "markdown",
      "metadata": {
        "id": "view-in-github",
        "colab_type": "text"
      },
      "source": [
        "<a href=\"https://colab.research.google.com/github/BChun11/DATA3001/blob/main/DATA3001_Cybersecurity_Project_4.ipynb\" target=\"_parent\"><img src=\"https://colab.research.google.com/assets/colab-badge.svg\" alt=\"Open In Colab\"/></a>"
      ]
    },
    {
      "cell_type": "code",
      "execution_count": null,
      "metadata": {
        "id": "vM0sMcO2i7Ec",
        "outputId": "32e4fc9c-62e4-4405-eb3c-e253e09960be",
        "colab": {
          "base_uri": "https://localhost:8080/",
          "height": 70
        }
      },
      "outputs": [
        {
          "output_type": "execute_result",
          "data": {
            "text/plain": [
              "'import pandas as pd\\ntry:\\n  from google.colab import drive\\n  IN_COLAB = True\\nexcept:\\n  IN_COLAB = False\\nif IN_COLAB:\\n  drive.mount(\\'/content/drive\\')\\n  %cd \\'/content/drive/MyDrive/COMP9417\\'\\ndataset_PATH = \"march-machine-learning-mania-2023\"\\nmodel_PATH = \"models\"\\npd.set_option(\"display.max_column\", 999)\\npd.set_option(\"display.max_row\", 999)\\nRANDOM_STATE = 7'"
            ],
            "application/vnd.google.colaboratory.intrinsic+json": {
              "type": "string"
            }
          },
          "metadata": {},
          "execution_count": 10
        }
      ],
      "source": [
        "\"\"\"import pandas as pd\n",
        "try:\n",
        "  from google.colab import drive\n",
        "  IN_COLAB = True\n",
        "except:\n",
        "  IN_COLAB = False\n",
        "if IN_COLAB:\n",
        "  drive.mount('/content/drive')\n",
        "  %cd '/content/drive/MyDrive/COMP9417'\n",
        "dataset_PATH = \"march-machine-learning-mania-2023\"\n",
        "model_PATH = \"models\"\n",
        "pd.set_option(\"display.max_column\", 999)\n",
        "pd.set_option(\"display.max_row\", 999)\n",
        "RANDOM_STATE = 7\"\"\""
      ]
    },
    {
      "cell_type": "code",
      "source": [
        " ## This is to load in the data file, just have mouse_computer blah as the first file\n",
        " #!tar -xzvf \"/content/drive/MyDrive/DATA3001/KDDI-IoT-2019-main/ipfix/mouse_computer_room_hub.tar.gz\" -C \"/content/\""
      ],
      "metadata": {
        "id": "_erq-_KRkANf"
      },
      "execution_count": null,
      "outputs": []
    },
    {
      "cell_type": "code",
      "source": [
        "## Reading in the extracted data file\n",
        "\"\"\"df = pd.read_json('/content/mouse_computer_room_hub.json', lines=True)\n",
        "\n",
        "data = df['flows']\n",
        "\n",
        "for i, row in enumerate(data):\n",
        "  if i == 0:\n",
        "    val = pd.DataFrame.from_dict(row, orient='index')\n",
        "    print(val)\n",
        "\"\"\""
      ],
      "metadata": {
        "colab": {
          "base_uri": "https://localhost:8080/",
          "height": 53
        },
        "id": "Too6gGiZqD82",
        "outputId": "31f23aba-5877-4550-f645-8bba4d567add"
      },
      "execution_count": null,
      "outputs": [
        {
          "output_type": "execute_result",
          "data": {
            "text/plain": [
              "\"df = pd.read_json('/content/mouse_computer_room_hub.json', lines=True)\\n\\ndata = df['flows']\\n\\nfor i, row in enumerate(data):\\n  if i == 0:\\n    val = pd.DataFrame.from_dict(row, orient='index')\\n    print(val)\\n\""
            ],
            "application/vnd.google.colaboratory.intrinsic+json": {
              "type": "string"
            }
          },
          "metadata": {},
          "execution_count": 12
        }
      ]
    },
    {
      "cell_type": "markdown",
      "source": [
        "## Try download file from github source"
      ],
      "metadata": {
        "id": "ncWkR7iz8v7Z"
      }
    },
    {
      "cell_type": "markdown",
      "source": [
        "### Import the required libraries"
      ],
      "metadata": {
        "id": "cBSezuDfFOfJ"
      }
    },
    {
      "cell_type": "code",
      "source": [
        "import os\n",
        "import pandas as pd\n",
        "import numpy as np\n",
        "import seaborn as sns\n",
        "import matplotlib.pyplot as plt"
      ],
      "metadata": {
        "id": "9XNQ8ZPOFSqU"
      },
      "execution_count": null,
      "outputs": []
    },
    {
      "cell_type": "code",
      "source": [
        "# Download all the files into google colab environment\n",
        "!git clone https://github.com/nokuik/KDDI-IoT-2019.git"
      ],
      "metadata": {
        "id": "w4lWGEDq80oG",
        "colab": {
          "base_uri": "https://localhost:8080/"
        },
        "outputId": "9840b171-68f7-4eec-ebaf-d6b6aa572b9e"
      },
      "execution_count": null,
      "outputs": [
        {
          "output_type": "stream",
          "name": "stdout",
          "text": [
            "Cloning into 'KDDI-IoT-2019'...\n",
            "remote: Enumerating objects: 42, done.\u001b[K\n",
            "remote: Counting objects: 100% (9/9), done.\u001b[K\n",
            "remote: Compressing objects: 100% (5/5), done.\u001b[K\n",
            "remote: Total 42 (delta 1), reused 9 (delta 1), pack-reused 33\u001b[K\n",
            "Receiving objects: 100% (42/42), 776.84 MiB | 30.75 MiB/s, done.\n",
            "Resolving deltas: 100% (1/1), done.\n",
            "Updating files: 100% (31/31), done.\n"
          ]
        }
      ]
    },
    {
      "cell_type": "code",
      "source": [
        "# List all '.tar.gz files in ipfix directory\n",
        "%cd KDDI-IoT-2019\n",
        "%cd ipfix\n",
        "!ls *.tar.gz"
      ],
      "metadata": {
        "colab": {
          "base_uri": "https://localhost:8080/"
        },
        "id": "M72NXzOoC-wI",
        "outputId": "078c0058-aaef-4428-fc59-e79595e2d9e4"
      },
      "execution_count": null,
      "outputs": [
        {
          "output_type": "stream",
          "name": "stdout",
          "text": [
            "/content/KDDI-IoT-2019\n",
            "/content/KDDI-IoT-2019/ipfix\n",
            " amazon_echo_gen2.tar.gz\t\t        nature_remo.tar.gz\n",
            " au_network_camera.tar.gz\t\t        panasonic_doorphone.tar.gz\n",
            " au_wireless_adapter.tar.gz\t\t        philips_hue_bridge.tar.gz\n",
            " bitfinder_awair_breathe_easy.tar.gz\t       'planex_camera_one_shot!.tar.gz'\n",
            " candy_house_sesami_wi-fi_access_point.tar.gz   planex_smacam_outdoor.tar.gz\n",
            " irobot_roomba.tar.gz\t\t\t        planex_smacam_pantilt.tar.gz\n",
            " jvc_kenwood_cu-hb1.tar.gz\t\t        powerelectric_wi-fi_plug.tar.gz\n",
            " jvc_kenwood_hdtv_ip_camera.tar.gz\t        qrio_hub.tar.gz\n",
            " line_clova_wave.tar.gz\t\t\t        sony_network_camera.tar.gz\n",
            " link_japan_eremote.tar.gz\t\t        sony_smart_speaker.tar.gz\n",
            " mouse_computer_room_hub.tar.gz\t\t        xiaomi_mijia_led.tar.gz\n"
          ]
        }
      ]
    },
    {
      "cell_type": "code",
      "source": [
        "# List all tar.gz files and store them in a variable\n",
        "files = !ls -1 *.tar.gz\n",
        "\n",
        "# Extract each tar.gz file\n",
        "for file in files:\n",
        "    print(f\"Extract {file} \")\n",
        "    !tar -xzvf {file}"
      ],
      "metadata": {
        "id": "88uB4crCE1ml",
        "colab": {
          "base_uri": "https://localhost:8080/"
        },
        "outputId": "fb6cfa07-b7f9-49e7-9945-b7e39127f0ea"
      },
      "execution_count": null,
      "outputs": [
        {
          "output_type": "stream",
          "name": "stdout",
          "text": [
            "Extract amazon_echo_gen2.tar.gz \n",
            "amazon_echo_gen2.json\n",
            "Extract au_network_camera.tar.gz \n",
            "au_network_camera.json\n",
            "Extract au_wireless_adapter.tar.gz \n",
            "au_wireless_adapter.json\n",
            "Extract bitfinder_awair_breathe_easy.tar.gz \n",
            "bitfinder_awair_breathe_easy.json\n",
            "Extract candy_house_sesami_wi-fi_access_point.tar.gz \n",
            "candy_house_sesami_wi-fi_access_point.json\n",
            "Extract irobot_roomba.tar.gz \n",
            "irobot_roomba.json\n",
            "Extract jvc_kenwood_cu-hb1.tar.gz \n",
            "jvc_kenwood_cu-hb1.json\n",
            "Extract jvc_kenwood_hdtv_ip_camera.tar.gz \n",
            "jvc_kenwood_hdtv_ip_camera.json\n",
            "Extract line_clova_wave.tar.gz \n",
            "line_clova_wave.json\n",
            "Extract link_japan_eremote.tar.gz \n",
            "link_japan_eremote.json\n",
            "Extract mouse_computer_room_hub.tar.gz \n",
            "mouse_computer_room_hub.json\n",
            "Extract nature_remo.tar.gz \n",
            "nature_remo.json\n",
            "Extract panasonic_doorphone.tar.gz \n",
            "panasonic_doorphone.json\n",
            "Extract philips_hue_bridge.tar.gz \n",
            "philips_hue_bridge.json\n",
            "Extract 'planex_camera_one_shot!.tar.gz' \n",
            "planex_camera_one_shot!.json\n",
            "Extract planex_smacam_outdoor.tar.gz \n",
            "planex_smacam_outdoor.json\n",
            "Extract planex_smacam_pantilt.tar.gz \n",
            "planex_smacam_pantilt.json\n",
            "Extract powerelectric_wi-fi_plug.tar.gz \n",
            "powerelectric_wi-fi_plug.json\n",
            "Extract qrio_hub.tar.gz \n",
            "qrio_hub.json\n",
            "Extract sony_network_camera.tar.gz \n",
            "sony_network_camera.json\n",
            "Extract sony_smart_speaker.tar.gz \n",
            "sony_smart_speaker.json\n",
            "Extract xiaomi_mijia_led.tar.gz \n",
            "xiaomi_mijia_led.json\n"
          ]
        }
      ]
    },
    {
      "cell_type": "code",
      "source": [
        "# Print the current working directory\n",
        "print(\"Current Working Directory:\", os.getcwd())\n",
        "\n",
        "# List the contents of the current working directory\n",
        "print(\"Contents of Current Directory:\", os.listdir())\n",
        "\n",
        "!cd"
      ],
      "metadata": {
        "colab": {
          "base_uri": "https://localhost:8080/"
        },
        "id": "QYmfOWPPsoRR",
        "outputId": "39388a95-603d-431f-e780-357c10fa7e49"
      },
      "execution_count": null,
      "outputs": [
        {
          "output_type": "stream",
          "name": "stdout",
          "text": [
            "Current Working Directory: /content/KDDI-IoT-2019/ipfix\n",
            "Contents of Current Directory: ['amazon_echo_gen2.tar.gz', 'panasonic_doorphone.json', 'jvc_kenwood_cu-hb1.json', 'powerelectric_wi-fi_plug.tar.gz', 'jvc_kenwood_cu-hb1.tar.gz', 'sony_network_camera.json', 'i-o_data_qwatch.tar.gz01', 'mouse_computer_room_hub.json', 'line_clova_wave.json', 'planex_smacam_outdoor.json', 'jvc_kenwood_hdtv_ip_camera.tar.gz', 'candy_house_sesami_wi-fi_access_point.json', 'sony_bravia.tar.gz00', 'sony_bravia.tar.gz02', 'link_japan_eremote.tar.gz', 'nature_remo.tar.gz', 'planex_smacam_outdoor.tar.gz', 'philips_hue_bridge.json', 'amazon_echo_gen2.json', 'google_home_gen1.tar.gz01', 'panasonic_doorphone.tar.gz', 'sony_bravia.tar.gz01', 'irobot_roomba.tar.gz', 'philips_hue_bridge.tar.gz', 'sony_smart_speaker.json', 'jvc_kenwood_hdtv_ip_camera.json', 'bitfinder_awair_breathe_easy.json', 'xiaomi_mijia_led.json', 'qrio_hub.json', 'candy_house_sesami_wi-fi_access_point.tar.gz', 'irobot_roomba.json', 'sony_smart_speaker.tar.gz', 'planex_smacam_pantilt.json', 'sony_network_camera.tar.gz', 'google_home_gen1.tar.gz00', 'au_wireless_adapter.json', 'powerelectric_wi-fi_plug.json', 'line_clova_wave.tar.gz', 'au_network_camera.tar.gz', 'au_network_camera.json', 'i-o_data_qwatch.tar.gz00', 'mouse_computer_room_hub.tar.gz', 'bitfinder_awair_breathe_easy.tar.gz', 'link_japan_eremote.json', 'nature_remo.json', 'qrio_hub.tar.gz', 'planex_smacam_pantilt.tar.gz', 'planex_camera_one_shot!.json', 'au_wireless_adapter.tar.gz', 'planex_camera_one_shot!.tar.gz', 'xiaomi_mijia_led.tar.gz']\n"
          ]
        }
      ]
    },
    {
      "cell_type": "code",
      "source": [
        "#### Code to generate distinct tables for each json file using a limited subset\n",
        "\n",
        "# Define the directory where the JSON files are located\n",
        "json_directory = '/content/KDDI-IoT-2019/ipfix'\n",
        "\n",
        "# Get the list of all JSON files in the directory\n",
        "json_files = [f for f in os.listdir(json_directory) if f.endswith('.json')]\n",
        "\n",
        "# Create distinct tables for each json file\n",
        "tables = {}\n",
        "for json_file in json_files:\n",
        "    # strip .json suffix from device names\n",
        "    device_name = json_file.split('.')[0]\n",
        "    # Construct the full path to the JSON file\n",
        "    json_path = os.path.join(json_directory, json_file)\n",
        "    # Read the JSON file into a DataFrame, normalize the 'flows' column, and get the first 1000 rows\n",
        "    df = pd.json_normalize(pd.read_json(json_path, lines=True, nrows=1000)['flows'])\n",
        "\n",
        "    # Label the DataFrame with the device name\n",
        "    df['Device'] = device_name\n",
        "    tables[device_name] = df\n",
        "\n",
        "# Concatenate all the Dataframes in the tables dictionary into a single Dataframe\n",
        "df = pd.concat(tables.values(), ignore_index=True)\n",
        "df.head()"
      ],
      "metadata": {
        "id": "AiVtH1m6t02m",
        "colab": {
          "base_uri": "https://localhost:8080/",
          "height": 342
        },
        "outputId": "f1a1a67d-844b-41fb-9955-58bf34826aaa"
      },
      "execution_count": null,
      "outputs": [
        {
          "output_type": "execute_result",
          "data": {
            "text/plain": [
              "     flowStartMilliseconds      flowEndMilliseconds  flowDurationMilliseconds  \\\n",
              "0  2019-06-25 08:36:30.085  2019-06-25 08:36:30.086                     0.001   \n",
              "1  2019-06-25 08:36:37.010  2019-06-25 08:36:37.010                     0.000   \n",
              "2  2019-06-25 08:36:37.010  2019-06-25 08:36:37.010                     0.000   \n",
              "3  2019-06-25 08:36:37.026  2019-06-25 08:36:37.026                     0.000   \n",
              "4  2019-06-25 08:36:37.028  2019-06-25 08:36:37.028                     0.000   \n",
              "\n",
              "   reverseFlowDeltaMilliseconds  protocolIdentifier sourceIPv4Address  \\\n",
              "0                         0.001                  17      192.168.1.57   \n",
              "1                         0.000                  17      192.168.1.57   \n",
              "2                         0.000                  17      192.168.1.57   \n",
              "3                         0.000                  17     52.193.210.16   \n",
              "4                         0.000                  17     52.193.210.16   \n",
              "\n",
              "   sourceTransportPort  packetTotalCount  octetTotalCount flowAttributes  ...  \\\n",
              "0                50934                 1               64             00  ...   \n",
              "1                41828                 1              108             00  ...   \n",
              "2                34591                 1              108             00  ...   \n",
              "3                16699                 1              108             00  ...   \n",
              "4                 6241                 1              108             00  ...   \n",
              "\n",
              "  reverseNonEmptyPacketCount reverseDataByteCount  \\\n",
              "0                        1.0                 52.0   \n",
              "1                        NaN                  NaN   \n",
              "2                        NaN                  NaN   \n",
              "3                        NaN                  NaN   \n",
              "4                        NaN                  NaN   \n",
              "\n",
              "   reverseAverageInterarrivalTime  reverseFirstNonEmptyPacketSize  \\\n",
              "0                             0.0                            52.0   \n",
              "1                             NaN                             NaN   \n",
              "2                             NaN                             NaN   \n",
              "3                             NaN                             NaN   \n",
              "4                             NaN                             NaN   \n",
              "\n",
              "   reverseLargePacketCount reverseMaxPacketSize  \\\n",
              "0                      0.0                 52.0   \n",
              "1                      NaN                  NaN   \n",
              "2                      NaN                  NaN   \n",
              "3                      NaN                  NaN   \n",
              "4                      NaN                  NaN   \n",
              "\n",
              "  reverseStandardDeviationPayloadLength  \\\n",
              "0                                   0.0   \n",
              "1                                   NaN   \n",
              "2                                   NaN   \n",
              "3                                   NaN   \n",
              "4                                   NaN   \n",
              "\n",
              "  reverseStandardDeviationInterarrivalTime reverseBytesPerPacket  \\\n",
              "0                                      0.0                  52.0   \n",
              "1                                      NaN                   NaN   \n",
              "2                                      NaN                   NaN   \n",
              "3                                      NaN                   NaN   \n",
              "4                                      NaN                   NaN   \n",
              "\n",
              "                Device  \n",
              "0  panasonic_doorphone  \n",
              "1  panasonic_doorphone  \n",
              "2  panasonic_doorphone  \n",
              "3  panasonic_doorphone  \n",
              "4  panasonic_doorphone  \n",
              "\n",
              "[5 rows x 55 columns]"
            ],
            "text/html": [
              "\n",
              "  <div id=\"df-fa8b445f-0b9c-4cea-899a-907747fe1b0e\" class=\"colab-df-container\">\n",
              "    <div>\n",
              "<style scoped>\n",
              "    .dataframe tbody tr th:only-of-type {\n",
              "        vertical-align: middle;\n",
              "    }\n",
              "\n",
              "    .dataframe tbody tr th {\n",
              "        vertical-align: top;\n",
              "    }\n",
              "\n",
              "    .dataframe thead th {\n",
              "        text-align: right;\n",
              "    }\n",
              "</style>\n",
              "<table border=\"1\" class=\"dataframe\">\n",
              "  <thead>\n",
              "    <tr style=\"text-align: right;\">\n",
              "      <th></th>\n",
              "      <th>flowStartMilliseconds</th>\n",
              "      <th>flowEndMilliseconds</th>\n",
              "      <th>flowDurationMilliseconds</th>\n",
              "      <th>reverseFlowDeltaMilliseconds</th>\n",
              "      <th>protocolIdentifier</th>\n",
              "      <th>sourceIPv4Address</th>\n",
              "      <th>sourceTransportPort</th>\n",
              "      <th>packetTotalCount</th>\n",
              "      <th>octetTotalCount</th>\n",
              "      <th>flowAttributes</th>\n",
              "      <th>...</th>\n",
              "      <th>reverseNonEmptyPacketCount</th>\n",
              "      <th>reverseDataByteCount</th>\n",
              "      <th>reverseAverageInterarrivalTime</th>\n",
              "      <th>reverseFirstNonEmptyPacketSize</th>\n",
              "      <th>reverseLargePacketCount</th>\n",
              "      <th>reverseMaxPacketSize</th>\n",
              "      <th>reverseStandardDeviationPayloadLength</th>\n",
              "      <th>reverseStandardDeviationInterarrivalTime</th>\n",
              "      <th>reverseBytesPerPacket</th>\n",
              "      <th>Device</th>\n",
              "    </tr>\n",
              "  </thead>\n",
              "  <tbody>\n",
              "    <tr>\n",
              "      <th>0</th>\n",
              "      <td>2019-06-25 08:36:30.085</td>\n",
              "      <td>2019-06-25 08:36:30.086</td>\n",
              "      <td>0.001</td>\n",
              "      <td>0.001</td>\n",
              "      <td>17</td>\n",
              "      <td>192.168.1.57</td>\n",
              "      <td>50934</td>\n",
              "      <td>1</td>\n",
              "      <td>64</td>\n",
              "      <td>00</td>\n",
              "      <td>...</td>\n",
              "      <td>1.0</td>\n",
              "      <td>52.0</td>\n",
              "      <td>0.0</td>\n",
              "      <td>52.0</td>\n",
              "      <td>0.0</td>\n",
              "      <td>52.0</td>\n",
              "      <td>0.0</td>\n",
              "      <td>0.0</td>\n",
              "      <td>52.0</td>\n",
              "      <td>panasonic_doorphone</td>\n",
              "    </tr>\n",
              "    <tr>\n",
              "      <th>1</th>\n",
              "      <td>2019-06-25 08:36:37.010</td>\n",
              "      <td>2019-06-25 08:36:37.010</td>\n",
              "      <td>0.000</td>\n",
              "      <td>0.000</td>\n",
              "      <td>17</td>\n",
              "      <td>192.168.1.57</td>\n",
              "      <td>41828</td>\n",
              "      <td>1</td>\n",
              "      <td>108</td>\n",
              "      <td>00</td>\n",
              "      <td>...</td>\n",
              "      <td>NaN</td>\n",
              "      <td>NaN</td>\n",
              "      <td>NaN</td>\n",
              "      <td>NaN</td>\n",
              "      <td>NaN</td>\n",
              "      <td>NaN</td>\n",
              "      <td>NaN</td>\n",
              "      <td>NaN</td>\n",
              "      <td>NaN</td>\n",
              "      <td>panasonic_doorphone</td>\n",
              "    </tr>\n",
              "    <tr>\n",
              "      <th>2</th>\n",
              "      <td>2019-06-25 08:36:37.010</td>\n",
              "      <td>2019-06-25 08:36:37.010</td>\n",
              "      <td>0.000</td>\n",
              "      <td>0.000</td>\n",
              "      <td>17</td>\n",
              "      <td>192.168.1.57</td>\n",
              "      <td>34591</td>\n",
              "      <td>1</td>\n",
              "      <td>108</td>\n",
              "      <td>00</td>\n",
              "      <td>...</td>\n",
              "      <td>NaN</td>\n",
              "      <td>NaN</td>\n",
              "      <td>NaN</td>\n",
              "      <td>NaN</td>\n",
              "      <td>NaN</td>\n",
              "      <td>NaN</td>\n",
              "      <td>NaN</td>\n",
              "      <td>NaN</td>\n",
              "      <td>NaN</td>\n",
              "      <td>panasonic_doorphone</td>\n",
              "    </tr>\n",
              "    <tr>\n",
              "      <th>3</th>\n",
              "      <td>2019-06-25 08:36:37.026</td>\n",
              "      <td>2019-06-25 08:36:37.026</td>\n",
              "      <td>0.000</td>\n",
              "      <td>0.000</td>\n",
              "      <td>17</td>\n",
              "      <td>52.193.210.16</td>\n",
              "      <td>16699</td>\n",
              "      <td>1</td>\n",
              "      <td>108</td>\n",
              "      <td>00</td>\n",
              "      <td>...</td>\n",
              "      <td>NaN</td>\n",
              "      <td>NaN</td>\n",
              "      <td>NaN</td>\n",
              "      <td>NaN</td>\n",
              "      <td>NaN</td>\n",
              "      <td>NaN</td>\n",
              "      <td>NaN</td>\n",
              "      <td>NaN</td>\n",
              "      <td>NaN</td>\n",
              "      <td>panasonic_doorphone</td>\n",
              "    </tr>\n",
              "    <tr>\n",
              "      <th>4</th>\n",
              "      <td>2019-06-25 08:36:37.028</td>\n",
              "      <td>2019-06-25 08:36:37.028</td>\n",
              "      <td>0.000</td>\n",
              "      <td>0.000</td>\n",
              "      <td>17</td>\n",
              "      <td>52.193.210.16</td>\n",
              "      <td>6241</td>\n",
              "      <td>1</td>\n",
              "      <td>108</td>\n",
              "      <td>00</td>\n",
              "      <td>...</td>\n",
              "      <td>NaN</td>\n",
              "      <td>NaN</td>\n",
              "      <td>NaN</td>\n",
              "      <td>NaN</td>\n",
              "      <td>NaN</td>\n",
              "      <td>NaN</td>\n",
              "      <td>NaN</td>\n",
              "      <td>NaN</td>\n",
              "      <td>NaN</td>\n",
              "      <td>panasonic_doorphone</td>\n",
              "    </tr>\n",
              "  </tbody>\n",
              "</table>\n",
              "<p>5 rows × 55 columns</p>\n",
              "</div>\n",
              "    <div class=\"colab-df-buttons\">\n",
              "\n",
              "  <div class=\"colab-df-container\">\n",
              "    <button class=\"colab-df-convert\" onclick=\"convertToInteractive('df-fa8b445f-0b9c-4cea-899a-907747fe1b0e')\"\n",
              "            title=\"Convert this dataframe to an interactive table.\"\n",
              "            style=\"display:none;\">\n",
              "\n",
              "  <svg xmlns=\"http://www.w3.org/2000/svg\" height=\"24px\" viewBox=\"0 -960 960 960\">\n",
              "    <path d=\"M120-120v-720h720v720H120Zm60-500h600v-160H180v160Zm220 220h160v-160H400v160Zm0 220h160v-160H400v160ZM180-400h160v-160H180v160Zm440 0h160v-160H620v160ZM180-180h160v-160H180v160Zm440 0h160v-160H620v160Z\"/>\n",
              "  </svg>\n",
              "    </button>\n",
              "\n",
              "  <style>\n",
              "    .colab-df-container {\n",
              "      display:flex;\n",
              "      gap: 12px;\n",
              "    }\n",
              "\n",
              "    .colab-df-convert {\n",
              "      background-color: #E8F0FE;\n",
              "      border: none;\n",
              "      border-radius: 50%;\n",
              "      cursor: pointer;\n",
              "      display: none;\n",
              "      fill: #1967D2;\n",
              "      height: 32px;\n",
              "      padding: 0 0 0 0;\n",
              "      width: 32px;\n",
              "    }\n",
              "\n",
              "    .colab-df-convert:hover {\n",
              "      background-color: #E2EBFA;\n",
              "      box-shadow: 0px 1px 2px rgba(60, 64, 67, 0.3), 0px 1px 3px 1px rgba(60, 64, 67, 0.15);\n",
              "      fill: #174EA6;\n",
              "    }\n",
              "\n",
              "    .colab-df-buttons div {\n",
              "      margin-bottom: 4px;\n",
              "    }\n",
              "\n",
              "    [theme=dark] .colab-df-convert {\n",
              "      background-color: #3B4455;\n",
              "      fill: #D2E3FC;\n",
              "    }\n",
              "\n",
              "    [theme=dark] .colab-df-convert:hover {\n",
              "      background-color: #434B5C;\n",
              "      box-shadow: 0px 1px 3px 1px rgba(0, 0, 0, 0.15);\n",
              "      filter: drop-shadow(0px 1px 2px rgba(0, 0, 0, 0.3));\n",
              "      fill: #FFFFFF;\n",
              "    }\n",
              "  </style>\n",
              "\n",
              "    <script>\n",
              "      const buttonEl =\n",
              "        document.querySelector('#df-fa8b445f-0b9c-4cea-899a-907747fe1b0e button.colab-df-convert');\n",
              "      buttonEl.style.display =\n",
              "        google.colab.kernel.accessAllowed ? 'block' : 'none';\n",
              "\n",
              "      async function convertToInteractive(key) {\n",
              "        const element = document.querySelector('#df-fa8b445f-0b9c-4cea-899a-907747fe1b0e');\n",
              "        const dataTable =\n",
              "          await google.colab.kernel.invokeFunction('convertToInteractive',\n",
              "                                                    [key], {});\n",
              "        if (!dataTable) return;\n",
              "\n",
              "        const docLinkHtml = 'Like what you see? Visit the ' +\n",
              "          '<a target=\"_blank\" href=https://colab.research.google.com/notebooks/data_table.ipynb>data table notebook</a>'\n",
              "          + ' to learn more about interactive tables.';\n",
              "        element.innerHTML = '';\n",
              "        dataTable['output_type'] = 'display_data';\n",
              "        await google.colab.output.renderOutput(dataTable, element);\n",
              "        const docLink = document.createElement('div');\n",
              "        docLink.innerHTML = docLinkHtml;\n",
              "        element.appendChild(docLink);\n",
              "      }\n",
              "    </script>\n",
              "  </div>\n",
              "\n",
              "\n",
              "<div id=\"df-0f6b7818-7542-4c5c-bc2b-8fa9efb71ab5\">\n",
              "  <button class=\"colab-df-quickchart\" onclick=\"quickchart('df-0f6b7818-7542-4c5c-bc2b-8fa9efb71ab5')\"\n",
              "            title=\"Suggest charts.\"\n",
              "            style=\"display:none;\">\n",
              "\n",
              "<svg xmlns=\"http://www.w3.org/2000/svg\" height=\"24px\"viewBox=\"0 0 24 24\"\n",
              "     width=\"24px\">\n",
              "    <g>\n",
              "        <path d=\"M19 3H5c-1.1 0-2 .9-2 2v14c0 1.1.9 2 2 2h14c1.1 0 2-.9 2-2V5c0-1.1-.9-2-2-2zM9 17H7v-7h2v7zm4 0h-2V7h2v10zm4 0h-2v-4h2v4z\"/>\n",
              "    </g>\n",
              "</svg>\n",
              "  </button>\n",
              "\n",
              "<style>\n",
              "  .colab-df-quickchart {\n",
              "      --bg-color: #E8F0FE;\n",
              "      --fill-color: #1967D2;\n",
              "      --hover-bg-color: #E2EBFA;\n",
              "      --hover-fill-color: #174EA6;\n",
              "      --disabled-fill-color: #AAA;\n",
              "      --disabled-bg-color: #DDD;\n",
              "  }\n",
              "\n",
              "  [theme=dark] .colab-df-quickchart {\n",
              "      --bg-color: #3B4455;\n",
              "      --fill-color: #D2E3FC;\n",
              "      --hover-bg-color: #434B5C;\n",
              "      --hover-fill-color: #FFFFFF;\n",
              "      --disabled-bg-color: #3B4455;\n",
              "      --disabled-fill-color: #666;\n",
              "  }\n",
              "\n",
              "  .colab-df-quickchart {\n",
              "    background-color: var(--bg-color);\n",
              "    border: none;\n",
              "    border-radius: 50%;\n",
              "    cursor: pointer;\n",
              "    display: none;\n",
              "    fill: var(--fill-color);\n",
              "    height: 32px;\n",
              "    padding: 0;\n",
              "    width: 32px;\n",
              "  }\n",
              "\n",
              "  .colab-df-quickchart:hover {\n",
              "    background-color: var(--hover-bg-color);\n",
              "    box-shadow: 0 1px 2px rgba(60, 64, 67, 0.3), 0 1px 3px 1px rgba(60, 64, 67, 0.15);\n",
              "    fill: var(--button-hover-fill-color);\n",
              "  }\n",
              "\n",
              "  .colab-df-quickchart-complete:disabled,\n",
              "  .colab-df-quickchart-complete:disabled:hover {\n",
              "    background-color: var(--disabled-bg-color);\n",
              "    fill: var(--disabled-fill-color);\n",
              "    box-shadow: none;\n",
              "  }\n",
              "\n",
              "  .colab-df-spinner {\n",
              "    border: 2px solid var(--fill-color);\n",
              "    border-color: transparent;\n",
              "    border-bottom-color: var(--fill-color);\n",
              "    animation:\n",
              "      spin 1s steps(1) infinite;\n",
              "  }\n",
              "\n",
              "  @keyframes spin {\n",
              "    0% {\n",
              "      border-color: transparent;\n",
              "      border-bottom-color: var(--fill-color);\n",
              "      border-left-color: var(--fill-color);\n",
              "    }\n",
              "    20% {\n",
              "      border-color: transparent;\n",
              "      border-left-color: var(--fill-color);\n",
              "      border-top-color: var(--fill-color);\n",
              "    }\n",
              "    30% {\n",
              "      border-color: transparent;\n",
              "      border-left-color: var(--fill-color);\n",
              "      border-top-color: var(--fill-color);\n",
              "      border-right-color: var(--fill-color);\n",
              "    }\n",
              "    40% {\n",
              "      border-color: transparent;\n",
              "      border-right-color: var(--fill-color);\n",
              "      border-top-color: var(--fill-color);\n",
              "    }\n",
              "    60% {\n",
              "      border-color: transparent;\n",
              "      border-right-color: var(--fill-color);\n",
              "    }\n",
              "    80% {\n",
              "      border-color: transparent;\n",
              "      border-right-color: var(--fill-color);\n",
              "      border-bottom-color: var(--fill-color);\n",
              "    }\n",
              "    90% {\n",
              "      border-color: transparent;\n",
              "      border-bottom-color: var(--fill-color);\n",
              "    }\n",
              "  }\n",
              "</style>\n",
              "\n",
              "  <script>\n",
              "    async function quickchart(key) {\n",
              "      const quickchartButtonEl =\n",
              "        document.querySelector('#' + key + ' button');\n",
              "      quickchartButtonEl.disabled = true;  // To prevent multiple clicks.\n",
              "      quickchartButtonEl.classList.add('colab-df-spinner');\n",
              "      try {\n",
              "        const charts = await google.colab.kernel.invokeFunction(\n",
              "            'suggestCharts', [key], {});\n",
              "      } catch (error) {\n",
              "        console.error('Error during call to suggestCharts:', error);\n",
              "      }\n",
              "      quickchartButtonEl.classList.remove('colab-df-spinner');\n",
              "      quickchartButtonEl.classList.add('colab-df-quickchart-complete');\n",
              "    }\n",
              "    (() => {\n",
              "      let quickchartButtonEl =\n",
              "        document.querySelector('#df-0f6b7818-7542-4c5c-bc2b-8fa9efb71ab5 button');\n",
              "      quickchartButtonEl.style.display =\n",
              "        google.colab.kernel.accessAllowed ? 'block' : 'none';\n",
              "    })();\n",
              "  </script>\n",
              "</div>\n",
              "    </div>\n",
              "  </div>\n"
            ]
          },
          "metadata": {},
          "execution_count": 18
        }
      ]
    },
    {
      "cell_type": "code",
      "source": [
        "# Reduce Memory Usage\n",
        "# reference : https://www.kaggle.com/code/arjanso/reducing-dataframe-memory-size-by-65 @ARJANGROEN\n",
        "def reduce_memory_usage(df):\n",
        "\n",
        "    start_mem = df.memory_usage().sum() / 1024**2\n",
        "    print('Memory usage of dataframe is {:.2f} MB'.format(start_mem))\n",
        "\n",
        "    for col in df.columns:\n",
        "        col_type = df[col].dtype.name\n",
        "        if ((col_type != 'datetime64[ns]') & (col_type != 'category')):\n",
        "            if (col_type != 'object'):\n",
        "                c_min = df[col].min()\n",
        "                c_max = df[col].max()\n",
        "\n",
        "                if str(col_type)[:3] == 'int':\n",
        "                    if c_min > np.iinfo(np.int8).min and c_max < np.iinfo(np.int8).max:\n",
        "                        df[col] = df[col].astype(np.int8)\n",
        "                    elif c_min > np.iinfo(np.int16).min and c_max < np.iinfo(np.int16).max:\n",
        "                        df[col] = df[col].astype(np.int16)\n",
        "                    elif c_min > np.iinfo(np.int32).min and c_max < np.iinfo(np.int32).max:\n",
        "                        df[col] = df[col].astype(np.int32)\n",
        "                    elif c_min > np.iinfo(np.int64).min and c_max < np.iinfo(np.int64).max:\n",
        "                        df[col] = df[col].astype(np.int64)\n",
        "                else:\n",
        "                    if c_min > np.finfo(np.float16).min and c_max < np.finfo(np.float16).max:\n",
        "                        df[col] = df[col].astype(np.float16)\n",
        "                    elif c_min > np.finfo(np.float32).min and c_max < np.finfo(np.float32).max:\n",
        "                        df[col] = df[col].astype(np.float32)\n",
        "                    else:\n",
        "                        pass\n",
        "            else:\n",
        "                df[col] = df[col].astype('category')\n",
        "    mem_usg = df.memory_usage().sum() / 1024**2\n",
        "    print(\"Memory usage became: \",mem_usg,\" MB\")\n",
        "\n",
        "    return df"
      ],
      "metadata": {
        "id": "oL8trP3XxW2f"
      },
      "execution_count": null,
      "outputs": []
    },
    {
      "cell_type": "code",
      "source": [
        "train_df = reduce_memory_usage(train_df)\n",
        "train_df.info()"
      ],
      "metadata": {
        "colab": {
          "base_uri": "https://localhost:8080/"
        },
        "id": "DIsyaFUTyAmF",
        "outputId": "11c27406-9906-426d-ec5f-35c8b636aa63"
      },
      "execution_count": null,
      "outputs": [
        {
          "output_type": "stream",
          "name": "stdout",
          "text": [
            "Memory usage of dataframe is 9.23 MB\n",
            "Memory usage became:  3.813507080078125  MB\n",
            "<class 'pandas.core.frame.DataFrame'>\n",
            "RangeIndex: 22000 entries, 0 to 21999\n",
            "Data columns (total 55 columns):\n",
            " #   Column                                    Non-Null Count  Dtype   \n",
            "---  ------                                    --------------  -----   \n",
            " 0   flowStartMilliseconds                     22000 non-null  category\n",
            " 1   flowEndMilliseconds                       22000 non-null  category\n",
            " 2   flowDurationMilliseconds                  22000 non-null  float16 \n",
            " 3   reverseFlowDeltaMilliseconds              22000 non-null  float16 \n",
            " 4   protocolIdentifier                        22000 non-null  int8    \n",
            " 5   sourceIPv4Address                         22000 non-null  category\n",
            " 6   sourceTransportPort                       22000 non-null  int32   \n",
            " 7   packetTotalCount                          22000 non-null  int16   \n",
            " 8   octetTotalCount                           22000 non-null  int32   \n",
            " 9   flowAttributes                            22000 non-null  category\n",
            " 10  sourceMacAddress                          22000 non-null  category\n",
            " 11  destinationIPv4Address                    22000 non-null  category\n",
            " 12  destinationTransportPort                  22000 non-null  int32   \n",
            " 13  reversePacketTotalCount                   22000 non-null  int16   \n",
            " 14  reverseOctetTotalCount                    22000 non-null  int32   \n",
            " 15  reverseFlowAttributes                     22000 non-null  category\n",
            " 16  destinationMacAddress                     22000 non-null  category\n",
            " 17  initialTCPFlags                           22000 non-null  category\n",
            " 18  unionTCPFlags                             22000 non-null  category\n",
            " 19  reverseInitialTCPFlags                    22000 non-null  category\n",
            " 20  reverseUnionTCPFlags                      22000 non-null  category\n",
            " 21  tcpSequenceNumber                         22000 non-null  category\n",
            " 22  reverseTcpSequenceNumber                  22000 non-null  category\n",
            " 23  ingressInterface                          22000 non-null  int8    \n",
            " 24  egressInterface                           22000 non-null  int8    \n",
            " 25  vlanId                                    22000 non-null  category\n",
            " 26  silkAppLabel                              22000 non-null  int8    \n",
            " 27  ipClassOfService                          22000 non-null  category\n",
            " 28  flowEndReason                             22000 non-null  category\n",
            " 29  collectorName                             22000 non-null  category\n",
            " 30  observationDomainId                       22000 non-null  int8    \n",
            " 31  tcpUrgTotalCount                          21694 non-null  float16 \n",
            " 32  smallPacketCount                          21694 non-null  float16 \n",
            " 33  nonEmptyPacketCount                       21694 non-null  float16 \n",
            " 34  dataByteCount                             21694 non-null  float32 \n",
            " 35  averageInterarrivalTime                   21694 non-null  float32 \n",
            " 36  firstNonEmptyPacketSize                   21694 non-null  float16 \n",
            " 37  largePacketCount                          21694 non-null  float16 \n",
            " 38  maxPacketSize                             21694 non-null  float16 \n",
            " 39  firstEightNonEmptyPacketDirections        21694 non-null  category\n",
            " 40  standardDeviationPayloadLength            21694 non-null  float16 \n",
            " 41  standardDeviationInterarrivalTime         21694 non-null  float32 \n",
            " 42  bytesPerPacket                            21653 non-null  float16 \n",
            " 43  reverseTcpUrgTotalCount                   5295 non-null   float16 \n",
            " 44  reverseSmallPacketCount                   5295 non-null   float16 \n",
            " 45  reverseNonEmptyPacketCount                5295 non-null   float16 \n",
            " 46  reverseDataByteCount                      5295 non-null   float32 \n",
            " 47  reverseAverageInterarrivalTime            5295 non-null   float32 \n",
            " 48  reverseFirstNonEmptyPacketSize            5295 non-null   float16 \n",
            " 49  reverseLargePacketCount                   5295 non-null   float16 \n",
            " 50  reverseMaxPacketSize                      5295 non-null   float16 \n",
            " 51  reverseStandardDeviationPayloadLength     5295 non-null   float16 \n",
            " 52  reverseStandardDeviationInterarrivalTime  5295 non-null   float32 \n",
            " 53  reverseBytesPerPacket                     5237 non-null   float16 \n",
            " 54  Device                                    22000 non-null  category\n",
            "dtypes: category(20), float16(18), float32(6), int16(2), int32(4), int8(5)\n",
            "memory usage: 3.8 MB\n"
          ]
        }
      ]
    },
    {
      "cell_type": "code",
      "source": [
        "import seaborn as sb\n",
        "sb.heatmap(train_df.corr())"
      ],
      "metadata": {
        "colab": {
          "base_uri": "https://localhost:8080/",
          "height": 778
        },
        "id": "5X-E8iGLG4ht",
        "outputId": "900584b8-f6e8-4598-a5bf-a5f1c38d8626"
      },
      "execution_count": null,
      "outputs": [
        {
          "output_type": "stream",
          "name": "stderr",
          "text": [
            "<ipython-input-22-3a73d4933809>:2: FutureWarning: The default value of numeric_only in DataFrame.corr is deprecated. In a future version, it will default to False. Select only valid columns or specify the value of numeric_only to silence this warning.\n",
            "  sb.heatmap(train_df.corr())\n"
          ]
        },
        {
          "output_type": "execute_result",
          "data": {
            "text/plain": [
              "<Axes: >"
            ]
          },
          "metadata": {},
          "execution_count": 22
        },
        {
          "output_type": "display_data",
          "data": {
            "text/plain": [
              "<Figure size 640x480 with 2 Axes>"
            ],
            "image/png": "[encoded data removed]"
          },
          "metadata": {}
        }
      ]
    },
    {
      "cell_type": "markdown",
      "source": [
        "### Im just going to experiment some stuff here"
      ],
      "metadata": {
        "id": "ROG3og595Afv"
      }
    },
    {
      "cell_type": "markdown",
      "source": [
        "### Bar chart for label column"
      ],
      "metadata": {
        "id": "d3qC_BsEGRw3"
      }
    },
    {
      "cell_type": "code",
      "source": [
        "# Count the occurrence of each unique label in the 'Device' column\n",
        "label_counts = train_df['Device'].value_counts()\n",
        "\n",
        "# Create a bar plot of the label counts\n",
        "plt.figure(figsize=(10,6))\n",
        "sns.barplot(x=label_counts.index, y=label_counts.values)\n",
        "plt.xticks(rotation=45)\n",
        "plt.title('Number of Rows per Device Type')\n",
        "plt.xlabel('Device Type')\n",
        "plt.ylabel('Count')\n",
        "plt.show()"
      ],
      "metadata": {
        "id": "Zq-FOZnuKpwl"
      },
      "execution_count": null,
      "outputs": []
    },
    {
      "cell_type": "code",
      "source": [
        "### IGNORE !!!!!!!!!!!!!!1\n",
        "\n",
        "# #### Linear Classifier for Device Types #####\n",
        "# #### Use as a benchmark to test other models against ######\n",
        "# from sklearn.preprocessing import StandardScaler\n",
        "# from sklearn.linear_model import LogisticRegression\n",
        "# from sklearn.model_selection import train_test_split\n",
        "# from sklearn.metrics import log_loss\n",
        "# from sklearn.metrics import accuracy_score\n",
        "# from sklearn.metrics import confusion_matrix\n",
        "# from sklearn.pipeline import make_pipeline\n",
        "\n",
        "# ### Currently just using the important attributes mentioned in the video\n",
        "# X = train_df[['protocolIdentifier',\n",
        "#               'destinationTransportPort', 'packetTotalCount', 'reversePacketTotalCount',\n",
        "#               'octetTotalCount', 'reverseOctetTotalCount'\n",
        "#     ]]\n",
        "# Y = train_df['Device']\n",
        "\n",
        "# X_Train, X_Test, Y_Train, Y_Test = train_test_split(X, Y)\n",
        "\n",
        "# logistic_model = LogisticRegression()\n",
        "# logistic_model.fit(X_Train, Y_Train)\n",
        "\n",
        "# train_loss = log_loss(Y_Train, logistic_model.predict(X_Train))\n",
        "# test_loss = log_loss(Y_Test, logistic_model.predict(X_Test))\n",
        "\n",
        "# train_accuracy = accuracy_score(Y_Train, logistic_model.predict(X_Train))\n",
        "# test_accuracy = accuracy_score(Y_Test, logistic_model.predict(X_Test))\n",
        "\n",
        "# print(\"Train Log Loss:\", train_loss)\n",
        "# print(\"Test Log Loss:\", test_loss)\n",
        "# print(\"Train Accuracy\", train_accuracy)\n",
        "# print(\"Test Accuracy\", test_accuracy)\n",
        "\n",
        "\n",
        "# train_cm = confusion_matrix(Y_Train, logistic_model.predict(X_Train))\n",
        "# test_cm = confusion_matrix(Y_Test, logistic_model.predict(X_Test))"
      ],
      "metadata": {
        "colab": {
          "base_uri": "https://localhost:8080/",
          "height": 529
        },
        "id": "ze7snNUzr2Q1",
        "outputId": "b13a58c6-bb0c-47ac-a17e-a8bf5efa0919"
      },
      "execution_count": null,
      "outputs": [
        {
          "output_type": "stream",
          "name": "stderr",
          "text": [
            "/usr/local/lib/python3.10/dist-packages/sklearn/linear_model/_logistic.py:458: ConvergenceWarning: lbfgs failed to converge (status=1):\n",
            "STOP: TOTAL NO. of ITERATIONS REACHED LIMIT.\n",
            "\n",
            "Increase the number of iterations (max_iter) or scale the data as shown in:\n",
            "    https://scikit-learn.org/stable/modules/preprocessing.html\n",
            "Please also refer to the documentation for alternative solver options:\n",
            "    https://scikit-learn.org/stable/modules/linear_model.html#logistic-regression\n",
            "  n_iter_i = _check_optimize_result(\n"
          ]
        },
        {
          "output_type": "error",
          "ename": "ValueError",
          "evalue": "ignored",
          "traceback": [
            "\u001b[0;31m---------------------------------------------------------------------------\u001b[0m",
            "\u001b[0;31mValueError\u001b[0m                                Traceback (most recent call last)",
            "\u001b[0;32m<ipython-input-28-33609738f4b6>\u001b[0m in \u001b[0;36m<cell line: 23>\u001b[0;34m()\u001b[0m\n\u001b[1;32m     21\u001b[0m \u001b[0mlogistic_model\u001b[0m\u001b[0;34m.\u001b[0m\u001b[0mfit\u001b[0m\u001b[0;34m(\u001b[0m\u001b[0mX_Train\u001b[0m\u001b[0;34m,\u001b[0m \u001b[0mY_Train\u001b[0m\u001b[0;34m)\u001b[0m\u001b[0;34m\u001b[0m\u001b[0;34m\u001b[0m\u001b[0m\n\u001b[1;32m     22\u001b[0m \u001b[0;34m\u001b[0m\u001b[0m\n\u001b[0;32m---> 23\u001b[0;31m \u001b[0mtrain_loss\u001b[0m \u001b[0;34m=\u001b[0m \u001b[0mlog_loss\u001b[0m\u001b[0;34m(\u001b[0m\u001b[0mY_Train\u001b[0m\u001b[0;34m,\u001b[0m \u001b[0mlogistic_model\u001b[0m\u001b[0;34m.\u001b[0m\u001b[0mpredict\u001b[0m\u001b[0;34m(\u001b[0m\u001b[0mX_Train\u001b[0m\u001b[0;34m)\u001b[0m\u001b[0;34m)\u001b[0m\u001b[0;34m\u001b[0m\u001b[0;34m\u001b[0m\u001b[0m\n\u001b[0m\u001b[1;32m     24\u001b[0m \u001b[0mtest_loss\u001b[0m \u001b[0;34m=\u001b[0m \u001b[0mlog_loss\u001b[0m\u001b[0;34m(\u001b[0m\u001b[0mY_Test\u001b[0m\u001b[0;34m,\u001b[0m \u001b[0mlogistic_model\u001b[0m\u001b[0;34m.\u001b[0m\u001b[0mpredict\u001b[0m\u001b[0;34m(\u001b[0m\u001b[0mX_Test\u001b[0m\u001b[0;34m)\u001b[0m\u001b[0;34m)\u001b[0m\u001b[0;34m\u001b[0m\u001b[0;34m\u001b[0m\u001b[0m\n\u001b[1;32m     25\u001b[0m \u001b[0;34m\u001b[0m\u001b[0m\n",
            "\u001b[0;32m/usr/local/lib/python3.10/dist-packages/sklearn/metrics/_classification.py\u001b[0m in \u001b[0;36mlog_loss\u001b[0;34m(y_true, y_pred, eps, normalize, sample_weight, labels)\u001b[0m\n\u001b[1;32m   2585\u001b[0m     \u001b[0;36m0.21616\u001b[0m\u001b[0;34m...\u001b[0m\u001b[0;34m\u001b[0m\u001b[0;34m\u001b[0m\u001b[0m\n\u001b[1;32m   2586\u001b[0m     \"\"\"\n\u001b[0;32m-> 2587\u001b[0;31m     y_pred = check_array(\n\u001b[0m\u001b[1;32m   2588\u001b[0m         \u001b[0my_pred\u001b[0m\u001b[0;34m,\u001b[0m \u001b[0mensure_2d\u001b[0m\u001b[0;34m=\u001b[0m\u001b[0;32mFalse\u001b[0m\u001b[0;34m,\u001b[0m \u001b[0mdtype\u001b[0m\u001b[0;34m=\u001b[0m\u001b[0;34m[\u001b[0m\u001b[0mnp\u001b[0m\u001b[0;34m.\u001b[0m\u001b[0mfloat64\u001b[0m\u001b[0;34m,\u001b[0m \u001b[0mnp\u001b[0m\u001b[0;34m.\u001b[0m\u001b[0mfloat32\u001b[0m\u001b[0;34m,\u001b[0m \u001b[0mnp\u001b[0m\u001b[0;34m.\u001b[0m\u001b[0mfloat16\u001b[0m\u001b[0;34m]\u001b[0m\u001b[0;34m\u001b[0m\u001b[0;34m\u001b[0m\u001b[0m\n\u001b[1;32m   2589\u001b[0m     )\n",
            "\u001b[0;32m/usr/local/lib/python3.10/dist-packages/sklearn/utils/validation.py\u001b[0m in \u001b[0;36mcheck_array\u001b[0;34m(array, accept_sparse, accept_large_sparse, dtype, order, copy, force_all_finite, ensure_2d, allow_nd, ensure_min_samples, ensure_min_features, estimator, input_name)\u001b[0m\n\u001b[1;32m    877\u001b[0m                     \u001b[0marray\u001b[0m \u001b[0;34m=\u001b[0m \u001b[0mxp\u001b[0m\u001b[0;34m.\u001b[0m\u001b[0mastype\u001b[0m\u001b[0;34m(\u001b[0m\u001b[0marray\u001b[0m\u001b[0;34m,\u001b[0m \u001b[0mdtype\u001b[0m\u001b[0;34m,\u001b[0m \u001b[0mcopy\u001b[0m\u001b[0;34m=\u001b[0m\u001b[0;32mFalse\u001b[0m\u001b[0;34m)\u001b[0m\u001b[0;34m\u001b[0m\u001b[0;34m\u001b[0m\u001b[0m\n\u001b[1;32m    878\u001b[0m                 \u001b[0;32melse\u001b[0m\u001b[0;34m:\u001b[0m\u001b[0;34m\u001b[0m\u001b[0;34m\u001b[0m\u001b[0m\n\u001b[0;32m--> 879\u001b[0;31m                     \u001b[0marray\u001b[0m \u001b[0;34m=\u001b[0m \u001b[0m_asarray_with_order\u001b[0m\u001b[0;34m(\u001b[0m\u001b[0marray\u001b[0m\u001b[0;34m,\u001b[0m \u001b[0morder\u001b[0m\u001b[0;34m=\u001b[0m\u001b[0morder\u001b[0m\u001b[0;34m,\u001b[0m \u001b[0mdtype\u001b[0m\u001b[0;34m=\u001b[0m\u001b[0mdtype\u001b[0m\u001b[0;34m,\u001b[0m \u001b[0mxp\u001b[0m\u001b[0;34m=\u001b[0m\u001b[0mxp\u001b[0m\u001b[0;34m)\u001b[0m\u001b[0;34m\u001b[0m\u001b[0;34m\u001b[0m\u001b[0m\n\u001b[0m\u001b[1;32m    880\u001b[0m             \u001b[0;32mexcept\u001b[0m \u001b[0mComplexWarning\u001b[0m \u001b[0;32mas\u001b[0m \u001b[0mcomplex_warning\u001b[0m\u001b[0;34m:\u001b[0m\u001b[0;34m\u001b[0m\u001b[0;34m\u001b[0m\u001b[0m\n\u001b[1;32m    881\u001b[0m                 raise ValueError(\n",
            "\u001b[0;32m/usr/local/lib/python3.10/dist-packages/sklearn/utils/_array_api.py\u001b[0m in \u001b[0;36m_asarray_with_order\u001b[0;34m(array, dtype, order, copy, xp)\u001b[0m\n\u001b[1;32m    183\u001b[0m     \u001b[0;32mif\u001b[0m \u001b[0mxp\u001b[0m\u001b[0;34m.\u001b[0m\u001b[0m__name__\u001b[0m \u001b[0;32min\u001b[0m \u001b[0;34m{\u001b[0m\u001b[0;34m\"numpy\"\u001b[0m\u001b[0;34m,\u001b[0m \u001b[0;34m\"numpy.array_api\"\u001b[0m\u001b[0;34m}\u001b[0m\u001b[0;34m:\u001b[0m\u001b[0;34m\u001b[0m\u001b[0;34m\u001b[0m\u001b[0m\n\u001b[1;32m    184\u001b[0m         \u001b[0;31m# Use NumPy API to support order\u001b[0m\u001b[0;34m\u001b[0m\u001b[0;34m\u001b[0m\u001b[0m\n\u001b[0;32m--> 185\u001b[0;31m         \u001b[0marray\u001b[0m \u001b[0;34m=\u001b[0m \u001b[0mnumpy\u001b[0m\u001b[0;34m.\u001b[0m\u001b[0masarray\u001b[0m\u001b[0;34m(\u001b[0m\u001b[0marray\u001b[0m\u001b[0;34m,\u001b[0m \u001b[0morder\u001b[0m\u001b[0;34m=\u001b[0m\u001b[0morder\u001b[0m\u001b[0;34m,\u001b[0m \u001b[0mdtype\u001b[0m\u001b[0;34m=\u001b[0m\u001b[0mdtype\u001b[0m\u001b[0;34m)\u001b[0m\u001b[0;34m\u001b[0m\u001b[0;34m\u001b[0m\u001b[0m\n\u001b[0m\u001b[1;32m    186\u001b[0m         \u001b[0;32mreturn\u001b[0m \u001b[0mxp\u001b[0m\u001b[0;34m.\u001b[0m\u001b[0masarray\u001b[0m\u001b[0;34m(\u001b[0m\u001b[0marray\u001b[0m\u001b[0;34m,\u001b[0m \u001b[0mcopy\u001b[0m\u001b[0;34m=\u001b[0m\u001b[0mcopy\u001b[0m\u001b[0;34m)\u001b[0m\u001b[0;34m\u001b[0m\u001b[0;34m\u001b[0m\u001b[0m\n\u001b[1;32m    187\u001b[0m     \u001b[0;32melse\u001b[0m\u001b[0;34m:\u001b[0m\u001b[0;34m\u001b[0m\u001b[0;34m\u001b[0m\u001b[0m\n",
            "\u001b[0;31mValueError\u001b[0m: could not convert string to float: 'amazon_echo_gen2'"
          ]
        }
      ]
    },
    {
      "cell_type": "code",
      "source": [
        "sb.heatmap(train_cm)"
      ],
      "metadata": {
        "id": "3JKmtJ0Vxa2_"
      },
      "execution_count": null,
      "outputs": []
    },
    {
      "cell_type": "code",
      "source": [
        "sb.heatmap(test_cm)"
      ],
      "metadata": {
        "id": "JX8jql2hxf4s"
      },
      "execution_count": null,
      "outputs": []
    }
  ]
}