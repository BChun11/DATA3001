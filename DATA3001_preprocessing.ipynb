{
  "nbformat": 4,
  "nbformat_minor": 0,
  "metadata": {
    "colab": {
      "provenance": [],
      "authorship_tag": "ABX9TyOGt4ek1v45sNvLItUe5g77",
      "include_colab_link": true
    },
    "kernelspec": {
      "name": "python3",
      "display_name": "Python 3"
    },
    "language_info": {
      "name": "python"
    }
  },
  "cells": [
    {
      "cell_type": "markdown",
      "metadata": {
        "id": "view-in-github",
        "colab_type": "text"
      },
      "source": [
        "<a href=\"https://colab.research.google.com/github/BChun11/DATA3001/blob/main/DATA3001_preprocessing.ipynb\" target=\"_parent\"><img src=\"https://colab.research.google.com/assets/colab-badge.svg\" alt=\"Open In Colab\"/></a>"
      ]
    },
    {
      "cell_type": "code",
      "execution_count": 1,
      "metadata": {
        "id": "OfiY_EjdwzkP"
      },
      "outputs": [],
      "source": [
        "# Import required libraries\n",
        "import os\n",
        "import pandas as pd\n",
        "import numpy as np\n",
        "import seaborn as sns\n",
        "import matplotlib.pyplot as plt\n",
        "\n",
        "from sklearn.model_selection import train_test_split\n",
        "from sklearn.preprocessing import LabelEncoder\n",
        "from sklearn.ensemble import RandomForestRegressor\n",
        "from sklearn.metrics import mean_absolute_error"
      ]
    },
    {
      "cell_type": "code",
      "source": [
        "# Download all the files into google colab environment\n",
        "!git clone https://github.com/nokuik/KDDI-IoT-2019.git"
      ],
      "metadata": {
        "colab": {
          "base_uri": "https://localhost:8080/"
        },
        "id": "Gws3W173w63G",
        "outputId": "d48204ef-6475-4904-ffcf-d26edcc8984a"
      },
      "execution_count": 2,
      "outputs": [
        {
          "output_type": "stream",
          "name": "stdout",
          "text": [
            "Cloning into 'KDDI-IoT-2019'...\n",
            "remote: Enumerating objects: 42, done.\u001b[K\n",
            "remote: Counting objects: 100% (9/9), done.\u001b[K\n",
            "remote: Compressing objects: 100% (5/5), done.\u001b[K\n",
            "remote: Total 42 (delta 1), reused 9 (delta 1), pack-reused 33\u001b[K\n",
            "Receiving objects: 100% (42/42), 776.84 MiB | 21.78 MiB/s, done.\n",
            "Resolving deltas: 100% (1/1), done.\n",
            "Updating files: 100% (31/31), done.\n"
          ]
        }
      ]
    },
    {
      "cell_type": "code",
      "source": [
        "# List all '.tar.gz files in ipfix directory\n",
        "%cd KDDI-IoT-2019\n",
        "%cd ipfix\n",
        "!ls *.tar.gz"
      ],
      "metadata": {
        "colab": {
          "base_uri": "https://localhost:8080/"
        },
        "id": "-iRKf9sGw8-9",
        "outputId": "409283cd-ba92-4d4c-bf0f-39d7f396b00f"
      },
      "execution_count": 3,
      "outputs": [
        {
          "output_type": "stream",
          "name": "stdout",
          "text": [
            "/content/KDDI-IoT-2019\n",
            "/content/KDDI-IoT-2019/ipfix\n",
            " amazon_echo_gen2.tar.gz\t\t        nature_remo.tar.gz\n",
            " au_network_camera.tar.gz\t\t        panasonic_doorphone.tar.gz\n",
            " au_wireless_adapter.tar.gz\t\t        philips_hue_bridge.tar.gz\n",
            " bitfinder_awair_breathe_easy.tar.gz\t       'planex_camera_one_shot!.tar.gz'\n",
            " candy_house_sesami_wi-fi_access_point.tar.gz   planex_smacam_outdoor.tar.gz\n",
            " irobot_roomba.tar.gz\t\t\t        planex_smacam_pantilt.tar.gz\n",
            " jvc_kenwood_cu-hb1.tar.gz\t\t        powerelectric_wi-fi_plug.tar.gz\n",
            " jvc_kenwood_hdtv_ip_camera.tar.gz\t        qrio_hub.tar.gz\n",
            " line_clova_wave.tar.gz\t\t\t        sony_network_camera.tar.gz\n",
            " link_japan_eremote.tar.gz\t\t        sony_smart_speaker.tar.gz\n",
            " mouse_computer_room_hub.tar.gz\t\t        xiaomi_mijia_led.tar.gz\n"
          ]
        }
      ]
    },
    {
      "cell_type": "code",
      "source": [
        "# List all tar.gz files and store them in a variable\n",
        "files = !ls -1 *.tar.gz\n",
        "\n",
        "# Extract each tar.gz file\n",
        "for file in files:\n",
        "    print(f\"Extract {file} \")\n",
        "    !tar -xzvf {file}"
      ],
      "metadata": {
        "colab": {
          "base_uri": "https://localhost:8080/"
        },
        "id": "uUANXsatw-ur",
        "outputId": "0324e696-b1d4-45bc-9380-16b8036a902a"
      },
      "execution_count": 4,
      "outputs": [
        {
          "output_type": "stream",
          "name": "stdout",
          "text": [
            "Extract amazon_echo_gen2.tar.gz \n",
            "amazon_echo_gen2.json\n",
            "Extract au_network_camera.tar.gz \n",
            "au_network_camera.json\n",
            "Extract au_wireless_adapter.tar.gz \n",
            "au_wireless_adapter.json\n",
            "Extract bitfinder_awair_breathe_easy.tar.gz \n",
            "bitfinder_awair_breathe_easy.json\n",
            "Extract candy_house_sesami_wi-fi_access_point.tar.gz \n",
            "candy_house_sesami_wi-fi_access_point.json\n",
            "Extract irobot_roomba.tar.gz \n",
            "irobot_roomba.json\n",
            "Extract jvc_kenwood_cu-hb1.tar.gz \n",
            "jvc_kenwood_cu-hb1.json\n",
            "Extract jvc_kenwood_hdtv_ip_camera.tar.gz \n",
            "jvc_kenwood_hdtv_ip_camera.json\n",
            "Extract line_clova_wave.tar.gz \n",
            "line_clova_wave.json\n",
            "Extract link_japan_eremote.tar.gz \n",
            "link_japan_eremote.json\n",
            "Extract mouse_computer_room_hub.tar.gz \n",
            "mouse_computer_room_hub.json\n",
            "Extract nature_remo.tar.gz \n",
            "nature_remo.json\n",
            "Extract panasonic_doorphone.tar.gz \n",
            "panasonic_doorphone.json\n",
            "Extract philips_hue_bridge.tar.gz \n",
            "philips_hue_bridge.json\n",
            "Extract 'planex_camera_one_shot!.tar.gz' \n",
            "planex_camera_one_shot!.json\n",
            "Extract planex_smacam_outdoor.tar.gz \n",
            "planex_smacam_outdoor.json\n",
            "Extract planex_smacam_pantilt.tar.gz \n",
            "planex_smacam_pantilt.json\n",
            "Extract powerelectric_wi-fi_plug.tar.gz \n",
            "powerelectric_wi-fi_plug.json\n",
            "Extract qrio_hub.tar.gz \n",
            "qrio_hub.json\n",
            "Extract sony_network_camera.tar.gz \n",
            "sony_network_camera.json\n",
            "Extract sony_smart_speaker.tar.gz \n",
            "sony_smart_speaker.json\n",
            "Extract xiaomi_mijia_led.tar.gz \n",
            "xiaomi_mijia_led.json\n"
          ]
        }
      ]
    },
    {
      "cell_type": "code",
      "source": [
        "# Print the current working directory\n",
        "print(\"Current Working Directory:\", os.getcwd())\n",
        "\n",
        "# List the contents of the current working directory\n",
        "print(\"Contents of Current Directory:\", os.listdir())\n",
        "\n",
        "!cd"
      ],
      "metadata": {
        "colab": {
          "base_uri": "https://localhost:8080/"
        },
        "id": "sKhSw0rtxBHG",
        "outputId": "6b306aca-bcd5-4671-91a5-eca2d07b1561"
      },
      "execution_count": 5,
      "outputs": [
        {
          "output_type": "stream",
          "name": "stdout",
          "text": [
            "Current Working Directory: /content/KDDI-IoT-2019/ipfix\n",
            "Contents of Current Directory: ['sony_smart_speaker.tar.gz', 'jvc_kenwood_cu-hb1.json', 'bitfinder_awair_breathe_easy.json', 'mouse_computer_room_hub.tar.gz', 'jvc_kenwood_hdtv_ip_camera.tar.gz', 'google_home_gen1.tar.gz00', 'au_network_camera.tar.gz', 'sony_network_camera.json', 'xiaomi_mijia_led.json', 'candy_house_sesami_wi-fi_access_point.tar.gz', 'planex_camera_one_shot!.json', 'link_japan_eremote.json', 'link_japan_eremote.tar.gz', 'au_wireless_adapter.json', 'planex_smacam_pantilt.tar.gz', 'sony_network_camera.tar.gz', 'planex_smacam_outdoor.json', 'jvc_kenwood_hdtv_ip_camera.json', 'philips_hue_bridge.json', 'jvc_kenwood_cu-hb1.tar.gz', 'sony_bravia.tar.gz01', 'planex_smacam_outdoor.tar.gz', 'qrio_hub.json', 'philips_hue_bridge.tar.gz', 'amazon_echo_gen2.json', 'candy_house_sesami_wi-fi_access_point.json', 'line_clova_wave.json', 'irobot_roomba.json', 'i-o_data_qwatch.tar.gz01', 'au_network_camera.json', 'line_clova_wave.tar.gz', 'nature_remo.tar.gz', 'sony_bravia.tar.gz02', 'panasonic_doorphone.json', 'mouse_computer_room_hub.json', 'nature_remo.json', 'au_wireless_adapter.tar.gz', 'qrio_hub.tar.gz', 'panasonic_doorphone.tar.gz', 'i-o_data_qwatch.tar.gz00', 'bitfinder_awair_breathe_easy.tar.gz', 'xiaomi_mijia_led.tar.gz', 'google_home_gen1.tar.gz01', 'planex_smacam_pantilt.json', 'planex_camera_one_shot!.tar.gz', 'sony_smart_speaker.json', 'sony_bravia.tar.gz00', 'powerelectric_wi-fi_plug.json', 'irobot_roomba.tar.gz', 'powerelectric_wi-fi_plug.tar.gz', 'amazon_echo_gen2.tar.gz']\n"
          ]
        }
      ]
    },
    {
      "cell_type": "code",
      "source": [
        "# Code to generate distinct tables for each json file using a limited subset\n",
        "\n",
        "# Define the directory where the JSON files are located\n",
        "json_directory = '/content/KDDI-IoT-2019/ipfix'\n",
        "\n",
        "# Get the list of all JSON files in the directory\n",
        "json_files = [f for f in os.listdir(json_directory) if f.endswith('.json')]\n",
        "\n",
        "# Create distinct tables for each json file\n",
        "tables = {}\n",
        "for json_file in json_files:\n",
        "    # strip .json suffix from device names\n",
        "    device_name = json_file.split('.')[0]\n",
        "    # Construct the full path to the JSON file\n",
        "    json_path = os.path.join(json_directory, json_file)\n",
        "    # Read the JSON file into a DataFrame, normalize the 'flows' column, and get the first 1000 rows\n",
        "    df = pd.json_normalize(pd.read_json(json_path, lines=True, nrows=1000)['flows'])\n",
        "\n",
        "    # Label the DataFrame with the device name\n",
        "    df['Device'] = device_name\n",
        "    tables[device_name] = df\n",
        "\n",
        "# Concatenate all the Dataframes in the tables dictionary into a single Dataframe\n",
        "df = pd.concat(tables.values(), ignore_index=True)\n",
        "\n",
        "print(df['tcpSequenceNumber'])\n"
      ],
      "metadata": {
        "colab": {
          "base_uri": "https://localhost:8080/"
        },
        "id": "yLR0ygqcxDjk",
        "outputId": "e1f50b9a-6507-426c-e552-ec91b0b3cc64"
      },
      "execution_count": 58,
      "outputs": [
        {
          "output_type": "stream",
          "name": "stdout",
          "text": [
            "0        0xe8f107f9\n",
            "1        0xfb2f21e5\n",
            "2        0x0d2f77f2\n",
            "3        0x1feaa70b\n",
            "4        0x321f2edf\n",
            "            ...    \n",
            "21995    0x00000000\n",
            "21996    0x00000000\n",
            "21997    0x5a96c4e2\n",
            "21998    0x20854743\n",
            "21999    0x5a96c86f\n",
            "Name: tcpSequenceNumber, Length: 22000, dtype: object\n"
          ]
        }
      ]
    },
    {
      "cell_type": "markdown",
      "source": [
        "#### Discarding certain attributes\n",
        "The primary goal of training our models is to focus on attributes that provide valuable and distinguishable information about the data"
      ],
      "metadata": {
        "id": "Lmyg8wTLj0yq"
      }
    },
    {
      "cell_type": "code",
      "source": [
        "# Define the list of columns to be dropped\n",
        "drop_columns = ['flowStartMilliseconds',\n",
        "                'flowEndMilliseconds',\n",
        "                'sourceMacAddress',\n",
        "                'destinationMacAddress'\n",
        "]\n",
        "\n",
        "# Drop the columns from the dataset\n",
        "df = df.drop(columns=drop_columns)"
      ],
      "metadata": {
        "id": "SXlgw24Yjz4S"
      },
      "execution_count": 59,
      "outputs": []
    },
    {
      "cell_type": "code",
      "source": [
        "import hashlib\n",
        "\n",
        "# 1. Integer Encoding for IP Addresses\n",
        "def ip_to_int(ip_str):\n",
        "    # If IPv4 address\n",
        "    if '.' in ip_str:\n",
        "        return int(''.join(ip_str.split('.')))\n",
        "    # If IPv6 address\n",
        "    elif ':' in ip_str:\n",
        "        return int(hashlib.sha256(ip_str.encode('utf-8')).hexdigest(), 16) % 10**8\n",
        "\n",
        "df['sourceIPv4Address'] = df['sourceIPv4Address'].apply(ip_to_int)\n",
        "df['destinationIPv4Address'] = df['destinationIPv4Address'].apply(ip_to_int)\n",
        "\n",
        "# 2. Label Encoding for other categorical attributes\n",
        "label_encoders = {}\n",
        "for col in ['flowAttributes', 'initialTCPFlags', 'unionTCPFlags', 'reverseInitialTCPFlags', 'reverseUnionTCPFlags', 'reverseFlowAttributes', 'collectorName']:\n",
        "    le = LabelEncoder()\n",
        "    df[col] = le.fit_transform(df[col])\n",
        "    label_encoders[col] = le\n",
        "\n",
        "# 3. Convert hex to int\n",
        "for col in ['tcpSequenceNumber', 'reverseTcpSequenceNumber', 'vlanId', 'ipClassOfService']:\n",
        "    df[col] = df[col].apply(lambda x: int(x, 16))\n"
      ],
      "metadata": {
        "id": "xilRYLfYnrfj"
      },
      "execution_count": 60,
      "outputs": []
    },
    {
      "cell_type": "code",
      "source": [
        "print(df['tcpSequenceNumber'])"
      ],
      "metadata": {
        "colab": {
          "base_uri": "https://localhost:8080/"
        },
        "id": "KzxG49Icq3wO",
        "outputId": "9601490b-eabd-4dc3-cec0-cf236224cb8f"
      },
      "execution_count": 61,
      "outputs": [
        {
          "output_type": "stream",
          "name": "stdout",
          "text": [
            "0        3908110329\n",
            "1        4214170085\n",
            "2         221214706\n",
            "3         535471883\n",
            "4         840904415\n",
            "            ...    \n",
            "21995             0\n",
            "21996             0\n",
            "21997    1519830242\n",
            "21998     545605443\n",
            "21999    1519831151\n",
            "Name: tcpSequenceNumber, Length: 22000, dtype: int64\n"
          ]
        }
      ]
    },
    {
      "cell_type": "code",
      "source": [
        "df.info()"
      ],
      "metadata": {
        "colab": {
          "base_uri": "https://localhost:8080/"
        },
        "id": "gzBeoEvKmTOY",
        "outputId": "ae555084-6af3-4e02-9ec8-a3a4833ed01f"
      },
      "execution_count": 20,
      "outputs": [
        {
          "output_type": "stream",
          "name": "stdout",
          "text": [
            "<class 'pandas.core.frame.DataFrame'>\n",
            "RangeIndex: 22000 entries, 0 to 21999\n",
            "Data columns (total 51 columns):\n",
            " #   Column                                    Non-Null Count  Dtype  \n",
            "---  ------                                    --------------  -----  \n",
            " 0   flowDurationMilliseconds                  22000 non-null  float64\n",
            " 1   reverseFlowDeltaMilliseconds              22000 non-null  float64\n",
            " 2   protocolIdentifier                        22000 non-null  int64  \n",
            " 3   sourceIPv4Address                         22000 non-null  int64  \n",
            " 4   sourceTransportPort                       22000 non-null  int64  \n",
            " 5   packetTotalCount                          22000 non-null  int64  \n",
            " 6   octetTotalCount                           22000 non-null  int64  \n",
            " 7   flowAttributes                            22000 non-null  int64  \n",
            " 8   destinationIPv4Address                    22000 non-null  object \n",
            " 9   destinationTransportPort                  22000 non-null  int64  \n",
            " 10  reversePacketTotalCount                   22000 non-null  int64  \n",
            " 11  reverseOctetTotalCount                    22000 non-null  int64  \n",
            " 12  reverseFlowAttributes                     22000 non-null  object \n",
            " 13  initialTCPFlags                           22000 non-null  int64  \n",
            " 14  unionTCPFlags                             22000 non-null  int64  \n",
            " 15  reverseInitialTCPFlags                    22000 non-null  int64  \n",
            " 16  reverseUnionTCPFlags                      22000 non-null  int64  \n",
            " 17  tcpSequenceNumber                         22000 non-null  object \n",
            " 18  reverseTcpSequenceNumber                  22000 non-null  object \n",
            " 19  ingressInterface                          22000 non-null  int64  \n",
            " 20  egressInterface                           22000 non-null  int64  \n",
            " 21  vlanId                                    22000 non-null  object \n",
            " 22  silkAppLabel                              22000 non-null  int64  \n",
            " 23  ipClassOfService                          22000 non-null  object \n",
            " 24  flowEndReason                             22000 non-null  object \n",
            " 25  collectorName                             22000 non-null  object \n",
            " 26  observationDomainId                       22000 non-null  int64  \n",
            " 27  tcpUrgTotalCount                          21694 non-null  float64\n",
            " 28  smallPacketCount                          21694 non-null  float64\n",
            " 29  nonEmptyPacketCount                       21694 non-null  float64\n",
            " 30  dataByteCount                             21694 non-null  float64\n",
            " 31  averageInterarrivalTime                   21694 non-null  float64\n",
            " 32  firstNonEmptyPacketSize                   21694 non-null  float64\n",
            " 33  largePacketCount                          21694 non-null  float64\n",
            " 34  maxPacketSize                             21694 non-null  float64\n",
            " 35  firstEightNonEmptyPacketDirections        21694 non-null  object \n",
            " 36  standardDeviationPayloadLength            21694 non-null  float64\n",
            " 37  standardDeviationInterarrivalTime         21694 non-null  float64\n",
            " 38  bytesPerPacket                            21653 non-null  float64\n",
            " 39  reverseTcpUrgTotalCount                   5295 non-null   float64\n",
            " 40  reverseSmallPacketCount                   5295 non-null   float64\n",
            " 41  reverseNonEmptyPacketCount                5295 non-null   float64\n",
            " 42  reverseDataByteCount                      5295 non-null   float64\n",
            " 43  reverseAverageInterarrivalTime            5295 non-null   float64\n",
            " 44  reverseFirstNonEmptyPacketSize            5295 non-null   float64\n",
            " 45  reverseLargePacketCount                   5295 non-null   float64\n",
            " 46  reverseMaxPacketSize                      5295 non-null   float64\n",
            " 47  reverseStandardDeviationPayloadLength     5295 non-null   float64\n",
            " 48  reverseStandardDeviationInterarrivalTime  5295 non-null   float64\n",
            " 49  reverseBytesPerPacket                     5237 non-null   float64\n",
            " 50  Device                                    22000 non-null  object \n",
            "dtypes: float64(24), int64(17), object(10)\n",
            "memory usage: 8.6+ MB\n"
          ]
        }
      ]
    },
    {
      "cell_type": "code",
      "source": [
        "\"\"\"\n",
        "  Encode categorical values since Decision Tree & Random Forest can't handle non-numeric\n",
        "  categorical data directly\n",
        "\"\"\"\n",
        "# Identify Object (typically string) Columns\n",
        "object_col = df.select_dtypes(['object']).columns\n",
        "\n",
        "# Create a dictionary to store LabelEncoders for each column (useful if you need inverse transformation later)\n",
        "label_encoders = {}\n",
        "\n",
        "for col in object_col:\n",
        "    le = LabelEncoder()\n",
        "    df[col] = le.fit_transform(df[col].astype(str))\n",
        "    label_encoders[col] = le"
      ],
      "metadata": {
        "id": "FNQrcOweCMl3"
      },
      "execution_count": 9,
      "outputs": []
    },
    {
      "cell_type": "code",
      "source": [
        "df.head()"
      ],
      "metadata": {
        "colab": {
          "base_uri": "https://localhost:8080/",
          "height": 256
        },
        "id": "pObNvEo7LLeW",
        "outputId": "edd694c3-d3fa-4a94-b30b-dbc5f8b8a60c"
      },
      "execution_count": 10,
      "outputs": [
        {
          "output_type": "execute_result",
          "data": {
            "text/plain": [
              "   flowDurationMilliseconds  reverseFlowDeltaMilliseconds  protocolIdentifier  \\\n",
              "0                     1.186                         0.178                   6   \n",
              "1                     1.158                         0.172                   6   \n",
              "2                     1.174                         0.178                   6   \n",
              "3                     1.186                         0.176                   6   \n",
              "4                     1.157                         0.173                   6   \n",
              "\n",
              "   sourceIPv4Address  sourceTransportPort  packetTotalCount  octetTotalCount  \\\n",
              "0                 24                55656                14             1841   \n",
              "1                 24                56823                14             1841   \n",
              "2                 24                55658                14             1841   \n",
              "3                 24                55659                14             1841   \n",
              "4                 24                56826                14             1841   \n",
              "\n",
              "   flowAttributes  destinationIPv4Address  destinationTransportPort  ...  \\\n",
              "0               0                     193                       443  ...   \n",
              "1               0                     188                       443  ...   \n",
              "2               0                     193                       443  ...   \n",
              "3               0                     193                       443  ...   \n",
              "4               0                     188                       443  ...   \n",
              "\n",
              "   reverseNonEmptyPacketCount  reverseDataByteCount  \\\n",
              "0                         7.0                6458.0   \n",
              "1                         7.0                6458.0   \n",
              "2                         7.0                6458.0   \n",
              "3                         7.0                6458.0   \n",
              "4                         7.0                6458.0   \n",
              "\n",
              "   reverseAverageInterarrivalTime  reverseFirstNonEmptyPacketSize  \\\n",
              "0                           100.0                          1402.0   \n",
              "1                            98.0                          1402.0   \n",
              "2                           110.0                          1402.0   \n",
              "3                           112.0                          1402.0   \n",
              "4                            82.0                          1402.0   \n",
              "\n",
              "   reverseLargePacketCount  reverseMaxPacketSize  \\\n",
              "0                      6.0                1402.0   \n",
              "1                      6.0                1402.0   \n",
              "2                      6.0                1402.0   \n",
              "3                      6.0                1402.0   \n",
              "4                      6.0                1402.0   \n",
              "\n",
              "   reverseStandardDeviationPayloadLength  \\\n",
              "0                                  565.0   \n",
              "1                                  565.0   \n",
              "2                                  565.0   \n",
              "3                                  565.0   \n",
              "4                                  565.0   \n",
              "\n",
              "   reverseStandardDeviationInterarrivalTime  reverseBytesPerPacket  Device  \n",
              "0                                     102.0                  922.0       6  \n",
              "1                                     100.0                  922.0       6  \n",
              "2                                     100.0                  922.0       6  \n",
              "3                                     103.0                  922.0       6  \n",
              "4                                     101.0                  922.0       6  \n",
              "\n",
              "[5 rows x 51 columns]"
            ],
            "text/html": [
              "\n",
              "  <div id=\"df-fdefbd6e-17d4-4d8b-8f5f-2edea11120b9\" class=\"colab-df-container\">\n",
              "    <div>\n",
              "<style scoped>\n",
              "    .dataframe tbody tr th:only-of-type {\n",
              "        vertical-align: middle;\n",
              "    }\n",
              "\n",
              "    .dataframe tbody tr th {\n",
              "        vertical-align: top;\n",
              "    }\n",
              "\n",
              "    .dataframe thead th {\n",
              "        text-align: right;\n",
              "    }\n",
              "</style>\n",
              "<table border=\"1\" class=\"dataframe\">\n",
              "  <thead>\n",
              "    <tr style=\"text-align: right;\">\n",
              "      <th></th>\n",
              "      <th>flowDurationMilliseconds</th>\n",
              "      <th>reverseFlowDeltaMilliseconds</th>\n",
              "      <th>protocolIdentifier</th>\n",
              "      <th>sourceIPv4Address</th>\n",
              "      <th>sourceTransportPort</th>\n",
              "      <th>packetTotalCount</th>\n",
              "      <th>octetTotalCount</th>\n",
              "      <th>flowAttributes</th>\n",
              "      <th>destinationIPv4Address</th>\n",
              "      <th>destinationTransportPort</th>\n",
              "      <th>...</th>\n",
              "      <th>reverseNonEmptyPacketCount</th>\n",
              "      <th>reverseDataByteCount</th>\n",
              "      <th>reverseAverageInterarrivalTime</th>\n",
              "      <th>reverseFirstNonEmptyPacketSize</th>\n",
              "      <th>reverseLargePacketCount</th>\n",
              "      <th>reverseMaxPacketSize</th>\n",
              "      <th>reverseStandardDeviationPayloadLength</th>\n",
              "      <th>reverseStandardDeviationInterarrivalTime</th>\n",
              "      <th>reverseBytesPerPacket</th>\n",
              "      <th>Device</th>\n",
              "    </tr>\n",
              "  </thead>\n",
              "  <tbody>\n",
              "    <tr>\n",
              "      <th>0</th>\n",
              "      <td>1.186</td>\n",
              "      <td>0.178</td>\n",
              "      <td>6</td>\n",
              "      <td>24</td>\n",
              "      <td>55656</td>\n",
              "      <td>14</td>\n",
              "      <td>1841</td>\n",
              "      <td>0</td>\n",
              "      <td>193</td>\n",
              "      <td>443</td>\n",
              "      <td>...</td>\n",
              "      <td>7.0</td>\n",
              "      <td>6458.0</td>\n",
              "      <td>100.0</td>\n",
              "      <td>1402.0</td>\n",
              "      <td>6.0</td>\n",
              "      <td>1402.0</td>\n",
              "      <td>565.0</td>\n",
              "      <td>102.0</td>\n",
              "      <td>922.0</td>\n",
              "      <td>6</td>\n",
              "    </tr>\n",
              "    <tr>\n",
              "      <th>1</th>\n",
              "      <td>1.158</td>\n",
              "      <td>0.172</td>\n",
              "      <td>6</td>\n",
              "      <td>24</td>\n",
              "      <td>56823</td>\n",
              "      <td>14</td>\n",
              "      <td>1841</td>\n",
              "      <td>0</td>\n",
              "      <td>188</td>\n",
              "      <td>443</td>\n",
              "      <td>...</td>\n",
              "      <td>7.0</td>\n",
              "      <td>6458.0</td>\n",
              "      <td>98.0</td>\n",
              "      <td>1402.0</td>\n",
              "      <td>6.0</td>\n",
              "      <td>1402.0</td>\n",
              "      <td>565.0</td>\n",
              "      <td>100.0</td>\n",
              "      <td>922.0</td>\n",
              "      <td>6</td>\n",
              "    </tr>\n",
              "    <tr>\n",
              "      <th>2</th>\n",
              "      <td>1.174</td>\n",
              "      <td>0.178</td>\n",
              "      <td>6</td>\n",
              "      <td>24</td>\n",
              "      <td>55658</td>\n",
              "      <td>14</td>\n",
              "      <td>1841</td>\n",
              "      <td>0</td>\n",
              "      <td>193</td>\n",
              "      <td>443</td>\n",
              "      <td>...</td>\n",
              "      <td>7.0</td>\n",
              "      <td>6458.0</td>\n",
              "      <td>110.0</td>\n",
              "      <td>1402.0</td>\n",
              "      <td>6.0</td>\n",
              "      <td>1402.0</td>\n",
              "      <td>565.0</td>\n",
              "      <td>100.0</td>\n",
              "      <td>922.0</td>\n",
              "      <td>6</td>\n",
              "    </tr>\n",
              "    <tr>\n",
              "      <th>3</th>\n",
              "      <td>1.186</td>\n",
              "      <td>0.176</td>\n",
              "      <td>6</td>\n",
              "      <td>24</td>\n",
              "      <td>55659</td>\n",
              "      <td>14</td>\n",
              "      <td>1841</td>\n",
              "      <td>0</td>\n",
              "      <td>193</td>\n",
              "      <td>443</td>\n",
              "      <td>...</td>\n",
              "      <td>7.0</td>\n",
              "      <td>6458.0</td>\n",
              "      <td>112.0</td>\n",
              "      <td>1402.0</td>\n",
              "      <td>6.0</td>\n",
              "      <td>1402.0</td>\n",
              "      <td>565.0</td>\n",
              "      <td>103.0</td>\n",
              "      <td>922.0</td>\n",
              "      <td>6</td>\n",
              "    </tr>\n",
              "    <tr>\n",
              "      <th>4</th>\n",
              "      <td>1.157</td>\n",
              "      <td>0.173</td>\n",
              "      <td>6</td>\n",
              "      <td>24</td>\n",
              "      <td>56826</td>\n",
              "      <td>14</td>\n",
              "      <td>1841</td>\n",
              "      <td>0</td>\n",
              "      <td>188</td>\n",
              "      <td>443</td>\n",
              "      <td>...</td>\n",
              "      <td>7.0</td>\n",
              "      <td>6458.0</td>\n",
              "      <td>82.0</td>\n",
              "      <td>1402.0</td>\n",
              "      <td>6.0</td>\n",
              "      <td>1402.0</td>\n",
              "      <td>565.0</td>\n",
              "      <td>101.0</td>\n",
              "      <td>922.0</td>\n",
              "      <td>6</td>\n",
              "    </tr>\n",
              "  </tbody>\n",
              "</table>\n",
              "<p>5 rows × 51 columns</p>\n",
              "</div>\n",
              "    <div class=\"colab-df-buttons\">\n",
              "\n",
              "  <div class=\"colab-df-container\">\n",
              "    <button class=\"colab-df-convert\" onclick=\"convertToInteractive('df-fdefbd6e-17d4-4d8b-8f5f-2edea11120b9')\"\n",
              "            title=\"Convert this dataframe to an interactive table.\"\n",
              "            style=\"display:none;\">\n",
              "\n",
              "  <svg xmlns=\"http://www.w3.org/2000/svg\" height=\"24px\" viewBox=\"0 -960 960 960\">\n",
              "    <path d=\"M120-120v-720h720v720H120Zm60-500h600v-160H180v160Zm220 220h160v-160H400v160Zm0 220h160v-160H400v160ZM180-400h160v-160H180v160Zm440 0h160v-160H620v160ZM180-180h160v-160H180v160Zm440 0h160v-160H620v160Z\"/>\n",
              "  </svg>\n",
              "    </button>\n",
              "\n",
              "  <style>\n",
              "    .colab-df-container {\n",
              "      display:flex;\n",
              "      gap: 12px;\n",
              "    }\n",
              "\n",
              "    .colab-df-convert {\n",
              "      background-color: #E8F0FE;\n",
              "      border: none;\n",
              "      border-radius: 50%;\n",
              "      cursor: pointer;\n",
              "      display: none;\n",
              "      fill: #1967D2;\n",
              "      height: 32px;\n",
              "      padding: 0 0 0 0;\n",
              "      width: 32px;\n",
              "    }\n",
              "\n",
              "    .colab-df-convert:hover {\n",
              "      background-color: #E2EBFA;\n",
              "      box-shadow: 0px 1px 2px rgba(60, 64, 67, 0.3), 0px 1px 3px 1px rgba(60, 64, 67, 0.15);\n",
              "      fill: #174EA6;\n",
              "    }\n",
              "\n",
              "    .colab-df-buttons div {\n",
              "      margin-bottom: 4px;\n",
              "    }\n",
              "\n",
              "    [theme=dark] .colab-df-convert {\n",
              "      background-color: #3B4455;\n",
              "      fill: #D2E3FC;\n",
              "    }\n",
              "\n",
              "    [theme=dark] .colab-df-convert:hover {\n",
              "      background-color: #434B5C;\n",
              "      box-shadow: 0px 1px 3px 1px rgba(0, 0, 0, 0.15);\n",
              "      filter: drop-shadow(0px 1px 2px rgba(0, 0, 0, 0.3));\n",
              "      fill: #FFFFFF;\n",
              "    }\n",
              "  </style>\n",
              "\n",
              "    <script>\n",
              "      const buttonEl =\n",
              "        document.querySelector('#df-fdefbd6e-17d4-4d8b-8f5f-2edea11120b9 button.colab-df-convert');\n",
              "      buttonEl.style.display =\n",
              "        google.colab.kernel.accessAllowed ? 'block' : 'none';\n",
              "\n",
              "      async function convertToInteractive(key) {\n",
              "        const element = document.querySelector('#df-fdefbd6e-17d4-4d8b-8f5f-2edea11120b9');\n",
              "        const dataTable =\n",
              "          await google.colab.kernel.invokeFunction('convertToInteractive',\n",
              "                                                    [key], {});\n",
              "        if (!dataTable) return;\n",
              "\n",
              "        const docLinkHtml = 'Like what you see? Visit the ' +\n",
              "          '<a target=\"_blank\" href=https://colab.research.google.com/notebooks/data_table.ipynb>data table notebook</a>'\n",
              "          + ' to learn more about interactive tables.';\n",
              "        element.innerHTML = '';\n",
              "        dataTable['output_type'] = 'display_data';\n",
              "        await google.colab.output.renderOutput(dataTable, element);\n",
              "        const docLink = document.createElement('div');\n",
              "        docLink.innerHTML = docLinkHtml;\n",
              "        element.appendChild(docLink);\n",
              "      }\n",
              "    </script>\n",
              "  </div>\n",
              "\n",
              "\n",
              "<div id=\"df-abbb5bb9-83fc-42f1-b252-9a9ed5c44a32\">\n",
              "  <button class=\"colab-df-quickchart\" onclick=\"quickchart('df-abbb5bb9-83fc-42f1-b252-9a9ed5c44a32')\"\n",
              "            title=\"Suggest charts.\"\n",
              "            style=\"display:none;\">\n",
              "\n",
              "<svg xmlns=\"http://www.w3.org/2000/svg\" height=\"24px\"viewBox=\"0 0 24 24\"\n",
              "     width=\"24px\">\n",
              "    <g>\n",
              "        <path d=\"M19 3H5c-1.1 0-2 .9-2 2v14c0 1.1.9 2 2 2h14c1.1 0 2-.9 2-2V5c0-1.1-.9-2-2-2zM9 17H7v-7h2v7zm4 0h-2V7h2v10zm4 0h-2v-4h2v4z\"/>\n",
              "    </g>\n",
              "</svg>\n",
              "  </button>\n",
              "\n",
              "<style>\n",
              "  .colab-df-quickchart {\n",
              "      --bg-color: #E8F0FE;\n",
              "      --fill-color: #1967D2;\n",
              "      --hover-bg-color: #E2EBFA;\n",
              "      --hover-fill-color: #174EA6;\n",
              "      --disabled-fill-color: #AAA;\n",
              "      --disabled-bg-color: #DDD;\n",
              "  }\n",
              "\n",
              "  [theme=dark] .colab-df-quickchart {\n",
              "      --bg-color: #3B4455;\n",
              "      --fill-color: #D2E3FC;\n",
              "      --hover-bg-color: #434B5C;\n",
              "      --hover-fill-color: #FFFFFF;\n",
              "      --disabled-bg-color: #3B4455;\n",
              "      --disabled-fill-color: #666;\n",
              "  }\n",
              "\n",
              "  .colab-df-quickchart {\n",
              "    background-color: var(--bg-color);\n",
              "    border: none;\n",
              "    border-radius: 50%;\n",
              "    cursor: pointer;\n",
              "    display: none;\n",
              "    fill: var(--fill-color);\n",
              "    height: 32px;\n",
              "    padding: 0;\n",
              "    width: 32px;\n",
              "  }\n",
              "\n",
              "  .colab-df-quickchart:hover {\n",
              "    background-color: var(--hover-bg-color);\n",
              "    box-shadow: 0 1px 2px rgba(60, 64, 67, 0.3), 0 1px 3px 1px rgba(60, 64, 67, 0.15);\n",
              "    fill: var(--button-hover-fill-color);\n",
              "  }\n",
              "\n",
              "  .colab-df-quickchart-complete:disabled,\n",
              "  .colab-df-quickchart-complete:disabled:hover {\n",
              "    background-color: var(--disabled-bg-color);\n",
              "    fill: var(--disabled-fill-color);\n",
              "    box-shadow: none;\n",
              "  }\n",
              "\n",
              "  .colab-df-spinner {\n",
              "    border: 2px solid var(--fill-color);\n",
              "    border-color: transparent;\n",
              "    border-bottom-color: var(--fill-color);\n",
              "    animation:\n",
              "      spin 1s steps(1) infinite;\n",
              "  }\n",
              "\n",
              "  @keyframes spin {\n",
              "    0% {\n",
              "      border-color: transparent;\n",
              "      border-bottom-color: var(--fill-color);\n",
              "      border-left-color: var(--fill-color);\n",
              "    }\n",
              "    20% {\n",
              "      border-color: transparent;\n",
              "      border-left-color: var(--fill-color);\n",
              "      border-top-color: var(--fill-color);\n",
              "    }\n",
              "    30% {\n",
              "      border-color: transparent;\n",
              "      border-left-color: var(--fill-color);\n",
              "      border-top-color: var(--fill-color);\n",
              "      border-right-color: var(--fill-color);\n",
              "    }\n",
              "    40% {\n",
              "      border-color: transparent;\n",
              "      border-right-color: var(--fill-color);\n",
              "      border-top-color: var(--fill-color);\n",
              "    }\n",
              "    60% {\n",
              "      border-color: transparent;\n",
              "      border-right-color: var(--fill-color);\n",
              "    }\n",
              "    80% {\n",
              "      border-color: transparent;\n",
              "      border-right-color: var(--fill-color);\n",
              "      border-bottom-color: var(--fill-color);\n",
              "    }\n",
              "    90% {\n",
              "      border-color: transparent;\n",
              "      border-bottom-color: var(--fill-color);\n",
              "    }\n",
              "  }\n",
              "</style>\n",
              "\n",
              "  <script>\n",
              "    async function quickchart(key) {\n",
              "      const quickchartButtonEl =\n",
              "        document.querySelector('#' + key + ' button');\n",
              "      quickchartButtonEl.disabled = true;  // To prevent multiple clicks.\n",
              "      quickchartButtonEl.classList.add('colab-df-spinner');\n",
              "      try {\n",
              "        const charts = await google.colab.kernel.invokeFunction(\n",
              "            'suggestCharts', [key], {});\n",
              "      } catch (error) {\n",
              "        console.error('Error during call to suggestCharts:', error);\n",
              "      }\n",
              "      quickchartButtonEl.classList.remove('colab-df-spinner');\n",
              "      quickchartButtonEl.classList.add('colab-df-quickchart-complete');\n",
              "    }\n",
              "    (() => {\n",
              "      let quickchartButtonEl =\n",
              "        document.querySelector('#df-abbb5bb9-83fc-42f1-b252-9a9ed5c44a32 button');\n",
              "      quickchartButtonEl.style.display =\n",
              "        google.colab.kernel.accessAllowed ? 'block' : 'none';\n",
              "    })();\n",
              "  </script>\n",
              "</div>\n",
              "    </div>\n",
              "  </div>\n"
            ]
          },
          "metadata": {},
          "execution_count": 10
        }
      ]
    },
    {
      "cell_type": "code",
      "source": [
        "# Separate the Device column and flowStartMilliseconds as labels\n",
        "labels_df = df['Device'].copy()\n",
        "\n",
        "# Drop the Device column from the original DataFrame\n",
        "df = df.drop(columns=['Device'])\n",
        "\n",
        "X = df\n",
        "y = labels_df\n",
        "\n",
        "# Split the data into training and testing sets\n",
        "X_train, X_test, y_train, y_test = train_test_split(X, y, test_size=0.1, random_state=42)"
      ],
      "metadata": {
        "id": "TsnlViXo0YPe"
      },
      "execution_count": 21,
      "outputs": []
    },
    {
      "cell_type": "markdown",
      "source": [
        "### Dealing with Missing Values in our Dataset"
      ],
      "metadata": {
        "id": "MJCXCFutx3DJ"
      }
    },
    {
      "cell_type": "markdown",
      "source": [
        "#### Defining function to measure quality of each method"
      ],
      "metadata": {
        "id": "BlzLQ-YrBOKE"
      }
    },
    {
      "cell_type": "code",
      "source": [
        "\"\"\"\n",
        "  This function trains a RandomForestRegressor on the given data and then\n",
        "  predicts on the test data. It computes the MAE (Mean Absolute Error) between\n",
        "  the predicted values and the true validation target values\n",
        "\"\"\"\n",
        "def mae_score(X_train, X_test, y_train, y_test):\n",
        "  rfr_model = RandomForestRegressor(n_estimators=10, random_state=0)\n",
        "  rfr_model.fit(X_train, y_train)\n",
        "  pred = rfr_model.predict(X_test)\n",
        "\n",
        "  # Compute MAE between the predictions and true test value\n",
        "  return mean_absolute_error(y_test, pred)\n"
      ],
      "metadata": {
        "id": "9eQUFAY8BM6a"
      },
      "execution_count": 27,
      "outputs": []
    },
    {
      "cell_type": "markdown",
      "source": [
        "#### Method 1: Dropping Columns with Missing Values"
      ],
      "metadata": {
        "id": "B4LLi6KEzqLA"
      }
    },
    {
      "cell_type": "code",
      "source": [
        "# Get columns with missing values\n",
        "missing_col = [col for col in X_train.columns if X_train[col].isnull().any()]\n",
        "\n",
        "# Drop the columns in the training and test data\n",
        "drop_Xtrain = X_train.drop(missing_col, axis=1)\n",
        "drop_Xtest = X_test.drop(missing_col, axis=1)\n",
        "\n",
        "# Get the MAE for first approach\n",
        "print(\"Method 1 MAE: \")\n",
        "print(mae_score(drop_Xtrain, drop_Xtest, y_train, y_test))"
      ],
      "metadata": {
        "colab": {
          "base_uri": "https://localhost:8080/"
        },
        "id": "jz6ynG6LyAMS",
        "outputId": "10285974-a51b-4171-b65c-5943ff42f85d"
      },
      "execution_count": 28,
      "outputs": [
        {
          "output_type": "stream",
          "name": "stdout",
          "text": [
            "Method 1 MAE: \n",
            "0.009227272727272726\n"
          ]
        }
      ]
    },
    {
      "cell_type": "markdown",
      "source": [
        "#### Method 2: Using imputation techniques to fill in Missing Values"
      ],
      "metadata": {
        "id": "KYin0PhADmgR"
      }
    },
    {
      "cell_type": "code",
      "source": [
        "from sklearn.impute import SimpleImputer\n",
        "\n",
        "# Create impute object\n",
        "impute = SimpleImputer()\n",
        "\n",
        "# Apply imputer to data\n",
        "impute_Xtrain = impute.fit_transform(X_train)\n",
        "impute_Xtest = impute.transform(X_test)\n",
        "\n",
        "# Convert numpy arrays back to pandas dataframes\n",
        "impute_Xtrain = pd.DataFrame(impute_Xtrain, columns=X_train.columns)\n",
        "impute_Xtest = pd.DataFrame(impute_Xtest, columns=X_test.columns)\n",
        "\n",
        "# Get the MAE for second approach\n",
        "print(\"Method 2 MAE: \")\n",
        "print(mae_score(impute_Xtrain, impute_Xtest, y_train, y_test))"
      ],
      "metadata": {
        "colab": {
          "base_uri": "https://localhost:8080/"
        },
        "id": "elt5l-aPDuoE",
        "outputId": "c5f12f3c-06fb-436f-ac99-5c938dc0bfdb"
      },
      "execution_count": 30,
      "outputs": [
        {
          "output_type": "stream",
          "name": "stdout",
          "text": [
            "Method 2 MAE: \n",
            "0.01240909090909091\n"
          ]
        }
      ]
    },
    {
      "cell_type": "markdown",
      "source": [
        "#### Method 3: Extension to Imputation"
      ],
      "metadata": {
        "id": "hbqnA6AlLAcX"
      }
    },
    {
      "cell_type": "code",
      "source": [],
      "metadata": {
        "id": "k7P_oUAiLJHC"
      },
      "execution_count": null,
      "outputs": []
    }
  ]
}