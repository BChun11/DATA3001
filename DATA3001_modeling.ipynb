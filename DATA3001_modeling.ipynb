{
  "nbformat": 4,
  "nbformat_minor": 0,
  "metadata": {
    "colab": {
      "provenance": [],
      "authorship_tag": "ABX9TyOVAgHuzw6/6lTlYLeVRFOe",
      "include_colab_link": true
    },
    "kernelspec": {
      "name": "python3",
      "display_name": "Python 3"
    },
    "language_info": {
      "name": "python"
    }
  },
  "cells": [
    {
      "cell_type": "markdown",
      "metadata": {
        "id": "view-in-github",
        "colab_type": "text"
      },
      "source": [
        "<a href=\"https://colab.research.google.com/github/BChun11/DATA3001/blob/main/DATA3001_modeling.ipynb\" target=\"_parent\"><img src=\"https://colab.research.google.com/assets/colab-badge.svg\" alt=\"Open In Colab\"/></a>"
      ]
    },
    {
      "cell_type": "code",
      "execution_count": 1,
      "metadata": {
        "id": "dA3C2C_bd95o"
      },
      "outputs": [],
      "source": [
        "# Import required libraries\n",
        "import os\n",
        "import pandas as pd\n",
        "import numpy as np\n",
        "import seaborn as sns\n",
        "import matplotlib.pyplot as plt\n",
        "import hashlib\n",
        "from scipy.stats import randint\n",
        "\n",
        "from sklearn.linear_model import LogisticRegression\n",
        "from sklearn.model_selection import train_test_split, RandomizedSearchCV\n",
        "from sklearn.tree import DecisionTreeClassifier\n",
        "from sklearn.ensemble import RandomForestClassifier, RandomForestRegressor\n",
        "from sklearn.metrics import mean_absolute_error, roc_auc_score, f1_score, classification_report\n",
        "from sklearn.preprocessing import LabelEncoder, OneHotEncoder, StandardScaler\n",
        "from sklearn.impute import SimpleImputer"
      ]
    },
    {
      "cell_type": "code",
      "source": [
        "# Download all the files into google colab environment\n",
        "!git clone https://github.com/nokuik/KDDI-IoT-2019.git"
      ],
      "metadata": {
        "colab": {
          "base_uri": "https://localhost:8080/"
        },
        "id": "iMTowF9meEgR",
        "outputId": "4d8a4d56-6aa1-4f1e-8ede-1c88f4932c90"
      },
      "execution_count": 2,
      "outputs": [
        {
          "output_type": "stream",
          "name": "stdout",
          "text": [
            "Cloning into 'KDDI-IoT-2019'...\n",
            "remote: Enumerating objects: 42, done.\u001b[K\n",
            "remote: Counting objects: 100% (9/9), done.\u001b[K\n",
            "remote: Compressing objects: 100% (5/5), done.\u001b[K\n",
            "remote: Total 42 (delta 1), reused 9 (delta 1), pack-reused 33\u001b[K\n",
            "Receiving objects: 100% (42/42), 776.84 MiB | 21.34 MiB/s, done.\n",
            "Resolving deltas: 100% (1/1), done.\n",
            "Updating files: 100% (31/31), done.\n"
          ]
        }
      ]
    },
    {
      "cell_type": "code",
      "source": [
        "# List all '.tar.gz files in ipfix directory\n",
        "%cd KDDI-IoT-2019\n",
        "%cd ipfix\n",
        "!ls *.tar.gz"
      ],
      "metadata": {
        "colab": {
          "base_uri": "https://localhost:8080/"
        },
        "id": "_5D_tltveJnF",
        "outputId": "10560928-1efa-4b79-bfd4-53a3d408471c"
      },
      "execution_count": 3,
      "outputs": [
        {
          "output_type": "stream",
          "name": "stdout",
          "text": [
            "/content/KDDI-IoT-2019\n",
            "/content/KDDI-IoT-2019/ipfix\n",
            " amazon_echo_gen2.tar.gz\t\t        nature_remo.tar.gz\n",
            " au_network_camera.tar.gz\t\t        panasonic_doorphone.tar.gz\n",
            " au_wireless_adapter.tar.gz\t\t        philips_hue_bridge.tar.gz\n",
            " bitfinder_awair_breathe_easy.tar.gz\t       'planex_camera_one_shot!.tar.gz'\n",
            " candy_house_sesami_wi-fi_access_point.tar.gz   planex_smacam_outdoor.tar.gz\n",
            " irobot_roomba.tar.gz\t\t\t        planex_smacam_pantilt.tar.gz\n",
            " jvc_kenwood_cu-hb1.tar.gz\t\t        powerelectric_wi-fi_plug.tar.gz\n",
            " jvc_kenwood_hdtv_ip_camera.tar.gz\t        qrio_hub.tar.gz\n",
            " line_clova_wave.tar.gz\t\t\t        sony_network_camera.tar.gz\n",
            " link_japan_eremote.tar.gz\t\t        sony_smart_speaker.tar.gz\n",
            " mouse_computer_room_hub.tar.gz\t\t        xiaomi_mijia_led.tar.gz\n"
          ]
        }
      ]
    },
    {
      "cell_type": "code",
      "source": [
        "# List all tar.gz files and store them in a variable\n",
        "files = !ls -1 *.tar.gz\n",
        "\n",
        "# Extract each tar.gz file\n",
        "for file in files:\n",
        "    print(f\"Extract {file} \")\n",
        "    !tar -xzvf {file}"
      ],
      "metadata": {
        "colab": {
          "base_uri": "https://localhost:8080/"
        },
        "id": "6IcySpdIeK9i",
        "outputId": "c00afa36-cf48-4c8e-e465-58129ea30a82"
      },
      "execution_count": 4,
      "outputs": [
        {
          "output_type": "stream",
          "name": "stdout",
          "text": [
            "Extract amazon_echo_gen2.tar.gz \n",
            "amazon_echo_gen2.json\n",
            "Extract au_network_camera.tar.gz \n",
            "au_network_camera.json\n",
            "Extract au_wireless_adapter.tar.gz \n",
            "au_wireless_adapter.json\n",
            "Extract bitfinder_awair_breathe_easy.tar.gz \n",
            "bitfinder_awair_breathe_easy.json\n",
            "Extract candy_house_sesami_wi-fi_access_point.tar.gz \n",
            "candy_house_sesami_wi-fi_access_point.json\n",
            "Extract irobot_roomba.tar.gz \n",
            "irobot_roomba.json\n",
            "Extract jvc_kenwood_cu-hb1.tar.gz \n",
            "jvc_kenwood_cu-hb1.json\n",
            "Extract jvc_kenwood_hdtv_ip_camera.tar.gz \n",
            "jvc_kenwood_hdtv_ip_camera.json\n",
            "Extract line_clova_wave.tar.gz \n",
            "line_clova_wave.json\n",
            "Extract link_japan_eremote.tar.gz \n",
            "link_japan_eremote.json\n",
            "Extract mouse_computer_room_hub.tar.gz \n",
            "mouse_computer_room_hub.json\n",
            "Extract nature_remo.tar.gz \n",
            "nature_remo.json\n",
            "Extract panasonic_doorphone.tar.gz \n",
            "panasonic_doorphone.json\n",
            "Extract philips_hue_bridge.tar.gz \n",
            "philips_hue_bridge.json\n",
            "Extract 'planex_camera_one_shot!.tar.gz' \n",
            "planex_camera_one_shot!.json\n",
            "Extract planex_smacam_outdoor.tar.gz \n",
            "planex_smacam_outdoor.json\n",
            "Extract planex_smacam_pantilt.tar.gz \n",
            "planex_smacam_pantilt.json\n",
            "Extract powerelectric_wi-fi_plug.tar.gz \n",
            "powerelectric_wi-fi_plug.json\n",
            "Extract qrio_hub.tar.gz \n",
            "qrio_hub.json\n",
            "Extract sony_network_camera.tar.gz \n",
            "sony_network_camera.json\n",
            "Extract sony_smart_speaker.tar.gz \n",
            "sony_smart_speaker.json\n",
            "Extract xiaomi_mijia_led.tar.gz \n",
            "xiaomi_mijia_led.json\n"
          ]
        }
      ]
    },
    {
      "cell_type": "code",
      "source": [
        "# Print the current working directory\n",
        "print(\"Current Working Directory:\", os.getcwd())\n",
        "\n",
        "# List the contents of the current working directory\n",
        "print(\"Contents of Current Directory:\", os.listdir())\n",
        "\n",
        "!cd"
      ],
      "metadata": {
        "colab": {
          "base_uri": "https://localhost:8080/"
        },
        "id": "nVZ_cJ0teMPG",
        "outputId": "075ae135-0d04-4912-f008-df523aebb6c7"
      },
      "execution_count": 6,
      "outputs": [
        {
          "output_type": "stream",
          "name": "stdout",
          "text": [
            "Current Working Directory: /content/KDDI-IoT-2019/ipfix\n",
            "Contents of Current Directory: ['sony_network_camera.tar.gz', 'planex_smacam_outdoor.tar.gz', 'line_clova_wave.json', 'candy_house_sesami_wi-fi_access_point.tar.gz', 'mouse_computer_room_hub.json', 'qrio_hub.json', 'irobot_roomba.json', 'sony_bravia.tar.gz01', 'sony_smart_speaker.json', 'philips_hue_bridge.tar.gz', 'google_home_gen1.tar.gz00', 'qrio_hub.tar.gz', 'google_home_gen1.tar.gz01', 'i-o_data_qwatch.tar.gz01', 'philips_hue_bridge.json', 'planex_camera_one_shot!.tar.gz', 'amazon_echo_gen2.json', 'candy_house_sesami_wi-fi_access_point.json', 'planex_smacam_outdoor.json', 'jvc_kenwood_cu-hb1.tar.gz', 'au_network_camera.json', 'planex_camera_one_shot!.json', 'irobot_roomba.tar.gz', 'xiaomi_mijia_led.json', 'powerelectric_wi-fi_plug.tar.gz', 'jvc_kenwood_hdtv_ip_camera.json', 'bitfinder_awair_breathe_easy.json', 'mouse_computer_room_hub.tar.gz', 'line_clova_wave.tar.gz', 'sony_bravia.tar.gz00', 'jvc_kenwood_cu-hb1.json', 'au_wireless_adapter.tar.gz', 'jvc_kenwood_hdtv_ip_camera.tar.gz', 'link_japan_eremote.tar.gz', 'xiaomi_mijia_led.tar.gz', 'nature_remo.json', 'nature_remo.tar.gz', 'planex_smacam_pantilt.tar.gz', 'i-o_data_qwatch.tar.gz00', 'au_network_camera.tar.gz', 'sony_smart_speaker.tar.gz', 'powerelectric_wi-fi_plug.json', 'panasonic_doorphone.json', 'bitfinder_awair_breathe_easy.tar.gz', 'amazon_echo_gen2.tar.gz', 'panasonic_doorphone.tar.gz', 'planex_smacam_pantilt.json', 'link_japan_eremote.json', 'sony_network_camera.json', 'sony_bravia.tar.gz02', 'au_wireless_adapter.json']\n"
          ]
        }
      ]
    },
    {
      "cell_type": "code",
      "source": [
        "# Code to generate distinct tables for each json file using a limited subset\n",
        "\n",
        "# Define the directory where the JSON files are located\n",
        "json_directory = '/content/KDDI-IoT-2019/ipfix'\n",
        "\n",
        "# Get the list of all JSON files in the directory\n",
        "json_files = [f for f in os.listdir(json_directory) if f.endswith('.json')]\n",
        "\n",
        "# Create distinct tables for each json file\n",
        "tables = {}\n",
        "for json_file in json_files:\n",
        "    # strip .json suffix from device names\n",
        "    device_name = json_file.split('.')[0]\n",
        "    # Construct the full path to the JSON file\n",
        "    json_path = os.path.join(json_directory, json_file)\n",
        "    # Read the JSON file into a DataFrame, normalize the 'flows' column, and get the first 1000 rows\n",
        "    df = pd.json_normalize(pd.read_json(json_path, lines=True, nrows=1000)['flows'])\n",
        "    # Label the DataFrame with the device name\n",
        "    df['Device'] = device_name\n",
        "    tables[device_name] = df\n",
        "\n",
        "# Concatenate all the Dataframes in the tables dictionary into a single Dataframe\n",
        "df = pd.concat(tables.values(), ignore_index=True)\n",
        "df.head()\n"
      ],
      "metadata": {
        "id": "BqjoWkxJeQ5x",
        "colab": {
          "base_uri": "https://localhost:8080/",
          "height": 256
        },
        "outputId": "2d0fb512-615a-49b1-ee35-fc68e02cfe6c"
      },
      "execution_count": 7,
      "outputs": [
        {
          "output_type": "execute_result",
          "data": {
            "text/plain": [
              "     flowStartMilliseconds      flowEndMilliseconds  flowDurationMilliseconds  \\\n",
              "0  2019-06-25 08:36:41.276  2019-06-25 08:36:41.855                     0.579   \n",
              "1  2019-06-25 08:37:43.962  2019-06-25 08:37:44.541                     0.579   \n",
              "2  2019-06-25 08:38:33.938  2019-06-25 08:38:33.996                     0.058   \n",
              "3  2019-06-25 08:38:46.701  2019-06-25 08:38:47.280                     0.579   \n",
              "4  2019-06-25 08:39:49.253  2019-06-25 08:39:49.809                     0.556   \n",
              "\n",
              "   reverseFlowDeltaMilliseconds  protocolIdentifier sourceIPv4Address  \\\n",
              "0                         0.000                  17       192.168.1.1   \n",
              "1                         0.000                  17       192.168.1.1   \n",
              "2                         0.058                  17     192.168.1.179   \n",
              "3                         0.000                  17       192.168.1.1   \n",
              "4                         0.000                  17       192.168.1.1   \n",
              "\n",
              "   sourceTransportPort  packetTotalCount  octetTotalCount flowAttributes  ...  \\\n",
              "0                47452                 2              156             01  ...   \n",
              "1                36500                 2              156             01  ...   \n",
              "2                  123                 1               76             00  ...   \n",
              "3                52465                 2              156             01  ...   \n",
              "4                55452                 2              156             01  ...   \n",
              "\n",
              "  reverseNonEmptyPacketCount reverseDataByteCount  \\\n",
              "0                        NaN                  NaN   \n",
              "1                        NaN                  NaN   \n",
              "2                        1.0                 48.0   \n",
              "3                        NaN                  NaN   \n",
              "4                        NaN                  NaN   \n",
              "\n",
              "   reverseAverageInterarrivalTime  reverseFirstNonEmptyPacketSize  \\\n",
              "0                             NaN                             NaN   \n",
              "1                             NaN                             NaN   \n",
              "2                             0.0                            48.0   \n",
              "3                             NaN                             NaN   \n",
              "4                             NaN                             NaN   \n",
              "\n",
              "   reverseLargePacketCount reverseMaxPacketSize  \\\n",
              "0                      NaN                  NaN   \n",
              "1                      NaN                  NaN   \n",
              "2                      0.0                 48.0   \n",
              "3                      NaN                  NaN   \n",
              "4                      NaN                  NaN   \n",
              "\n",
              "  reverseStandardDeviationPayloadLength  \\\n",
              "0                                   NaN   \n",
              "1                                   NaN   \n",
              "2                                   0.0   \n",
              "3                                   NaN   \n",
              "4                                   NaN   \n",
              "\n",
              "  reverseStandardDeviationInterarrivalTime reverseBytesPerPacket  \\\n",
              "0                                      NaN                   NaN   \n",
              "1                                      NaN                   NaN   \n",
              "2                                      0.0                  48.0   \n",
              "3                                      NaN                   NaN   \n",
              "4                                      NaN                   NaN   \n",
              "\n",
              "            Device  \n",
              "0  line_clova_wave  \n",
              "1  line_clova_wave  \n",
              "2  line_clova_wave  \n",
              "3  line_clova_wave  \n",
              "4  line_clova_wave  \n",
              "\n",
              "[5 rows x 55 columns]"
            ],
            "text/html": [
              "\n",
              "  <div id=\"df-f332000b-c307-41ff-a52c-e33dc2a98c9c\" class=\"colab-df-container\">\n",
              "    <div>\n",
              "<style scoped>\n",
              "    .dataframe tbody tr th:only-of-type {\n",
              "        vertical-align: middle;\n",
              "    }\n",
              "\n",
              "    .dataframe tbody tr th {\n",
              "        vertical-align: top;\n",
              "    }\n",
              "\n",
              "    .dataframe thead th {\n",
              "        text-align: right;\n",
              "    }\n",
              "</style>\n",
              "<table border=\"1\" class=\"dataframe\">\n",
              "  <thead>\n",
              "    <tr style=\"text-align: right;\">\n",
              "      <th></th>\n",
              "      <th>flowStartMilliseconds</th>\n",
              "      <th>flowEndMilliseconds</th>\n",
              "      <th>flowDurationMilliseconds</th>\n",
              "      <th>reverseFlowDeltaMilliseconds</th>\n",
              "      <th>protocolIdentifier</th>\n",
              "      <th>sourceIPv4Address</th>\n",
              "      <th>sourceTransportPort</th>\n",
              "      <th>packetTotalCount</th>\n",
              "      <th>octetTotalCount</th>\n",
              "      <th>flowAttributes</th>\n",
              "      <th>...</th>\n",
              "      <th>reverseNonEmptyPacketCount</th>\n",
              "      <th>reverseDataByteCount</th>\n",
              "      <th>reverseAverageInterarrivalTime</th>\n",
              "      <th>reverseFirstNonEmptyPacketSize</th>\n",
              "      <th>reverseLargePacketCount</th>\n",
              "      <th>reverseMaxPacketSize</th>\n",
              "      <th>reverseStandardDeviationPayloadLength</th>\n",
              "      <th>reverseStandardDeviationInterarrivalTime</th>\n",
              "      <th>reverseBytesPerPacket</th>\n",
              "      <th>Device</th>\n",
              "    </tr>\n",
              "  </thead>\n",
              "  <tbody>\n",
              "    <tr>\n",
              "      <th>0</th>\n",
              "      <td>2019-06-25 08:36:41.276</td>\n",
              "      <td>2019-06-25 08:36:41.855</td>\n",
              "      <td>0.579</td>\n",
              "      <td>0.000</td>\n",
              "      <td>17</td>\n",
              "      <td>192.168.1.1</td>\n",
              "      <td>47452</td>\n",
              "      <td>2</td>\n",
              "      <td>156</td>\n",
              "      <td>01</td>\n",
              "      <td>...</td>\n",
              "      <td>NaN</td>\n",
              "      <td>NaN</td>\n",
              "      <td>NaN</td>\n",
              "      <td>NaN</td>\n",
              "      <td>NaN</td>\n",
              "      <td>NaN</td>\n",
              "      <td>NaN</td>\n",
              "      <td>NaN</td>\n",
              "      <td>NaN</td>\n",
              "      <td>line_clova_wave</td>\n",
              "    </tr>\n",
              "    <tr>\n",
              "      <th>1</th>\n",
              "      <td>2019-06-25 08:37:43.962</td>\n",
              "      <td>2019-06-25 08:37:44.541</td>\n",
              "      <td>0.579</td>\n",
              "      <td>0.000</td>\n",
              "      <td>17</td>\n",
              "      <td>192.168.1.1</td>\n",
              "      <td>36500</td>\n",
              "      <td>2</td>\n",
              "      <td>156</td>\n",
              "      <td>01</td>\n",
              "      <td>...</td>\n",
              "      <td>NaN</td>\n",
              "      <td>NaN</td>\n",
              "      <td>NaN</td>\n",
              "      <td>NaN</td>\n",
              "      <td>NaN</td>\n",
              "      <td>NaN</td>\n",
              "      <td>NaN</td>\n",
              "      <td>NaN</td>\n",
              "      <td>NaN</td>\n",
              "      <td>line_clova_wave</td>\n",
              "    </tr>\n",
              "    <tr>\n",
              "      <th>2</th>\n",
              "      <td>2019-06-25 08:38:33.938</td>\n",
              "      <td>2019-06-25 08:38:33.996</td>\n",
              "      <td>0.058</td>\n",
              "      <td>0.058</td>\n",
              "      <td>17</td>\n",
              "      <td>192.168.1.179</td>\n",
              "      <td>123</td>\n",
              "      <td>1</td>\n",
              "      <td>76</td>\n",
              "      <td>00</td>\n",
              "      <td>...</td>\n",
              "      <td>1.0</td>\n",
              "      <td>48.0</td>\n",
              "      <td>0.0</td>\n",
              "      <td>48.0</td>\n",
              "      <td>0.0</td>\n",
              "      <td>48.0</td>\n",
              "      <td>0.0</td>\n",
              "      <td>0.0</td>\n",
              "      <td>48.0</td>\n",
              "      <td>line_clova_wave</td>\n",
              "    </tr>\n",
              "    <tr>\n",
              "      <th>3</th>\n",
              "      <td>2019-06-25 08:38:46.701</td>\n",
              "      <td>2019-06-25 08:38:47.280</td>\n",
              "      <td>0.579</td>\n",
              "      <td>0.000</td>\n",
              "      <td>17</td>\n",
              "      <td>192.168.1.1</td>\n",
              "      <td>52465</td>\n",
              "      <td>2</td>\n",
              "      <td>156</td>\n",
              "      <td>01</td>\n",
              "      <td>...</td>\n",
              "      <td>NaN</td>\n",
              "      <td>NaN</td>\n",
              "      <td>NaN</td>\n",
              "      <td>NaN</td>\n",
              "      <td>NaN</td>\n",
              "      <td>NaN</td>\n",
              "      <td>NaN</td>\n",
              "      <td>NaN</td>\n",
              "      <td>NaN</td>\n",
              "      <td>line_clova_wave</td>\n",
              "    </tr>\n",
              "    <tr>\n",
              "      <th>4</th>\n",
              "      <td>2019-06-25 08:39:49.253</td>\n",
              "      <td>2019-06-25 08:39:49.809</td>\n",
              "      <td>0.556</td>\n",
              "      <td>0.000</td>\n",
              "      <td>17</td>\n",
              "      <td>192.168.1.1</td>\n",
              "      <td>55452</td>\n",
              "      <td>2</td>\n",
              "      <td>156</td>\n",
              "      <td>01</td>\n",
              "      <td>...</td>\n",
              "      <td>NaN</td>\n",
              "      <td>NaN</td>\n",
              "      <td>NaN</td>\n",
              "      <td>NaN</td>\n",
              "      <td>NaN</td>\n",
              "      <td>NaN</td>\n",
              "      <td>NaN</td>\n",
              "      <td>NaN</td>\n",
              "      <td>NaN</td>\n",
              "      <td>line_clova_wave</td>\n",
              "    </tr>\n",
              "  </tbody>\n",
              "</table>\n",
              "<p>5 rows × 55 columns</p>\n",
              "</div>\n",
              "    <div class=\"colab-df-buttons\">\n",
              "\n",
              "  <div class=\"colab-df-container\">\n",
              "    <button class=\"colab-df-convert\" onclick=\"convertToInteractive('df-f332000b-c307-41ff-a52c-e33dc2a98c9c')\"\n",
              "            title=\"Convert this dataframe to an interactive table.\"\n",
              "            style=\"display:none;\">\n",
              "\n",
              "  <svg xmlns=\"http://www.w3.org/2000/svg\" height=\"24px\" viewBox=\"0 -960 960 960\">\n",
              "    <path d=\"M120-120v-720h720v720H120Zm60-500h600v-160H180v160Zm220 220h160v-160H400v160Zm0 220h160v-160H400v160ZM180-400h160v-160H180v160Zm440 0h160v-160H620v160ZM180-180h160v-160H180v160Zm440 0h160v-160H620v160Z\"/>\n",
              "  </svg>\n",
              "    </button>\n",
              "\n",
              "  <style>\n",
              "    .colab-df-container {\n",
              "      display:flex;\n",
              "      gap: 12px;\n",
              "    }\n",
              "\n",
              "    .colab-df-convert {\n",
              "      background-color: #E8F0FE;\n",
              "      border: none;\n",
              "      border-radius: 50%;\n",
              "      cursor: pointer;\n",
              "      display: none;\n",
              "      fill: #1967D2;\n",
              "      height: 32px;\n",
              "      padding: 0 0 0 0;\n",
              "      width: 32px;\n",
              "    }\n",
              "\n",
              "    .colab-df-convert:hover {\n",
              "      background-color: #E2EBFA;\n",
              "      box-shadow: 0px 1px 2px rgba(60, 64, 67, 0.3), 0px 1px 3px 1px rgba(60, 64, 67, 0.15);\n",
              "      fill: #174EA6;\n",
              "    }\n",
              "\n",
              "    .colab-df-buttons div {\n",
              "      margin-bottom: 4px;\n",
              "    }\n",
              "\n",
              "    [theme=dark] .colab-df-convert {\n",
              "      background-color: #3B4455;\n",
              "      fill: #D2E3FC;\n",
              "    }\n",
              "\n",
              "    [theme=dark] .colab-df-convert:hover {\n",
              "      background-color: #434B5C;\n",
              "      box-shadow: 0px 1px 3px 1px rgba(0, 0, 0, 0.15);\n",
              "      filter: drop-shadow(0px 1px 2px rgba(0, 0, 0, 0.3));\n",
              "      fill: #FFFFFF;\n",
              "    }\n",
              "  </style>\n",
              "\n",
              "    <script>\n",
              "      const buttonEl =\n",
              "        document.querySelector('#df-f332000b-c307-41ff-a52c-e33dc2a98c9c button.colab-df-convert');\n",
              "      buttonEl.style.display =\n",
              "        google.colab.kernel.accessAllowed ? 'block' : 'none';\n",
              "\n",
              "      async function convertToInteractive(key) {\n",
              "        const element = document.querySelector('#df-f332000b-c307-41ff-a52c-e33dc2a98c9c');\n",
              "        const dataTable =\n",
              "          await google.colab.kernel.invokeFunction('convertToInteractive',\n",
              "                                                    [key], {});\n",
              "        if (!dataTable) return;\n",
              "\n",
              "        const docLinkHtml = 'Like what you see? Visit the ' +\n",
              "          '<a target=\"_blank\" href=https://colab.research.google.com/notebooks/data_table.ipynb>data table notebook</a>'\n",
              "          + ' to learn more about interactive tables.';\n",
              "        element.innerHTML = '';\n",
              "        dataTable['output_type'] = 'display_data';\n",
              "        await google.colab.output.renderOutput(dataTable, element);\n",
              "        const docLink = document.createElement('div');\n",
              "        docLink.innerHTML = docLinkHtml;\n",
              "        element.appendChild(docLink);\n",
              "      }\n",
              "    </script>\n",
              "  </div>\n",
              "\n",
              "\n",
              "<div id=\"df-5e207c06-8d3a-4b92-a8f4-ba40507c80f6\">\n",
              "  <button class=\"colab-df-quickchart\" onclick=\"quickchart('df-5e207c06-8d3a-4b92-a8f4-ba40507c80f6')\"\n",
              "            title=\"Suggest charts.\"\n",
              "            style=\"display:none;\">\n",
              "\n",
              "<svg xmlns=\"http://www.w3.org/2000/svg\" height=\"24px\"viewBox=\"0 0 24 24\"\n",
              "     width=\"24px\">\n",
              "    <g>\n",
              "        <path d=\"M19 3H5c-1.1 0-2 .9-2 2v14c0 1.1.9 2 2 2h14c1.1 0 2-.9 2-2V5c0-1.1-.9-2-2-2zM9 17H7v-7h2v7zm4 0h-2V7h2v10zm4 0h-2v-4h2v4z\"/>\n",
              "    </g>\n",
              "</svg>\n",
              "  </button>\n",
              "\n",
              "<style>\n",
              "  .colab-df-quickchart {\n",
              "      --bg-color: #E8F0FE;\n",
              "      --fill-color: #1967D2;\n",
              "      --hover-bg-color: #E2EBFA;\n",
              "      --hover-fill-color: #174EA6;\n",
              "      --disabled-fill-color: #AAA;\n",
              "      --disabled-bg-color: #DDD;\n",
              "  }\n",
              "\n",
              "  [theme=dark] .colab-df-quickchart {\n",
              "      --bg-color: #3B4455;\n",
              "      --fill-color: #D2E3FC;\n",
              "      --hover-bg-color: #434B5C;\n",
              "      --hover-fill-color: #FFFFFF;\n",
              "      --disabled-bg-color: #3B4455;\n",
              "      --disabled-fill-color: #666;\n",
              "  }\n",
              "\n",
              "  .colab-df-quickchart {\n",
              "    background-color: var(--bg-color);\n",
              "    border: none;\n",
              "    border-radius: 50%;\n",
              "    cursor: pointer;\n",
              "    display: none;\n",
              "    fill: var(--fill-color);\n",
              "    height: 32px;\n",
              "    padding: 0;\n",
              "    width: 32px;\n",
              "  }\n",
              "\n",
              "  .colab-df-quickchart:hover {\n",
              "    background-color: var(--hover-bg-color);\n",
              "    box-shadow: 0 1px 2px rgba(60, 64, 67, 0.3), 0 1px 3px 1px rgba(60, 64, 67, 0.15);\n",
              "    fill: var(--button-hover-fill-color);\n",
              "  }\n",
              "\n",
              "  .colab-df-quickchart-complete:disabled,\n",
              "  .colab-df-quickchart-complete:disabled:hover {\n",
              "    background-color: var(--disabled-bg-color);\n",
              "    fill: var(--disabled-fill-color);\n",
              "    box-shadow: none;\n",
              "  }\n",
              "\n",
              "  .colab-df-spinner {\n",
              "    border: 2px solid var(--fill-color);\n",
              "    border-color: transparent;\n",
              "    border-bottom-color: var(--fill-color);\n",
              "    animation:\n",
              "      spin 1s steps(1) infinite;\n",
              "  }\n",
              "\n",
              "  @keyframes spin {\n",
              "    0% {\n",
              "      border-color: transparent;\n",
              "      border-bottom-color: var(--fill-color);\n",
              "      border-left-color: var(--fill-color);\n",
              "    }\n",
              "    20% {\n",
              "      border-color: transparent;\n",
              "      border-left-color: var(--fill-color);\n",
              "      border-top-color: var(--fill-color);\n",
              "    }\n",
              "    30% {\n",
              "      border-color: transparent;\n",
              "      border-left-color: var(--fill-color);\n",
              "      border-top-color: var(--fill-color);\n",
              "      border-right-color: var(--fill-color);\n",
              "    }\n",
              "    40% {\n",
              "      border-color: transparent;\n",
              "      border-right-color: var(--fill-color);\n",
              "      border-top-color: var(--fill-color);\n",
              "    }\n",
              "    60% {\n",
              "      border-color: transparent;\n",
              "      border-right-color: var(--fill-color);\n",
              "    }\n",
              "    80% {\n",
              "      border-color: transparent;\n",
              "      border-right-color: var(--fill-color);\n",
              "      border-bottom-color: var(--fill-color);\n",
              "    }\n",
              "    90% {\n",
              "      border-color: transparent;\n",
              "      border-bottom-color: var(--fill-color);\n",
              "    }\n",
              "  }\n",
              "</style>\n",
              "\n",
              "  <script>\n",
              "    async function quickchart(key) {\n",
              "      const quickchartButtonEl =\n",
              "        document.querySelector('#' + key + ' button');\n",
              "      quickchartButtonEl.disabled = true;  // To prevent multiple clicks.\n",
              "      quickchartButtonEl.classList.add('colab-df-spinner');\n",
              "      try {\n",
              "        const charts = await google.colab.kernel.invokeFunction(\n",
              "            'suggestCharts', [key], {});\n",
              "      } catch (error) {\n",
              "        console.error('Error during call to suggestCharts:', error);\n",
              "      }\n",
              "      quickchartButtonEl.classList.remove('colab-df-spinner');\n",
              "      quickchartButtonEl.classList.add('colab-df-quickchart-complete');\n",
              "    }\n",
              "    (() => {\n",
              "      let quickchartButtonEl =\n",
              "        document.querySelector('#df-5e207c06-8d3a-4b92-a8f4-ba40507c80f6 button');\n",
              "      quickchartButtonEl.style.display =\n",
              "        google.colab.kernel.accessAllowed ? 'block' : 'none';\n",
              "    })();\n",
              "  </script>\n",
              "</div>\n",
              "    </div>\n",
              "  </div>\n"
            ]
          },
          "metadata": {},
          "execution_count": 7
        }
      ]
    },
    {
      "cell_type": "code",
      "source": [
        "\"\"\"# Reference: https://www.kaggle.com/code/arjanso/reducing-dataframe-memory-size-by-65 @ARJANGROEN\n",
        "\n",
        " Reduce Memory Usage\n",
        "  This code is used to reduce memory usage of our dataframe useful when running\n",
        "  large datasets by reducing the size of the properties of the dataset by selecting\n",
        "  smaller datatypes\n",
        "\n",
        "\n",
        "def reduce_memory_usage(df):\n",
        "    start_mem = df.memory_usage().sum() / 1024**2\n",
        "    print('Memory usage of dataframe is {:.2f} MB'.format(start_mem))\n",
        "\n",
        "    for col in df.columns:\n",
        "        col_type = df[col].dtype.name\n",
        "        if ((col_type != 'datetime64[ns]') & (col_type != 'category')):\n",
        "            if (col_type != 'object'):\n",
        "                c_min = df[col].min()\n",
        "                c_max = df[col].max()\n",
        "\n",
        "                if str(col_type)[:3] == 'int':\n",
        "                    if c_min > np.iinfo(np.int8).min and c_max < np.iinfo(np.int8).max:\n",
        "                        df[col] = df[col].astype(np.int8)\n",
        "                    elif c_min > np.iinfo(np.int16).min and c_max < np.iinfo(np.int16).max:\n",
        "                        df[col] = df[col].astype(np.int16)\n",
        "                    elif c_min > np.iinfo(np.int32).min and c_max < np.iinfo(np.int32).max:\n",
        "                        df[col] = df[col].astype(np.int32)\n",
        "                    elif c_min > np.iinfo(np.int64).min and c_max < np.iinfo(np.int64).max:\n",
        "                        df[col] = df[col].astype(np.int64)\n",
        "                else:\n",
        "                    if c_min > np.finfo(np.float16).min and c_max < np.finfo(np.float16).max:\n",
        "                        df[col] = df[col].astype(np.float16)\n",
        "                    elif c_min > np.finfo(np.float32).min and c_max < np.finfo(np.float32).max:\n",
        "                        df[col] = df[col].astype(np.float32)\n",
        "                    else:\n",
        "                        pass\n",
        "            else:\n",
        "                df[col] = df[col].astype('category')\n",
        "    mem_usg = df.memory_usage().sum() / 1024**2\n",
        "    print(\"Memory usage became: \",mem_usg,\" MB\")\n",
        "\n",
        "    return df\"\"\""
      ],
      "metadata": {
        "id": "xNCsZOvkcsXo",
        "colab": {
          "base_uri": "https://localhost:8080/",
          "height": 232
        },
        "outputId": "6dbb8c7b-82f1-4787-f322-6fd0001b44b8"
      },
      "execution_count": null,
      "outputs": [
        {
          "output_type": "execute_result",
          "data": {
            "text/plain": [
              "'# Reference: https://www.kaggle.com/code/arjanso/reducing-dataframe-memory-size-by-65 @ARJANGROEN\\n\\n Reduce Memory Usage\\n  This code is used to reduce memory usage of our dataframe useful when running\\n  large datasets by reducing the size of the properties of the dataset by selecting\\n  smaller datatypes\\n\\n\\ndef reduce_memory_usage(df):\\n    start_mem = df.memory_usage().sum() / 1024**2\\n    print(\\'Memory usage of dataframe is {:.2f} MB\\'.format(start_mem))\\n\\n    for col in df.columns:\\n        col_type = df[col].dtype.name\\n        if ((col_type != \\'datetime64[ns]\\') & (col_type != \\'category\\')):\\n            if (col_type != \\'object\\'):\\n                c_min = df[col].min()\\n                c_max = df[col].max()\\n\\n                if str(col_type)[:3] == \\'int\\':\\n                    if c_min > np.iinfo(np.int8).min and c_max < np.iinfo(np.int8).max:\\n                        df[col] = df[col].astype(np.int8)\\n                    elif c_min > np.iinfo(np.int16).min and c_max < np.iinfo(np.int16).max:\\n                        df[col] = df[col].astype(np.int16)\\n                    elif c_min > np.iinfo(np.int32).min and c_max < np.iinfo(np.int32).max:\\n                        df[col] = df[col].astype(np.int32)\\n                    elif c_min > np.iinfo(np.int64).min and c_max < np.iinfo(np.int64).max:\\n                        df[col] = df[col].astype(np.int64)\\n                else:\\n                    if c_min > np.finfo(np.float16).min and c_max < np.finfo(np.float16).max:\\n                        df[col] = df[col].astype(np.float16)\\n                    elif c_min > np.finfo(np.float32).min and c_max < np.finfo(np.float32).max:\\n                        df[col] = df[col].astype(np.float32)\\n                    else:\\n                        pass\\n            else:\\n                df[col] = df[col].astype(\\'category\\')\\n    mem_usg = df.memory_usage().sum() / 1024**2\\n    print(\"Memory usage became: \",mem_usg,\" MB\")\\n\\n    return df'"
            ],
            "application/vnd.google.colaboratory.intrinsic+json": {
              "type": "string"
            }
          },
          "metadata": {},
          "execution_count": 7
        }
      ]
    },
    {
      "cell_type": "markdown",
      "source": [
        "### Data Transformation"
      ],
      "metadata": {
        "id": "GaC6jUkzh_mf"
      }
    },
    {
      "cell_type": "code",
      "source": [
        "# Define the list of columns to be dropped\n",
        "drop_columns = ['flowStartMilliseconds',\n",
        "                'flowEndMilliseconds',\n",
        "                'sourceIPv4Address',\n",
        "                'sourceMacAddress',\n",
        "                'destinationMacAddress'\n",
        "]\n",
        "\n",
        "# Drop the columns from the dataset\n",
        "df = df.drop(columns=drop_columns)"
      ],
      "metadata": {
        "id": "eknwUl2iFhlt"
      },
      "execution_count": 10,
      "outputs": []
    },
    {
      "cell_type": "code",
      "source": [
        "\"\"\"\n",
        "  Encode and transform categorical values since Decision Tree & Random Forest can't handle non-numeric\n",
        "  categorical data directly\n",
        "\"\"\"\n",
        "# Ordinal encoding for IP addresses\n",
        "def ip_to_ordinal(df, col_name):\n",
        "    # Generate unique codes for each unique IP address\n",
        "    codes, uniques = pd.factorize(df[col_name])\n",
        "    df[col_name] = codes\n",
        "    return df\n",
        "\n",
        "#df = ip_to_ordinal(df, 'sourceIPv4Address')\n",
        "df = ip_to_ordinal(df, 'destinationIPv4Address')\n",
        "\n",
        "# Converting hex to int\n",
        "for col in ['tcpSequenceNumber', 'reverseTcpSequenceNumber', 'vlanId', 'ipClassOfService']:\n",
        "    df[col] = df[col].apply(lambda x: int(x, 16))\n",
        "\n",
        "# One-hot encoding for categorical attributes without ordinal relationship\n",
        "one_hot_cols = ['flowAttributes', 'initialTCPFlags', 'unionTCPFlags', 'reverseInitialTCPFlags',\n",
        "                'reverseUnionTCPFlags', 'reverseFlowAttributes', 'collectorName', 'flowEndReason']\n",
        "\n",
        "df = pd.get_dummies(df, columns=one_hot_cols)\n",
        "\n",
        "# Label encoding for  the attributes that can be label encoded without any issues\n",
        "label_cols = ['firstEightNonEmptyPacketDirections', 'Device']\n",
        "label_encoders = {}\n",
        "\n",
        "for col in label_cols:\n",
        "    le = LabelEncoder()\n",
        "    df[col] = le.fit_transform(df[col])\n",
        "    label_encoders[col] = le\n"
      ],
      "metadata": {
        "id": "ZXSQ0tKx57Yy"
      },
      "execution_count": 11,
      "outputs": []
    },
    {
      "cell_type": "code",
      "source": [
        "# Separate the Device column as label\n",
        "labels_df = df['Device'].copy()\n",
        "\n",
        "# Drop the Device column from the original DataFrame\n",
        "df = df.drop(columns=['Device'])\n",
        "\n",
        "X = df\n",
        "y = labels_df\n",
        "\n",
        "# Split the data into training and testing sets\n",
        "X_train, X_test, y_train, y_test = train_test_split(X, y, test_size=0.2, random_state=42)"
      ],
      "metadata": {
        "id": "eAbWbDFcrB8B"
      },
      "execution_count": 12,
      "outputs": []
    },
    {
      "cell_type": "markdown",
      "source": [
        "## Applying the Decision Tree and Random Forest Algorithm"
      ],
      "metadata": {
        "id": "kIIrZ7JR2OK-"
      }
    },
    {
      "cell_type": "markdown",
      "source": [
        "#### Assessing the Performance of the Multi-Class Classifier\n",
        "- The print_score function is designmed to evaluate a multi-class classifier's performance using F1 score and ROC-AUC curve.\n",
        "- We're using the 'weighted' average for the F1 score and 'ovr' (One-vs-rest) approach for the multi-class ROC-AUC."
      ],
      "metadata": {
        "id": "19mQEzR8PDTs"
      }
    },
    {
      "cell_type": "code",
      "source": [
        "# Evaluate how well a classifier model is performing on the training data\n",
        "def print_score(cls, X_train, y_train, X_test, y_test, train=True):\n",
        "    if train:\n",
        "        X, y = X_train, y_train\n",
        "        data_type = \"Train\"\n",
        "    else:\n",
        "        X, y = X_test, y_test\n",
        "        data_type = \"Test\"\n",
        "\n",
        "    # The model 'cls' uses the features X to make predictions\n",
        "    pred_y = cls.predict(X)\n",
        "    prob = cls.predict_proba(X)\n",
        "\n",
        "    # Compute 'weighted' F1-Score\n",
        "    f1Score = f1_score(y, pred_y, average='weighted')\n",
        "    # Compute ROC-AUC for each class using 'One-vs-rest'\n",
        "    roc_auc = roc_auc_score(y, prob, average='weighted', multi_class='ovr')\n",
        "\n",
        "    # Print results\n",
        "    print(f\"=== {data_type} Data ===\")\n",
        "    print(f\"Weighted F1 Score = {f1Score:.4f}\\n\")\n",
        "    print(f'ROC-AUC score: {roc_auc:.4f}\\n')\n",
        "    print(\"_______________________________________________\")\n",
        "    print(classification_report(y, pred_y))\n",
        "    print(\"\\n\")"
      ],
      "metadata": {
        "id": "NoFHdzgf2UBN"
      },
      "execution_count": 13,
      "outputs": []
    },
    {
      "cell_type": "markdown",
      "source": [
        "Treating missing values: Using Imputation to fill in the missing values"
      ],
      "metadata": {
        "id": "1eBaqem_3fNE"
      }
    },
    {
      "cell_type": "code",
      "source": [
        "# Using imputation to fill in the missing values\n",
        "# Create impute object\n",
        "imputer = SimpleImputer()\n",
        "\n",
        "# Fit imputer on training data\n",
        "imputer.fit(X_train)\n",
        "\n",
        "# Impute training data\n",
        "X_train = imputer.transform(X_train)\n",
        "\n",
        "# Impute the test data\n",
        "X_test = imputer.transform(X_test)"
      ],
      "metadata": {
        "id": "9tjQUS1U3cb_"
      },
      "execution_count": 14,
      "outputs": []
    },
    {
      "cell_type": "markdown",
      "source": [
        "### Decision Tree Classifier"
      ],
      "metadata": {
        "id": "UfGHsX-H4Vjx"
      }
    },
    {
      "cell_type": "code",
      "source": [
        "# Create Decision Tree Classifier object\n",
        "dec_tree = DecisionTreeClassifier(random_state=42)\n",
        "\n",
        "# Fit the model to the training data\n",
        "dec_tree.fit(X_train, y_train)\n",
        "\n",
        "# Print model performance on training data\n",
        "print_score(dec_tree, X_train, y_train, X_test, y_test, train=True)\n",
        "\n",
        "# Print model performance on test data\n",
        "print_score(dec_tree, X_train, y_train, X_test, y_test, train=False)"
      ],
      "metadata": {
        "colab": {
          "base_uri": "https://localhost:8080/"
        },
        "id": "f1GVAaVbUPaL",
        "outputId": "117f5c38-6c5f-4903-b012-929e3c6a7308"
      },
      "execution_count": 15,
      "outputs": [
        {
          "output_type": "stream",
          "name": "stdout",
          "text": [
            "=== Train Data ===\n",
            "Weighted F1 Score = 0.9999\n",
            "\n",
            "ROC-AUC score: 1.0000\n",
            "\n",
            "_______________________________________________\n",
            "              precision    recall  f1-score   support\n",
            "\n",
            "           0       1.00      1.00      1.00       794\n",
            "           1       1.00      1.00      1.00       798\n",
            "           2       1.00      1.00      1.00       786\n",
            "           3       1.00      1.00      1.00       802\n",
            "           4       1.00      1.00      1.00       792\n",
            "           5       1.00      1.00      1.00       781\n",
            "           6       1.00      1.00      1.00       799\n",
            "           7       1.00      1.00      1.00       807\n",
            "           8       1.00      1.00      1.00       820\n",
            "           9       1.00      1.00      1.00       797\n",
            "          10       1.00      1.00      1.00       831\n",
            "          11       1.00      1.00      1.00       806\n",
            "          12       1.00      1.00      1.00       814\n",
            "          13       1.00      1.00      1.00       804\n",
            "          14       1.00      1.00      1.00       786\n",
            "          15       1.00      1.00      1.00       775\n",
            "          16       1.00      1.00      1.00       795\n",
            "          17       1.00      1.00      1.00       806\n",
            "          18       1.00      1.00      1.00       785\n",
            "          19       1.00      1.00      1.00       827\n",
            "          20       1.00      1.00      1.00       790\n",
            "          21       1.00      1.00      1.00       805\n",
            "\n",
            "    accuracy                           1.00     17600\n",
            "   macro avg       1.00      1.00      1.00     17600\n",
            "weighted avg       1.00      1.00      1.00     17600\n",
            "\n",
            "\n",
            "\n",
            "=== Test Data ===\n",
            "Weighted F1 Score = 0.9832\n",
            "\n",
            "ROC-AUC score: 0.9912\n",
            "\n",
            "_______________________________________________\n",
            "              precision    recall  f1-score   support\n",
            "\n",
            "           0       0.99      0.98      0.98       206\n",
            "           1       0.94      0.98      0.96       202\n",
            "           2       0.98      0.98      0.98       214\n",
            "           3       1.00      0.99      1.00       198\n",
            "           4       1.00      1.00      1.00       208\n",
            "           5       0.99      0.97      0.98       219\n",
            "           6       1.00      1.00      1.00       201\n",
            "           7       0.97      0.97      0.97       193\n",
            "           8       0.97      0.98      0.98       180\n",
            "           9       0.97      0.99      0.98       203\n",
            "          10       0.99      1.00      1.00       169\n",
            "          11       0.97      0.97      0.97       194\n",
            "          12       0.98      0.99      0.98       186\n",
            "          13       0.97      0.94      0.96       196\n",
            "          14       1.00      1.00      1.00       214\n",
            "          15       0.96      0.96      0.96       225\n",
            "          16       1.00      1.00      1.00       205\n",
            "          17       1.00      1.00      1.00       194\n",
            "          18       1.00      0.99      0.99       215\n",
            "          19       0.96      0.97      0.96       173\n",
            "          20       1.00      1.00      1.00       210\n",
            "          21       0.98      0.98      0.98       195\n",
            "\n",
            "    accuracy                           0.98      4400\n",
            "   macro avg       0.98      0.98      0.98      4400\n",
            "weighted avg       0.98      0.98      0.98      4400\n",
            "\n",
            "\n",
            "\n"
          ]
        }
      ]
    },
    {
      "cell_type": "markdown",
      "source": [
        "### Random Forest"
      ],
      "metadata": {
        "id": "0BLv63P1les8"
      }
    },
    {
      "cell_type": "markdown",
      "source": [
        "### Random Forest Hyperparameter tuning"
      ],
      "metadata": {
        "id": "4RpTgRCrvzeV"
      }
    },
    {
      "cell_type": "code",
      "source": [
        "features = list(X_train.columns)\n",
        "# Extract feature importance\n",
        "feature_importance_rf = random_search.feature_importances_\n",
        "feature_importance = pd.DataFrame({'Feature': features, 'Importance': feature_importance_rf})"
      ],
      "metadata": {
        "colab": {
          "base_uri": "https://localhost:8080/",
          "height": 214
        },
        "id": "H-tHyNm3r-8x",
        "outputId": "e2584e55-cab9-403c-fcf9-1736155f9113"
      },
      "execution_count": 17,
      "outputs": [
        {
          "output_type": "error",
          "ename": "AttributeError",
          "evalue": "ignored",
          "traceback": [
            "\u001b[0;31m---------------------------------------------------------------------------\u001b[0m",
            "\u001b[0;31mAttributeError\u001b[0m                            Traceback (most recent call last)",
            "\u001b[0;32m<ipython-input-17-7a06c568f971>\u001b[0m in \u001b[0;36m<cell line: 1>\u001b[0;34m()\u001b[0m\n\u001b[0;32m----> 1\u001b[0;31m \u001b[0mfeatures\u001b[0m \u001b[0;34m=\u001b[0m \u001b[0mlist\u001b[0m\u001b[0;34m(\u001b[0m\u001b[0mX_train\u001b[0m\u001b[0;34m.\u001b[0m\u001b[0mcolumns\u001b[0m\u001b[0;34m)\u001b[0m\u001b[0;34m\u001b[0m\u001b[0;34m\u001b[0m\u001b[0m\n\u001b[0m",
            "\u001b[0;31mAttributeError\u001b[0m: 'numpy.ndarray' object has no attribute 'columns'"
          ]
        }
      ]
    },
    {
      "cell_type": "code",
      "source": [
        "# Defining the hyperparameters\n",
        "param_dist = {\n",
        "    'n_estimators': randint(50, 250),\n",
        "    'max_depth': [None] + list(randint(5, 50).rvs(10)),\n",
        "    'min_samples_split': randint(2, 50),\n",
        "    'min_samples_leaf': randint(1, 50),\n",
        "    'bootstrap': [True, False],\n",
        "    'max_features': ['auto', 'sqrt', 'log2'],\n",
        "    'class_weight': [None, 'balanced']\n",
        "}\n",
        "\n",
        "# Initializing the Random Forest Classifier\n",
        "rf = RandomForestClassifier(random_state=42)\n",
        "\n",
        "# Initializing the RandomizedSearchCV\n",
        "random_search = RandomizedSearchCV(estimator=rf, param_distributions=param_dist,\n",
        "                                   n_iter=10, scoring='f1_weighted',\n",
        "                                   cv=5, random_state=42)\n",
        "\n",
        "# Fit the RandomizedSearchCV onto the train dataset\n",
        "random_search.fit(X_train, y_train)\n",
        "\n",
        "\n",
        "\n",
        "# Print the best parameters from the RandomizedSearchCV\n",
        "random_cv = random_search.best_estimator_\n",
        "print(f\"Best parameters: {random_search.best_params_}\")\n"
      ],
      "metadata": {
        "colab": {
          "base_uri": "https://localhost:8080/"
        },
        "id": "UV3Hc2XWv342",
        "outputId": "ed7522bf-8e53-454a-915f-02f00f7b793d"
      },
      "execution_count": 16,
      "outputs": [
        {
          "output_type": "stream",
          "name": "stderr",
          "text": [
            "/usr/local/lib/python3.10/dist-packages/sklearn/ensemble/_forest.py:424: FutureWarning: `max_features='auto'` has been deprecated in 1.1 and will be removed in 1.3. To keep the past behaviour, explicitly set `max_features='sqrt'` or remove this parameter as it is also the default value for RandomForestClassifiers and ExtraTreesClassifiers.\n",
            "  warn(\n",
            "/usr/local/lib/python3.10/dist-packages/sklearn/ensemble/_forest.py:424: FutureWarning: `max_features='auto'` has been deprecated in 1.1 and will be removed in 1.3. To keep the past behaviour, explicitly set `max_features='sqrt'` or remove this parameter as it is also the default value for RandomForestClassifiers and ExtraTreesClassifiers.\n",
            "  warn(\n",
            "/usr/local/lib/python3.10/dist-packages/sklearn/ensemble/_forest.py:424: FutureWarning: `max_features='auto'` has been deprecated in 1.1 and will be removed in 1.3. To keep the past behaviour, explicitly set `max_features='sqrt'` or remove this parameter as it is also the default value for RandomForestClassifiers and ExtraTreesClassifiers.\n",
            "  warn(\n",
            "/usr/local/lib/python3.10/dist-packages/sklearn/ensemble/_forest.py:424: FutureWarning: `max_features='auto'` has been deprecated in 1.1 and will be removed in 1.3. To keep the past behaviour, explicitly set `max_features='sqrt'` or remove this parameter as it is also the default value for RandomForestClassifiers and ExtraTreesClassifiers.\n",
            "  warn(\n",
            "/usr/local/lib/python3.10/dist-packages/sklearn/ensemble/_forest.py:424: FutureWarning: `max_features='auto'` has been deprecated in 1.1 and will be removed in 1.3. To keep the past behaviour, explicitly set `max_features='sqrt'` or remove this parameter as it is also the default value for RandomForestClassifiers and ExtraTreesClassifiers.\n",
            "  warn(\n",
            "/usr/local/lib/python3.10/dist-packages/sklearn/ensemble/_forest.py:424: FutureWarning: `max_features='auto'` has been deprecated in 1.1 and will be removed in 1.3. To keep the past behaviour, explicitly set `max_features='sqrt'` or remove this parameter as it is also the default value for RandomForestClassifiers and ExtraTreesClassifiers.\n",
            "  warn(\n",
            "/usr/local/lib/python3.10/dist-packages/sklearn/ensemble/_forest.py:424: FutureWarning: `max_features='auto'` has been deprecated in 1.1 and will be removed in 1.3. To keep the past behaviour, explicitly set `max_features='sqrt'` or remove this parameter as it is also the default value for RandomForestClassifiers and ExtraTreesClassifiers.\n",
            "  warn(\n",
            "/usr/local/lib/python3.10/dist-packages/sklearn/ensemble/_forest.py:424: FutureWarning: `max_features='auto'` has been deprecated in 1.1 and will be removed in 1.3. To keep the past behaviour, explicitly set `max_features='sqrt'` or remove this parameter as it is also the default value for RandomForestClassifiers and ExtraTreesClassifiers.\n",
            "  warn(\n",
            "/usr/local/lib/python3.10/dist-packages/sklearn/ensemble/_forest.py:424: FutureWarning: `max_features='auto'` has been deprecated in 1.1 and will be removed in 1.3. To keep the past behaviour, explicitly set `max_features='sqrt'` or remove this parameter as it is also the default value for RandomForestClassifiers and ExtraTreesClassifiers.\n",
            "  warn(\n",
            "/usr/local/lib/python3.10/dist-packages/sklearn/ensemble/_forest.py:424: FutureWarning: `max_features='auto'` has been deprecated in 1.1 and will be removed in 1.3. To keep the past behaviour, explicitly set `max_features='sqrt'` or remove this parameter as it is also the default value for RandomForestClassifiers and ExtraTreesClassifiers.\n",
            "  warn(\n",
            "/usr/local/lib/python3.10/dist-packages/sklearn/ensemble/_forest.py:424: FutureWarning: `max_features='auto'` has been deprecated in 1.1 and will be removed in 1.3. To keep the past behaviour, explicitly set `max_features='sqrt'` or remove this parameter as it is also the default value for RandomForestClassifiers and ExtraTreesClassifiers.\n",
            "  warn(\n",
            "/usr/local/lib/python3.10/dist-packages/sklearn/ensemble/_forest.py:424: FutureWarning: `max_features='auto'` has been deprecated in 1.1 and will be removed in 1.3. To keep the past behaviour, explicitly set `max_features='sqrt'` or remove this parameter as it is also the default value for RandomForestClassifiers and ExtraTreesClassifiers.\n",
            "  warn(\n",
            "/usr/local/lib/python3.10/dist-packages/sklearn/ensemble/_forest.py:424: FutureWarning: `max_features='auto'` has been deprecated in 1.1 and will be removed in 1.3. To keep the past behaviour, explicitly set `max_features='sqrt'` or remove this parameter as it is also the default value for RandomForestClassifiers and ExtraTreesClassifiers.\n",
            "  warn(\n",
            "/usr/local/lib/python3.10/dist-packages/sklearn/ensemble/_forest.py:424: FutureWarning: `max_features='auto'` has been deprecated in 1.1 and will be removed in 1.3. To keep the past behaviour, explicitly set `max_features='sqrt'` or remove this parameter as it is also the default value for RandomForestClassifiers and ExtraTreesClassifiers.\n",
            "  warn(\n",
            "/usr/local/lib/python3.10/dist-packages/sklearn/ensemble/_forest.py:424: FutureWarning: `max_features='auto'` has been deprecated in 1.1 and will be removed in 1.3. To keep the past behaviour, explicitly set `max_features='sqrt'` or remove this parameter as it is also the default value for RandomForestClassifiers and ExtraTreesClassifiers.\n",
            "  warn(\n",
            "/usr/local/lib/python3.10/dist-packages/sklearn/ensemble/_forest.py:424: FutureWarning: `max_features='auto'` has been deprecated in 1.1 and will be removed in 1.3. To keep the past behaviour, explicitly set `max_features='sqrt'` or remove this parameter as it is also the default value for RandomForestClassifiers and ExtraTreesClassifiers.\n",
            "  warn(\n",
            "/usr/local/lib/python3.10/dist-packages/sklearn/ensemble/_forest.py:424: FutureWarning: `max_features='auto'` has been deprecated in 1.1 and will be removed in 1.3. To keep the past behaviour, explicitly set `max_features='sqrt'` or remove this parameter as it is also the default value for RandomForestClassifiers and ExtraTreesClassifiers.\n",
            "  warn(\n",
            "/usr/local/lib/python3.10/dist-packages/sklearn/ensemble/_forest.py:424: FutureWarning: `max_features='auto'` has been deprecated in 1.1 and will be removed in 1.3. To keep the past behaviour, explicitly set `max_features='sqrt'` or remove this parameter as it is also the default value for RandomForestClassifiers and ExtraTreesClassifiers.\n",
            "  warn(\n",
            "/usr/local/lib/python3.10/dist-packages/sklearn/ensemble/_forest.py:424: FutureWarning: `max_features='auto'` has been deprecated in 1.1 and will be removed in 1.3. To keep the past behaviour, explicitly set `max_features='sqrt'` or remove this parameter as it is also the default value for RandomForestClassifiers and ExtraTreesClassifiers.\n",
            "  warn(\n",
            "/usr/local/lib/python3.10/dist-packages/sklearn/ensemble/_forest.py:424: FutureWarning: `max_features='auto'` has been deprecated in 1.1 and will be removed in 1.3. To keep the past behaviour, explicitly set `max_features='sqrt'` or remove this parameter as it is also the default value for RandomForestClassifiers and ExtraTreesClassifiers.\n",
            "  warn(\n",
            "/usr/local/lib/python3.10/dist-packages/sklearn/ensemble/_forest.py:424: FutureWarning: `max_features='auto'` has been deprecated in 1.1 and will be removed in 1.3. To keep the past behaviour, explicitly set `max_features='sqrt'` or remove this parameter as it is also the default value for RandomForestClassifiers and ExtraTreesClassifiers.\n",
            "  warn(\n"
          ]
        },
        {
          "output_type": "stream",
          "name": "stdout",
          "text": [
            "Best parameters: {'bootstrap': False, 'class_weight': None, 'max_depth': 38, 'max_features': 'auto', 'min_samples_leaf': 2, 'min_samples_split': 25, 'n_estimators': 207}\n"
          ]
        }
      ]
    },
    {
      "cell_type": "code",
      "source": [
        "# Evaluate the best Random Forest model for the test dataset\n",
        "print_score(random_cv, X_train, y_train, X_test, y_test, train=False)"
      ],
      "metadata": {
        "colab": {
          "base_uri": "https://localhost:8080/"
        },
        "id": "o87YPfOCJekA",
        "outputId": "7397fd69-9b35-4c5d-f25a-ce6ea1b57c2a"
      },
      "execution_count": null,
      "outputs": [
        {
          "output_type": "stream",
          "name": "stdout",
          "text": [
            "=== Test Data ===\n",
            "Weighted F1 Score = 0.9828\n",
            "\n",
            "ROC-AUC score: 0.9990\n",
            "\n",
            "_______________________________________________\n",
            "              precision    recall  f1-score   support\n",
            "\n",
            "           0       0.99      0.99      0.99        90\n",
            "           1       0.99      1.00      0.99        99\n",
            "           2       0.94      0.93      0.94       105\n",
            "           3       1.00      0.99      1.00       107\n",
            "           4       1.00      1.00      1.00       105\n",
            "           5       1.00      0.99      1.00       104\n",
            "           6       1.00      0.96      0.98       121\n",
            "           7       1.00      0.98      0.99       106\n",
            "           8       1.00      0.99      1.00       105\n",
            "           9       0.99      1.00      1.00       101\n",
            "          10       1.00      1.00      1.00        85\n",
            "          11       0.98      1.00      0.99        88\n",
            "          12       1.00      0.94      0.97       103\n",
            "          13       0.93      0.95      0.94       101\n",
            "          14       1.00      1.00      1.00        94\n",
            "          15       0.99      0.99      0.99        84\n",
            "          16       0.99      0.98      0.99       101\n",
            "          17       1.00      1.00      1.00        95\n",
            "          18       0.98      0.97      0.97        86\n",
            "          19       0.89      0.97      0.93       106\n",
            "          20       0.99      1.00      1.00       103\n",
            "          21       0.98      1.00      0.99       111\n",
            "\n",
            "    accuracy                           0.98      2200\n",
            "   macro avg       0.98      0.98      0.98      2200\n",
            "weighted avg       0.98      0.98      0.98      2200\n",
            "\n",
            "\n",
            "\n"
          ]
        }
      ]
    },
    {
      "cell_type": "markdown",
      "source": [
        "#### Feature Importance\n",
        "Lets try look at the feature importances of the random forest"
      ],
      "metadata": {
        "id": "glOrHuY3n2Jz"
      }
    },
    {
      "cell_type": "code",
      "source": [],
      "metadata": {
        "id": "J11EwMrGoHD3"
      },
      "execution_count": null,
      "outputs": []
    },
    {
      "cell_type": "markdown",
      "source": [
        "### Logistic Regression"
      ],
      "metadata": {
        "id": "6HyJ0RQ97ytl"
      }
    },
    {
      "cell_type": "code",
      "source": [
        "# Scale Features in Logistic Regression\n",
        "# Initialize the scaler\n",
        "scaler = StandardScaler()\n",
        "\n",
        "# Fit the scaler only on the training data\n",
        "X_train_scaled = scaler.fit_transform(X_train)\n",
        "\n",
        "# Use the scaler to transform the test data\n",
        "X_test_scaled = scaler.transform(X_test)"
      ],
      "metadata": {
        "id": "VDxcFwbG72Cx"
      },
      "execution_count": null,
      "outputs": []
    },
    {
      "cell_type": "code",
      "source": [
        "# Initialize the logistic regression model\n",
        "logistic_reg = LogisticRegression(max_iter=1000, multi_class='ovr', solver='liblinear', random_state=42)\n",
        "\n",
        "# Train the logistic regression model\n",
        "logistic_reg.fit(X_train_scaled, y_train)\n"
      ],
      "metadata": {
        "colab": {
          "base_uri": "https://localhost:8080/",
          "height": 92
        },
        "id": "-Z1FFVv8-xQw",
        "outputId": "7cfb9b23-ab62-4294-d2a7-e779a4a83153"
      },
      "execution_count": null,
      "outputs": [
        {
          "output_type": "execute_result",
          "data": {
            "text/plain": [
              "LogisticRegression(max_iter=1000, multi_class='ovr', random_state=42,\n",
              "                   solver='liblinear')"
            ],
            "text/html": [
              "<style>#sk-container-id-1 {color: black;background-color: white;}#sk-container-id-1 pre{padding: 0;}#sk-container-id-1 div.sk-toggleable {background-color: white;}#sk-container-id-1 label.sk-toggleable__label {cursor: pointer;display: block;width: 100%;margin-bottom: 0;padding: 0.3em;box-sizing: border-box;text-align: center;}#sk-container-id-1 label.sk-toggleable__label-arrow:before {content: \"▸\";float: left;margin-right: 0.25em;color: #696969;}#sk-container-id-1 label.sk-toggleable__label-arrow:hover:before {color: black;}#sk-container-id-1 div.sk-estimator:hover label.sk-toggleable__label-arrow:before {color: black;}#sk-container-id-1 div.sk-toggleable__content {max-height: 0;max-width: 0;overflow: hidden;text-align: left;background-color: #f0f8ff;}#sk-container-id-1 div.sk-toggleable__content pre {margin: 0.2em;color: black;border-radius: 0.25em;background-color: #f0f8ff;}#sk-container-id-1 input.sk-toggleable__control:checked~div.sk-toggleable__content {max-height: 200px;max-width: 100%;overflow: auto;}#sk-container-id-1 input.sk-toggleable__control:checked~label.sk-toggleable__label-arrow:before {content: \"▾\";}#sk-container-id-1 div.sk-estimator input.sk-toggleable__control:checked~label.sk-toggleable__label {background-color: #d4ebff;}#sk-container-id-1 div.sk-label input.sk-toggleable__control:checked~label.sk-toggleable__label {background-color: #d4ebff;}#sk-container-id-1 input.sk-hidden--visually {border: 0;clip: rect(1px 1px 1px 1px);clip: rect(1px, 1px, 1px, 1px);height: 1px;margin: -1px;overflow: hidden;padding: 0;position: absolute;width: 1px;}#sk-container-id-1 div.sk-estimator {font-family: monospace;background-color: #f0f8ff;border: 1px dotted black;border-radius: 0.25em;box-sizing: border-box;margin-bottom: 0.5em;}#sk-container-id-1 div.sk-estimator:hover {background-color: #d4ebff;}#sk-container-id-1 div.sk-parallel-item::after {content: \"\";width: 100%;border-bottom: 1px solid gray;flex-grow: 1;}#sk-container-id-1 div.sk-label:hover label.sk-toggleable__label {background-color: #d4ebff;}#sk-container-id-1 div.sk-serial::before {content: \"\";position: absolute;border-left: 1px solid gray;box-sizing: border-box;top: 0;bottom: 0;left: 50%;z-index: 0;}#sk-container-id-1 div.sk-serial {display: flex;flex-direction: column;align-items: center;background-color: white;padding-right: 0.2em;padding-left: 0.2em;position: relative;}#sk-container-id-1 div.sk-item {position: relative;z-index: 1;}#sk-container-id-1 div.sk-parallel {display: flex;align-items: stretch;justify-content: center;background-color: white;position: relative;}#sk-container-id-1 div.sk-item::before, #sk-container-id-1 div.sk-parallel-item::before {content: \"\";position: absolute;border-left: 1px solid gray;box-sizing: border-box;top: 0;bottom: 0;left: 50%;z-index: -1;}#sk-container-id-1 div.sk-parallel-item {display: flex;flex-direction: column;z-index: 1;position: relative;background-color: white;}#sk-container-id-1 div.sk-parallel-item:first-child::after {align-self: flex-end;width: 50%;}#sk-container-id-1 div.sk-parallel-item:last-child::after {align-self: flex-start;width: 50%;}#sk-container-id-1 div.sk-parallel-item:only-child::after {width: 0;}#sk-container-id-1 div.sk-dashed-wrapped {border: 1px dashed gray;margin: 0 0.4em 0.5em 0.4em;box-sizing: border-box;padding-bottom: 0.4em;background-color: white;}#sk-container-id-1 div.sk-label label {font-family: monospace;font-weight: bold;display: inline-block;line-height: 1.2em;}#sk-container-id-1 div.sk-label-container {text-align: center;}#sk-container-id-1 div.sk-container {/* jupyter's `normalize.less` sets `[hidden] { display: none; }` but bootstrap.min.css set `[hidden] { display: none !important; }` so we also need the `!important` here to be able to override the default hidden behavior on the sphinx rendered scikit-learn.org. See: https://github.com/scikit-learn/scikit-learn/issues/21755 */display: inline-block !important;position: relative;}#sk-container-id-1 div.sk-text-repr-fallback {display: none;}</style><div id=\"sk-container-id-1\" class=\"sk-top-container\"><div class=\"sk-text-repr-fallback\"><pre>LogisticRegression(max_iter=1000, multi_class=&#x27;ovr&#x27;, random_state=42,\n",
              "                   solver=&#x27;liblinear&#x27;)</pre><b>In a Jupyter environment, please rerun this cell to show the HTML representation or trust the notebook. <br />On GitHub, the HTML representation is unable to render, please try loading this page with nbviewer.org.</b></div><div class=\"sk-container\" hidden><div class=\"sk-item\"><div class=\"sk-estimator sk-toggleable\"><input class=\"sk-toggleable__control sk-hidden--visually\" id=\"sk-estimator-id-1\" type=\"checkbox\" checked><label for=\"sk-estimator-id-1\" class=\"sk-toggleable__label sk-toggleable__label-arrow\">LogisticRegression</label><div class=\"sk-toggleable__content\"><pre>LogisticRegression(max_iter=1000, multi_class=&#x27;ovr&#x27;, random_state=42,\n",
              "                   solver=&#x27;liblinear&#x27;)</pre></div></div></div></div></div>"
            ]
          },
          "metadata": {},
          "execution_count": 35
        }
      ]
    },
    {
      "cell_type": "code",
      "source": [
        "# Evaluate the logistic regression model on training data\n",
        "print_score(logistic_reg, X_train_scaled, y_train, X_test_scaled, y_test, train=True)\n",
        "\n",
        "# Evaluate the logistic regression model on test data\n",
        "print_score(logistic_reg, X_train_scaled, y_train, X_test_scaled, y_test, train=False)"
      ],
      "metadata": {
        "colab": {
          "base_uri": "https://localhost:8080/"
        },
        "id": "xZCspK36_Dil",
        "outputId": "42a1ba33-e2e6-42ad-87ae-010bc4ca7540"
      },
      "execution_count": null,
      "outputs": [
        {
          "output_type": "stream",
          "name": "stdout",
          "text": [
            "=== Train Data ===\n",
            "Weighted F1 Score = 0.5975\n",
            "\n",
            "ROC-AUC score: 0.9592\n",
            "\n",
            "_______________________________________________\n",
            "              precision    recall  f1-score   support\n",
            "\n",
            "           0       0.92      0.52      0.66       910\n",
            "           1       0.64      0.12      0.20       901\n",
            "           2       0.99      0.65      0.79       895\n",
            "           3       0.38      0.20      0.26       893\n",
            "           4       0.19      0.75      0.30       895\n",
            "           5       0.52      0.99      0.68       896\n",
            "           6       0.86      0.91      0.89       879\n",
            "           7       0.35      0.03      0.06       894\n",
            "           8       0.58      0.93      0.71       895\n",
            "           9       0.92      0.06      0.12       899\n",
            "          10       1.00      1.00      1.00       915\n",
            "          11       0.55      0.82      0.66       912\n",
            "          12       0.79      0.84      0.81       897\n",
            "          13       0.86      0.11      0.19       899\n",
            "          14       1.00      1.00      1.00       906\n",
            "          15       0.65      0.20      0.30       916\n",
            "          16       0.95      0.97      0.96       899\n",
            "          17       0.98      1.00      0.99       905\n",
            "          18       0.73      0.97      0.83       914\n",
            "          19       0.59      0.52      0.55       894\n",
            "          20       0.88      0.80      0.84       897\n",
            "          21       0.29      0.35      0.32       889\n",
            "\n",
            "    accuracy                           0.63     19800\n",
            "   macro avg       0.71      0.62      0.60     19800\n",
            "weighted avg       0.71      0.63      0.60     19800\n",
            "\n",
            "\n",
            "\n",
            "=== Test Data ===\n",
            "Weighted F1 Score = 0.5935\n",
            "\n",
            "ROC-AUC score: 0.9569\n",
            "\n",
            "_______________________________________________\n",
            "              precision    recall  f1-score   support\n",
            "\n",
            "           0       0.93      0.61      0.74        90\n",
            "           1       0.71      0.12      0.21        99\n",
            "           2       0.99      0.68      0.80       105\n",
            "           3       0.30      0.18      0.22       107\n",
            "           4       0.18      0.70      0.29       105\n",
            "           5       0.52      0.96      0.67       104\n",
            "           6       0.90      0.94      0.92       121\n",
            "           7       0.29      0.02      0.04       106\n",
            "           8       0.55      0.93      0.70       105\n",
            "           9       0.75      0.06      0.11       101\n",
            "          10       1.00      1.00      1.00        85\n",
            "          11       0.61      0.82      0.70        88\n",
            "          12       0.83      0.80      0.81       103\n",
            "          13       0.78      0.07      0.13       101\n",
            "          14       0.98      1.00      0.99        94\n",
            "          15       0.68      0.27      0.39        84\n",
            "          16       0.95      0.97      0.96       101\n",
            "          17       0.96      0.99      0.97        95\n",
            "          18       0.69      0.94      0.79        86\n",
            "          19       0.61      0.56      0.58       106\n",
            "          20       0.85      0.77      0.81       103\n",
            "          21       0.35      0.38      0.37       111\n",
            "\n",
            "    accuracy                           0.62      2200\n",
            "   macro avg       0.70      0.63      0.60      2200\n",
            "weighted avg       0.69      0.62      0.59      2200\n",
            "\n",
            "\n",
            "\n"
          ]
        }
      ]
    },
    {
      "cell_type": "markdown",
      "source": [
        "### LightGBM"
      ],
      "metadata": {
        "id": "CheuARD5EFkX"
      }
    },
    {
      "cell_type": "code",
      "source": [],
      "metadata": {
        "id": "AFkzV1B5EHdJ"
      },
      "execution_count": null,
      "outputs": []
    }
  ]
}